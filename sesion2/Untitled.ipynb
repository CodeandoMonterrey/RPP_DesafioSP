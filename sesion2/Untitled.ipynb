{
 "cells": [
  {
   "cell_type": "code",
   "execution_count": 2,
   "metadata": {
    "collapsed": false
   },
   "outputs": [],
   "source": [
    "import requests"
   ]
  },
  {
   "cell_type": "code",
   "execution_count": 4,
   "metadata": {
    "collapsed": false
   },
   "outputs": [],
   "source": [
    "data = requests.get(\"http://tienda.mercadolibre.com.mx/nintendo\")"
   ]
  },
  {
   "cell_type": "code",
   "execution_count": 5,
   "metadata": {
    "collapsed": false
   },
   "outputs": [
    {
     "name": "stdout",
     "output_type": "stream",
     "text": [
      "<Response [200]>\n"
     ]
    }
   ],
   "source": [
    "print(data)"
   ]
  },
  {
   "cell_type": "code",
   "execution_count": 11,
   "metadata": {
    "collapsed": false
   },
   "outputs": [],
   "source": [
    "data = requests.get('http://www.mercadolibre.com.mx/nintendo')"
   ]
  },
  {
   "cell_type": "code",
   "execution_count": 12,
   "metadata": {
    "collapsed": false
   },
   "outputs": [
    {
     "data": {
      "text/plain": [
       "<Response [404]>"
      ]
     },
     "execution_count": 12,
     "metadata": {},
     "output_type": "execute_result"
    }
   ],
   "source": [
    "data"
   ]
  },
  {
   "cell_type": "code",
   "execution_count": 13,
   "metadata": {
    "collapsed": false
   },
   "outputs": [
    {
     "data": {
      "text/plain": [
       "b'<!DOCTYPE html >\\n<html lang=\"es\">\\n<head>\\n<meta http-equiv=\"Content-Type\" content=\"text/html; charset=iso-8859-1\" />\\n<title>MercadoLibre M\\xe9xico - Parece que esta p\\xe1gina no existe</title>\\n<link href=\"http://www.mercadolibre.com/org-img/mkt/error/css/error_404.css\" type=\"text/css\" rel=\"stylesheet\"/>\\n<link href=\"http://www.mx.mlstatic.com/jm/ml.api.webcomponent.CascadingStyleSheetsController?name=CSSMLKADL&amp;v=20100812_1650\" type=\"text/css\" rel=\"stylesheet\">\\n<meta name=\"robots\" content=\"noindex,nofollow\" />\\n<base href=\"http://www.mercadolibre.com.mx/\" />\\n</head>\\n<body>\\n<script> \\nfunction getCookieValue(name) {\\n\\tvar start=document.cookie.indexOf(name+\"=\");\\n\\tvar len=start+name.length+1;\\n\\tif (start == -1)\\n\\t\\treturn null;\\n\\tvar end=document.cookie.indexOf(\";\",len);\\n\\tif (end==-1)\\n\\t\\tend=document.cookie.length;\\n\\treturn unescape(document.cookie.substring(len,end));\\n}\\n \\nfunction logoutTargetUrl() {\\n\\tvar baseUrl = document.getElementsByTagName(\\'base\\')[0].href;\\n\\tbaseUrl = baseUrl.substring(0,baseUrl.indexOf(\"/\",7));\\n\\tvar redirectUrl = oldUrl.substring(oldUrl.indexOf(\"/\",7)+1);\\n\\twindow.location=baseUrl+\"/jm/logout?urlTo=\"+escape(redirectUrl);\\n}\\n \\nfunction setLog(lblLogout){\\n\\tck = getCookieValue(\"orguserid\");\\n\\tif (ck!=null && ck.length >= 4 ) {\\n\\t\\tdocument.write(\"<a target=\\\\\"_top\\\\\" href=\\\\\"javascript:logoutTargetUrl();\\\\\" class=\\\\\"hpcateg\\\\\" id=\\\\\"MENU:SALIR\\\\\">\"+lblLogout+\"</a>\");\\n\\t}\\n}\\nfunction setReg(lblRegistrarse){\\n\\tck = getCookieValue(\"orguserid\");\\n\\tif (ck!=null && ck.length >= 4 ) {\\n\\t\\n\\t} else {\\n\\t\\tdocument.write(\"<a href=\\\\\"/jm/reg\\\\\" target=\\\\\"_blank\\\\\" rel=\\\\\"nofollow\\\\\">\"+lblRegistrarse+\"</a>\");\\n\\t}\\n}\\n</script> \\n<div id=\"layout\">\\n  <div class=\"menu\">\\n\\t<a href=\"/\">\\n      <div class=\"logo\">\\n        <h1>MercadoLibre. Donde compras y vendes.</h1>\\n      </div>\\n      </a>\\n      <div class=\"sub\">\\n        <p><a id=\"lnk-inicio\" href=\"/\">Inicio</a>\\n          <script>setLog(\\'Salir\\');</script>\\n          <span>|</span><a href=\"/ayuda_home\">Ayuda</a><span>|</span><a rel=\"nofollow\" href=\"/jm/myML\">Mi MercadoLibre</a><span>|</span><a rel=\"nofollow\" href=\"/jm/sell\">Vender</a><span>|</span>\\n          <script>setReg(\"Inscr\\xedbete\");</script>\\n        <div class=\"buscador\">\\n          <form method=\"get\" action=\"/jm/search\" id=\"formBuscar\">\\n            <input type=\"hidden\" value=\"L\" name=\"as_display_type\">\\n            <label accesskey=\"tb\" for=\"as_word\"><span>Ingresa tu b\\xfasqueda</span>\\n            <input type=\"text\" class=\"i-buscar\" tabindex=\"1\" value=\"\" maxlength=\"60\" id=\"as_inner_word\" name=\"as_word\" autocomplete=\"off\">\\n            </label>\\n            <input type=\"submit\" tabindex=\"2\" accesskey=\"b\" value=\"Buscar\" class=\"b-buscar\">\\n          </form>\\n        </div>\\n      </div>\\n</div>\\n\\n  <div class=\"pagina-error-es\">\\n    <div class=\"imagen_lupa\"><img src=\"http://www.mercadolibre.com/org-img/mkt/error/img/lupa.gif\" alt=\"Parece que esta pagina no existe\"></div>\\n    <div class=\"textos\">\\n      <h2>Parece que esta p\\xe1gina no existe</h2>\\n      <ul>\\n        <li><a href=\"/\">Ir a la P\\xe1gina Principal</a>.</li>\\n      </ul>\\n    </div>\\n  </div>\\n  \\n\\n  <div id=\"footer\">\\n    <div class=\"footer-es\">\\n      <p><a rel=\"nofollow\" href=\"/\">Inicio </a>|<a href=\"/sitemap.html\"> Mapa del Sitio </a>|<a href=\"http://www.mercadolibre.com\"> Ver otros pa\\xedses</a></p>\\n      <hr>\\n      <div class=\"copyright\">El uso de este sitio web implica la aceptaci\\xf3n de los<a rel=\"nofollow\" target=\"_blank\" href=\"/seguro_terminos.html\"> T\\xe9rminos y Condiciones</a> y de las<a rel=\"nofollow\" href=\"/seguro_privacidad.html\"> Pol\\xedticas de Privacidad</a> de DeRemate.com de M&eacute;xico, S.A. de C.V.        Copyright &copy; 1999-2010 DeRemate.com de M&eacute;xico, S.A. de C.V.</div>\\n    </div>\\n  </div>\\n  \\n</div>\\n<!-- SCRIPT -->\\n\\n<script type=\"text/javascript\">\\nvar gaJsHost = ((\"https:\" == document.location.protocol) ? \"https://ssl.\" : \"http://www.\");\\ndocument.write(unescape(\"%3Cscript src=\\'\" + gaJsHost + \"google-analytics.com/ga.js\\' type=\\'text/javascript\\'%3E%3C/script%3E\"));\\n</script>\\n\\n<script type=\"text/javascript\">\\ntry{\\nvar mapTrackSite = new Array();\\nmapTrackSite[\\'.arremate.com\\']=\\'UA-8863458-20\\';\\nmapTrackSite[\\'.deremate.cl\\']=\\'UA-8863458-21\\';\\nmapTrackSite[\\'.deremate.com\\']=\\'UA-8863458-15\\';\\nmapTrackSite[\\'.deremate.com.ar\\']=\\'UA-8863458-19\\';\\nmapTrackSite[\\'.deremate.com.co\\']=\\'UA-8863458-22\\';\\nmapTrackSite[\\'.deremate.com.ec\\']=\\'UA-8863458-24\\';\\nmapTrackSite[\\'.deremate.com.mx\\']=\\'UA-8863458-25\\';\\nmapTrackSite[\\'.deremate.com.pe\\']=\\'UA-8863458-26\\';\\nmapTrackSite[\\'.deremate.com.uy\\']=\\'UA-8863458-27\\';\\nmapTrackSite[\\'.deremate.com.ve\\']=\\'UA-8863458-28\\';\\nmapTrackSite[\\'.mercadolibre.cl\\']=\\'UA-8863458-3\\';\\nmapTrackSite[\\'.mercadolibre.co.cr\\']=\\'UA-8863458-2\\';\\nmapTrackSite[\\'.mercadolibre.com\\']=\\'UA-8863458-14\\';\\nmapTrackSite[\\'.mercadolibre.com.ar\\']=\\'UA-8863458-10\\';\\nmapTrackSite[\\'.mercadolibre.com.co\\']=\\'UA-8863458-5\\';\\nmapTrackSite[\\'.mercadolibre.com.do\\']=\\'UA-8863458-8\\';\\nmapTrackSite[\\'.mercadolibre.com.ec\\']=\\'UA-8863458-6\\';\\nmapTrackSite[\\'.mercadolibre.com.mx\\']=\\'UA-8863458-12\\';\\nmapTrackSite[\\'.mercadolibre.com.pa\\']=\\'UA-8863458-7\\';\\nmapTrackSite[\\'.mercadolibre.com.pe\\']=\\'UA-8863458-4\\';\\nmapTrackSite[\\'.mercadolibre.com.uy\\']=\\'UA-8863458-1\\';\\nmapTrackSite[\\'.mercadolibre.com.ve\\']=\\'UA-8863458-9\\';\\nmapTrackSite[\\'.mercadolivre.com.br\\']=\\'UA-8863458-11\\';\\nmapTrackSite[\\'.tucarro.com.co\\']=\\'UA-8863458-40\\';\\nmapTrackSite[\\'.tucarro.com.ve\\']=\\'UA-8863458-40\\';\\nmapTrackSite[\\'.tucarro.com.pa\\']=\\'UA-8863458-40\\';\\nmapTrackSite[\\'.tuinmueble.com.co\\']=\\'UA-8863458-40\\';\\nmapTrackSite[\\'.tuinmueble.com.ve\\']=\\'UA-8863458-40\\';\\nmapTrackSite[\\'.tulancha.com.co\\']=\\'UA-8863458-40\\';\\nmapTrackSite[\\'.tulancha.com.ve\\']=\\'UA-8863458-40\\';\\nmapTrackSite[\\'.tumoto.com.co\\']=\\'UA-8863458-40\\';\\nmapTrackSite[\\'.tumoto.com.ve\\']=\\'UA-8863458-40\\';\\n\\nfunction getTrackingDomain (domain) {\\n    var trackingDomainArray = new RegExp(\\'([^\\\\.]+[\\\\.]com([\\\\.]?.+)*$)|([^\\\\.]+[\\\\.]co[\\\\.].+$)|(([^\\\\.]+[\\\\.][^\\\\.]+$))\\').exec(domain);\\n    if (trackingDomainArray) {\\n        return \\'.\\'+trackingDomainArray[0];\\n    }\\n    return domain\\n}\\n\\nvar domainsAndPaths = [\\n    {urlTestRegex : \\'^https://.+\\\\.com/[^/]+/[^/]+/.*$\\', retrievePath : function (noProtocolURL) {var regex = \\'/[^/]+/[^/]+/\\'; return new RegExp(regex).exec(noProtocolURL);}},\\n    {urlTestRegex: \\'.*\\', retrievePath : function () {return \\'/\\'} }\\n];\\n\\nfunction getTrackingPath (url) {\\n    for (index in domainsAndPaths) {\\n           var pathDescriptor = domainsAndPaths[index];\\n           if (new RegExp(pathDescriptor.urlTestRegex).test(url)) {\\n               var noProtocolURL = url.substring(url.indexOf(\"//\") + \"//\".length);\\n               return pathDescriptor.retrievePath(noProtocolURL)\\n           }\\n    }\\n    return \\'/\\';\\n}\\n\\n\\nvar trackingDomain = getTrackingDomain(document.domain);\\nvar trackingPath = getTrackingPath(document.URL);\\n\\nvar pageTracker = _gat._getTracker(mapTrackSite[trackingDomain]);\\npageTracker._setAllowHash(false);\\npageTracker._setClientInfo(true);\\npageTracker._setDomainName(trackingDomain);\\npageTracker._setCookiePath(trackingPath);\\n\\npageTracker.mlTitle =\\'ml.error.404\\';\\npageTracker.origTitle = document.title;\\ndocument.title=pageTracker.mlTitle;\\npageTracker._trackPageview();\\ndocument.title = pageTracker.origTitle;\\n\\n} catch(err) {}\\n</script>\\n</body>\\n</html>\\n'"
      ]
     },
     "execution_count": 13,
     "metadata": {},
     "output_type": "execute_result"
    }
   ],
   "source": [
    "data.content"
   ]
  },
  {
   "cell_type": "code",
   "execution_count": 14,
   "metadata": {
    "collapsed": true
   },
   "outputs": [],
   "source": [
    "data_nintendowiki = requests.get(\"https://es.wikipedia.org/wiki/Anexo:Consolas_de_Nintendo\")"
   ]
  },
  {
   "cell_type": "code",
   "execution_count": 15,
   "metadata": {
    "collapsed": false
   },
   "outputs": [
    {
     "data": {
      "text/plain": [
       "<Response [200]>"
      ]
     },
     "execution_count": 15,
     "metadata": {},
     "output_type": "execute_result"
    }
   ],
   "source": [
    "data_nintendowiki"
   ]
  },
  {
   "cell_type": "code",
   "execution_count": 16,
   "metadata": {
    "collapsed": false
   },
   "outputs": [
    {
     "data": {
      "text/plain": [
       "b'<!DOCTYPE html>\\n<html class=\"client-nojs\" lang=\"es\" dir=\"ltr\">\\n<head>\\n<meta charset=\"UTF-8\"/>\\n<title>Anexo:Consolas de Nintendo - Wikipedia, la enciclopedia libre</title>\\n<script>document.documentElement.className = document.documentElement.className.replace( /(^|\\\\s)client-nojs(\\\\s|$)/, \"$1client-js$2\" );</script>\\n<script>(window.RLQ=window.RLQ||[]).push(function(){mw.config.set({\"wgCanonicalNamespace\":\"Anexo\",\"wgCanonicalSpecialPageName\":false,\"wgNamespaceNumber\":104,\"wgPageName\":\"Anexo:Consolas_de_Nintendo\",\"wgTitle\":\"Consolas de Nintendo\",\"wgCurRevisionId\":95630195,\"wgRevisionId\":95630195,\"wgArticleId\":4108036,\"wgIsArticle\":true,\"wgIsRedirect\":false,\"wgAction\":\"view\",\"wgUserName\":null,\"wgUserGroups\":[\"*\"],\"wgCategories\":[\"Wikipedia:P\\xc3\\xa1ginas con enlaces rotos a archivos\",\"Nintendo\"],\"wgBreakFrames\":false,\"wgPageContentLanguage\":\"es\",\"wgPageContentModel\":\"wikitext\",\"wgSeparatorTransformTable\":[\",\\\\t.\",\"\\xc2\\xa0\\\\t,\"],\"wgDigitTransformTable\":[\"\",\"\"],\"wgDefaultDateFormat\":\"dmy\",\"wgMonthNames\":[\"\",\"enero\",\"febrero\",\"marzo\",\"abril\",\"mayo\",\"junio\",\"julio\",\"agosto\",\"septiembre\",\"octubre\",\"noviembre\",\"diciembre\"],\"wgMonthNamesShort\":[\"\",\"ene\",\"feb\",\"mar\",\"abr\",\"may\",\"jun\",\"jul\",\"ago\",\"sep\",\"oct\",\"nov\",\"dic\"],\"wgRelevantPageName\":\"Anexo:Consolas_de_Nintendo\",\"wgRelevantArticleId\":4108036,\"wgRequestId\":\"WLQn9ApAEKcAAG4MnkQAAABH\",\"wgIsProbablyEditable\":true,\"wgRestrictionEdit\":[],\"wgRestrictionMove\":[],\"wgWikiEditorEnabledModules\":{\"toolbar\":true,\"dialogs\":true,\"preview\":false,\"publish\":false},\"wgBetaFeaturesFeatures\":[],\"wgMediaViewerOnClick\":true,\"wgMediaViewerEnabledByDefault\":true,\"wgPopupsShouldSendModuleToUser\":false,\"wgPopupsConflictsWithNavPopupGadget\":false,\"wgVisualEditor\":{\"pageLanguageCode\":\"es\",\"pageLanguageDir\":\"ltr\",\"usePageImages\":true,\"usePageDescriptions\":true},\"wgPreferredVariant\":\"es\",\"wgMFDisplayWikibaseDescriptions\":{\"search\":true,\"nearby\":true,\"watchlist\":true,\"tagline\":true},\"wgRelatedArticles\":null,\"wgRelatedArticlesBetaFeatureEnabled\":false,\"wgRelatedArticlesUseCirrusSearch\":true,\"wgRelatedArticlesOnlyUseCirrusSearch\":false,\"wgULSCurrentAutonym\":\"espa\\xc3\\xb1ol\",\"wgNoticeProject\":\"wikipedia\",\"wgCentralNoticeCookiesToDelete\":[],\"wgCentralNoticeCategoriesUsingLegacy\":[\"Fundraising\",\"fundraising\"],\"wgCategoryTreePageCategoryOptions\":\"{\\\\\"mode\\\\\":0,\\\\\"hideprefix\\\\\":20,\\\\\"showcount\\\\\":true,\\\\\"namespaces\\\\\":false}\",\"wgWikibaseItemId\":\"Q948162\",\"wgCentralAuthMobileDomain\":false,\"wgVisualEditorToolbarScrollOffset\":0,\"wgEditSubmitButtonLabelPublish\":false});mw.loader.state({\"ext.globalCssJs.user.styles\":\"ready\",\"ext.globalCssJs.site.styles\":\"ready\",\"site.styles\":\"ready\",\"noscript\":\"ready\",\"user.styles\":\"ready\",\"user\":\"ready\",\"user.options\":\"loading\",\"user.tokens\":\"loading\",\"ext.cite.styles\":\"ready\",\"wikibase.client.init\":\"ready\",\"ext.gadget.imagenesinfobox\":\"ready\",\"ext.visualEditor.desktopArticleTarget.noscript\":\"ready\",\"ext.uls.interlanguage\":\"ready\",\"ext.wikimediaBadges\":\"ready\",\"mediawiki.legacy.shared\":\"ready\",\"mediawiki.legacy.commonPrint\":\"ready\",\"mediawiki.sectionAnchor\":\"ready\",\"mediawiki.skinning.interface\":\"ready\",\"skins.vector.styles\":\"ready\",\"ext.globalCssJs.user\":\"ready\",\"ext.globalCssJs.site\":\"ready\"});mw.loader.implement(\"user.options@0jtin21\",function($,jQuery,require,module){mw.user.options.set({\"variant\":\"es\"});});mw.loader.implement(\"user.tokens@1dqfd7l\",function ( $, jQuery, require, module ) {\\nmw.user.tokens.set({\"editToken\":\"+\\\\\\\\\",\"patrolToken\":\"+\\\\\\\\\",\"watchToken\":\"+\\\\\\\\\",\"csrfToken\":\"+\\\\\\\\\"});/*@nomin*/;\\n\\n});mw.loader.load([\"ext.cite.a11y\",\"mediawiki.toc\",\"mediawiki.action.view.postEdit\",\"site\",\"mediawiki.page.startup\",\"mediawiki.user\",\"mediawiki.hidpi\",\"mediawiki.page.ready\",\"mediawiki.legacy.wikibits\",\"mediawiki.searchSuggest\",\"ext.gadget.a-commons-directo\",\"ext.gadget.refToolbar\",\"ext.centralauth.centralautologin\",\"mmv.head\",\"mmv.bootstrap.autostart\",\"ext.visualEditor.desktopArticleTarget.init\",\"ext.visualEditor.targetLoader\",\"ext.eventLogging.subscriber\",\"ext.wikimediaEvents\",\"ext.navigationTiming\",\"ext.uls.eventlogger\",\"ext.uls.init\",\"ext.uls.compactlinks\",\"ext.uls.interface\",\"ext.centralNotice.geoIP\",\"ext.centralNotice.startUp\",\"skins.vector.js\"]);});</script>\\n<link rel=\"stylesheet\" href=\"/w/load.php?debug=false&amp;lang=es&amp;modules=ext.cite.styles%7Cext.gadget.imagenesinfobox%7Cext.uls.interlanguage%7Cext.visualEditor.desktopArticleTarget.noscript%7Cext.wikimediaBadges%7Cmediawiki.legacy.commonPrint%2Cshared%7Cmediawiki.sectionAnchor%7Cmediawiki.skinning.interface%7Cskins.vector.styles%7Cwikibase.client.init&amp;only=styles&amp;skin=vector\"/>\\n<script async=\"\" src=\"/w/load.php?debug=false&amp;lang=es&amp;modules=startup&amp;only=scripts&amp;skin=vector\"></script>\\n<meta name=\"ResourceLoaderDynamicStyles\" content=\"\"/>\\n<link rel=\"stylesheet\" href=\"/w/load.php?debug=false&amp;lang=es&amp;modules=site.styles&amp;only=styles&amp;skin=vector\"/>\\n<meta name=\"generator\" content=\"MediaWiki 1.29.0-wmf.13\"/>\\n<meta name=\"referrer\" content=\"origin-when-cross-origin\"/>\\n<link rel=\"alternate\" href=\"android-app://org.wikipedia/http/es.m.wikipedia.org/wiki/Anexo:Consolas_de_Nintendo\"/>\\n<link rel=\"alternate\" type=\"application/x-wiki\" title=\"Editar\" href=\"/w/index.php?title=Anexo:Consolas_de_Nintendo&amp;action=edit\"/>\\n<link rel=\"edit\" title=\"Editar\" href=\"/w/index.php?title=Anexo:Consolas_de_Nintendo&amp;action=edit\"/>\\n<link rel=\"apple-touch-icon\" href=\"/static/apple-touch/wikipedia.png\"/>\\n<link rel=\"shortcut icon\" href=\"/static/favicon/wikipedia.ico\"/>\\n<link rel=\"search\" type=\"application/opensearchdescription+xml\" href=\"/w/opensearch_desc.php\" title=\"Wikipedia (es)\"/>\\n<link rel=\"EditURI\" type=\"application/rsd+xml\" href=\"//es.wikipedia.org/w/api.php?action=rsd\"/>\\n<link rel=\"copyright\" href=\"//creativecommons.org/licenses/by-sa/3.0/\"/>\\n<link rel=\"canonical\" href=\"https://es.wikipedia.org/wiki/Anexo:Consolas_de_Nintendo\"/>\\n<link rel=\"dns-prefetch\" href=\"//login.wikimedia.org\"/>\\n<link rel=\"dns-prefetch\" href=\"//meta.wikimedia.org\" />\\n</head>\\n<body class=\"mediawiki ltr sitedir-ltr mw-hide-empty-elt ns-104 ns-subject page-Anexo_Consolas_de_Nintendo rootpage-Anexo_Consolas_de_Nintendo skin-vector action-view\">\\t\\t<div id=\"mw-page-base\" class=\"noprint\"></div>\\n\\t\\t<div id=\"mw-head-base\" class=\"noprint\"></div>\\n\\t\\t<div id=\"content\" class=\"mw-body\" role=\"main\">\\n\\t\\t\\t<a id=\"top\"></a>\\n\\n\\t\\t\\t\\t\\t\\t\\t<div id=\"siteNotice\"><!-- CentralNotice --></div>\\n\\t\\t\\t\\t\\t\\t<div class=\"mw-indicators\">\\n</div>\\n\\t\\t\\t<h1 id=\"firstHeading\" class=\"firstHeading\" lang=\"es\">Anexo:Consolas de Nintendo</h1>\\n\\t\\t\\t\\t\\t\\t\\t\\t\\t<div id=\"bodyContent\" class=\"mw-body-content\">\\n\\t\\t\\t\\t\\t\\t\\t\\t\\t<div id=\"siteSub\">De Wikipedia, la enciclopedia libre</div>\\n\\t\\t\\t\\t\\t\\t\\t\\t<div id=\"contentSub\"></div>\\n\\t\\t\\t\\t\\t\\t\\t\\t\\t\\t\\t\\t<div id=\"jump-to-nav\" class=\"mw-jump\">\\n\\t\\t\\t\\t\\tSaltar a:\\t\\t\\t\\t\\t<a href=\"#mw-head\">navegaci\\xc3\\xb3n</a>, \\t\\t\\t\\t\\t<a href=\"#p-search\">b\\xc3\\xbasqueda</a>\\n\\t\\t\\t\\t</div>\\n\\t\\t\\t\\t<div id=\"mw-content-text\" lang=\"es\" dir=\"ltr\" class=\"mw-content-ltr\"><p>Esta es una lista cronol\\xc3\\xb3gica de todas las series con sus <a href=\"/wiki/Videoconsola\" title=\"Videoconsola\">consolas</a> que han sido creadas por <a href=\"/wiki/Nintendo\" title=\"Nintendo\">Nintendo</a>. Nintendo no aparece como empresa de <a href=\"/wiki/Videojuego\" title=\"Videojuego\">videojuegos</a> hasta la <a href=\"/wiki/Videoconsolas_de_segunda_generaci%C3%B3n\" title=\"Videoconsolas de segunda generaci\\xc3\\xb3n\">Segunda Generaci\\xc3\\xb3n</a>. La Primera Generaci\\xc3\\xb3n apareci\\xc3\\xb3 con la fundaci\\xc3\\xb3n de <a href=\"/wiki/Atari\" title=\"Atari\">Atari</a>, en EE.&#160;UU. en 1972, la primera empresa de videojuegos. Hasta el 2 de octubre de 2008, la empresa l\\xc3\\xadder ha vendido 470.000.000 unidades de hardware.<sup id=\"cite_ref-1\" class=\"reference\"><a href=\"#cite_note-1\"><span class=\"corchete-llamada\">[</span>1<span class=\"corchete-llamada\">]</span></a></sup></p>\\n<div style=\"clear:right; float: right; padding: .5em 0 .5em 1em; background:transparent;\">\\n<div id=\"toc\" class=\"toc\">\\n<div id=\"toctitle\">\\n<h2>\\xc3\\x8dndice</h2>\\n</div>\\n<ul>\\n<li class=\"toclevel-1 tocsection-1\"><a href=\"#Lista_Cronol.C3.B3gica_de_las_Consolas_de_Nintendo\"><span class=\"tocnumber\">1</span> <span class=\"toctext\">Lista Cronol\\xc3\\xb3gica de las Consolas de Nintendo</span></a></li>\\n<li class=\"toclevel-1 tocsection-2\"><a href=\"#Lista_Cronol.C3.B3gica_de_las_Series_de_Nintendo\"><span class=\"tocnumber\">2</span> <span class=\"toctext\">Lista Cronol\\xc3\\xb3gica de las Series de Nintendo</span></a></li>\\n<li class=\"toclevel-1 tocsection-3\"><a href=\"#Otras_unidades_de_hardware_de_Nintendo\"><span class=\"tocnumber\">3</span> <span class=\"toctext\">Otras unidades de hardware de Nintendo</span></a></li>\\n<li class=\"toclevel-1 tocsection-4\"><a href=\"#Unidades_de_hardware_de_Nintendo_no_publicadas\"><span class=\"tocnumber\">4</span> <span class=\"toctext\">Unidades de hardware de Nintendo no publicadas</span></a></li>\\n<li class=\"toclevel-1 tocsection-5\"><a href=\"#Referencias\"><span class=\"tocnumber\">5</span> <span class=\"toctext\">Referencias</span></a></li>\\n<li class=\"toclevel-1 tocsection-6\"><a href=\"#V.C3.A9ase_tambi.C3.A9n\"><span class=\"tocnumber\">6</span> <span class=\"toctext\">V\\xc3\\xa9ase tambi\\xc3\\xa9n</span></a></li>\\n<li class=\"toclevel-1 tocsection-7\"><a href=\"#Enlaces_externos\"><span class=\"tocnumber\">7</span> <span class=\"toctext\">Enlaces externos</span></a></li>\\n</ul>\\n</div>\\n</div>\\n<h2><span class=\"mw-headline\" id=\"Lista_Cronol.C3.B3gica_de_las_Consolas_de_Nintendo\">Lista Cronol\\xc3\\xb3gica de las Consolas de Nintendo</span><span class=\"mw-editsection\"><span class=\"mw-editsection-bracket\">[</span><a href=\"/w/index.php?title=Anexo:Consolas_de_Nintendo&amp;action=edit&amp;section=1\" title=\"Editar secci\\xc3\\xb3n: Lista Cronol\\xc3\\xb3gica de las Consolas de Nintendo\">editar</a><span class=\"mw-editsection-bracket\">]</span></span></h2>\\n<div class=\"thumb tright\">\\n<div class=\"thumbinner\" style=\"width:202px;\"><a href=\"/wiki/Archivo:NintendoStackTransparent.png\" class=\"image\"><img alt=\"\" src=\"//upload.wikimedia.org/wikipedia/commons/thumb/4/42/NintendoStackTransparent.png/200px-NintendoStackTransparent.png\" width=\"200\" height=\"353\" class=\"thumbimage\" srcset=\"//upload.wikimedia.org/wikipedia/commons/thumb/4/42/NintendoStackTransparent.png/300px-NintendoStackTransparent.png 1.5x, //upload.wikimedia.org/wikipedia/commons/thumb/4/42/NintendoStackTransparent.png/400px-NintendoStackTransparent.png 2x\" data-file-width=\"1089\" data-file-height=\"1920\" /></a>\\n<div class=\"thumbcaption\">\\n<div class=\"magnify\"><a href=\"/wiki/Archivo:NintendoStackTransparent.png\" class=\"internal\" title=\"Aumentar\"></a></div>\\nConsolas de sobremesa de Nintendo m\\xc3\\xa1s recientes</div>\\n</div>\\n</div>\\n<ul>\\n<li>1977 - <a href=\"/wiki/Color_TV_Game\" title=\"Color TV Game\">Color TV Game 6</a></li>\\n<li>1978 - <a href=\"/wiki/Color_TV_Game\" title=\"Color TV Game\">Color TV Game 15</a></li>\\n<li>1978 - <a href=\"/wiki/Color_TV_Game\" title=\"Color TV Game\">Color TV Racing 112</a></li>\\n<li>1979 - <a href=\"/wiki/Color_TV_Game\" title=\"Color TV Game\">Color TV Game Block Breaker</a></li>\\n<li>1980 - <a href=\"/wiki/Game_%26_Watch\" title=\"Game &amp; Watch\">Game &amp; Watch Silver</a></li>\\n<li>1980 - <a href=\"/wiki/Color_TV_Game\" title=\"Color TV Game\">Computer TV Game</a></li>\\n<li>1981 - <a href=\"/wiki/Game_%26_Watch\" title=\"Game &amp; Watch\">Game &amp; Watch Gold</a></li>\\n<li>1981 - <a href=\"/wiki/Game_%26_Watch\" title=\"Game &amp; Watch\">Game &amp; Watch Wide Screen</a></li>\\n<li>1982 - <a href=\"/wiki/Game_%26_Watch\" title=\"Game &amp; Watch\">Game &amp; Watch Multi Screen</a></li>\\n<li>1983 - <a href=\"/wiki/Game_%26_Watch\" title=\"Game &amp; Watch\">Game &amp; Watch Tabletop</a></li>\\n<li>1983 - <a href=\"/wiki/Nintendo_Entertainment_System\" title=\"Nintendo Entertainment System\">Nintendo Entertainment System</a></li>\\n</ul>\\n<div class=\"thumb tright\">\\n<div class=\"thumbinner\" style=\"width:182px;\"><a href=\"//commons.wikimedia.org/wiki/Special:UploadWizard?uselang=es&amp;wpDestFile=NINTENDO\" class=\"new\" title=\"Archivo:NINTENDO\">Archivo:NINTENDO</a>\\n<div class=\"thumbcaption\">Mejor marca de videoconsolas</div>\\n</div>\\n</div>\\n<ul>\\n<li>1983 - <a href=\"/wiki/Game_%26_Watch\" title=\"Game &amp; Watch\">Game &amp; Watch Panorama</a></li>\\n<li>1984 - <a href=\"/wiki/Game_%26_Watch\" title=\"Game &amp; Watch\">Game &amp; Watch Super Color</a></li>\\n<li>1984 - <a href=\"/wiki/Game_%26_Watch\" title=\"Game &amp; Watch\">Game &amp; Watch Micro Vs. Screen</a></li>\\n<li>1986 - <a href=\"/wiki/Game_%26_Watch\" title=\"Game &amp; Watch\">Game &amp; Watch Crystal Screen</a></li>\\n<li>1989 - <a href=\"/wiki/Game_Boy\" title=\"Game Boy\">Game Boy</a></li>\\n<li>1990 - <a href=\"/wiki/Super_Nintendo_Entertainment_System\" class=\"mw-redirect\" title=\"Super Nintendo Entertainment System\">Super Nintendo Entertainment System</a></li>\\n<li>1991 - <a href=\"/wiki/Game_%26_Watch\" title=\"Game &amp; Watch\">Game &amp; Watch New Wide Screen</a></li>\\n<li>1995 - <a href=\"/wiki/Virtual_Boy\" title=\"Virtual Boy\">Virtual Boy</a></li>\\n<li>1996 - <a href=\"/wiki/Nintendo_64\" title=\"Nintendo 64\">Nintendo 64</a></li>\\n<li>1998 - <a href=\"/wiki/Gameboy_Color\" class=\"mw-redirect\" title=\"Gameboy Color\">Gameboy Color</a></li>\\n<li>2001 - <a href=\"/wiki/Nintendo_GameCube\" title=\"Nintendo GameCube\">Nintendo GameCube</a></li>\\n<li>2001 - <a href=\"/wiki/Gameboy_Advance\" class=\"mw-redirect\" title=\"Gameboy Advance\">Gameboy Advance</a></li>\\n<li>2004 - <a href=\"/wiki/Nintendo_DS\" title=\"Nintendo DS\">Nintendo DS</a></li>\\n<li>2006 - <a href=\"/wiki/Nintendo_DS_Lite\" title=\"Nintendo DS Lite\">Nintendo DS Lite</a></li>\\n<li>2006 - <a href=\"/wiki/Wii\" title=\"Wii\">Wii</a></li>\\n<li>2009 - <a href=\"/wiki/Nintendo_DSi\" title=\"Nintendo DSi\">Nintendo DSi</a></li>\\n<li>2010 - <a href=\"/wiki/Nintendo_DSi_XL\" title=\"Nintendo DSi XL\">Nintendo DSi XL</a></li>\\n<li>2011 - <a href=\"/wiki/Nintendo_3DS\" title=\"Nintendo 3DS\">Nintendo 3DS</a></li>\\n<li>2012 - <a href=\"/wiki/Nintendo_3DS_XL\" title=\"Nintendo 3DS XL\">Nintendo 3DS XL</a></li>\\n<li>2012 - <a href=\"/wiki/Wii_U\" title=\"Wii U\">Wii U</a></li>\\n<li>2012 - <a href=\"/wiki/Wii\" title=\"Wii\">Wii Mini</a></li>\\n<li>2013 - <a href=\"/wiki/Nintendo_2DS\" title=\"Nintendo 2DS\">Nintendo 2DS</a></li>\\n<li>2015 - <a href=\"/wiki/New_Nintendo_3DS\" title=\"New Nintendo 3DS\">New Nintendo 3DS</a></li>\\n<li>2015 - <a href=\"/wiki/New_Nintendo_3DS_XL\" class=\"mw-redirect\" title=\"New Nintendo 3DS XL\">New Nintendo 3DS XL</a></li>\\n<li>2016 - <a href=\"/w/index.php?title=Nintendo_NES_Classic_Mini&amp;action=edit&amp;redlink=1\" class=\"new\" title=\"Nintendo NES Classic Mini (a\\xc3\\xban no redactado)\">Nintendo NES Classic Mini</a></li>\\n<li>2017 - <a href=\"/wiki/Nintendo_Switch\" title=\"Nintendo Switch\">Nintendo Switch</a></li>\\n</ul>\\n<h2><span class=\"mw-headline\" id=\"Lista_Cronol.C3.B3gica_de_las_Series_de_Nintendo\">Lista Cronol\\xc3\\xb3gica de las Series de Nintendo</span><span class=\"mw-editsection\"><span class=\"mw-editsection-bracket\">[</span><a href=\"/w/index.php?title=Anexo:Consolas_de_Nintendo&amp;action=edit&amp;section=2\" title=\"Editar secci\\xc3\\xb3n: Lista Cronol\\xc3\\xb3gica de las Series de Nintendo\">editar</a><span class=\"mw-editsection-bracket\">]</span></span></h2>\\n<table class=\"wikitable\">\\n<caption>Consolas</caption>\\n<tr>\\n<th width=\"100px;\">Generaci\\xc3\\xb3n</th>\\n<th width=\"225px;\">Nombre de la serie</th>\\n<th width=\"50px;\">N\\xc3\\xbamero de consolas</th>\\n<th width=\"75px;\">Tipo</th>\\n<th width=\"150px;\">Descripci\\xc3\\xb3n</th>\\n</tr>\\n<tr>\\n<td><a href=\"/wiki/Videoconsolas_de_primera_generaci%C3%B3n\" title=\"Videoconsolas de primera generaci\\xc3\\xb3n\">Segunda Generaci\\xc3\\xb3n</a></td>\\n<td>Color TV Game (CTG)</td>\\n<td>5</td>\\n<td>Consola de sobremesa</td>\\n<td>La serie <b>Color TV</b> se distribuy\\xc3\\xb3 solo en <a href=\"/wiki/Jap%C3%B3n\" title=\"Jap\\xc3\\xb3n\">Jap\\xc3\\xb3n</a>. Algunos de los <a href=\"/wiki/Videojuego\" title=\"Videojuego\">videojuegos</a> m\\xc3\\xa1s importantes de la color TV eran originalmente creados por <a href=\"/wiki/Atari\" title=\"Atari\">Atari</a>.</td>\\n</tr>\\n<tr>\\n<td><a href=\"/wiki/Videoconsolas_de_segunda_generaci%C3%B3n\" title=\"Videoconsolas de segunda generaci\\xc3\\xb3n\">Segunda Generaci\\xc3\\xb3n</a></td>\\n<td>Game&amp;Watch (G&amp;W)</td>\\n<td>11</td>\\n<td>Consola port\\xc3\\xa1til</td>\\n<td>Fueron las primeras <a href=\"/wiki/Videoconsola\" title=\"Videoconsola\">consolas port\\xc3\\xa1tiles</a> de <a href=\"/wiki/Nintendo\" title=\"Nintendo\">Nintendo</a>. Personajes tan <a href=\"/wiki/Famoso\" class=\"mw-redirect\" title=\"Famoso\">famosos</a> como <a href=\"/wiki/Mario_(personaje)\" title=\"Mario (personaje)\">Mario</a>, <a href=\"/wiki/Donkey_Kong\" title=\"Donkey Kong\">Donkey Kong</a> o <a href=\"/wiki/The_legend_of_zelda\" class=\"mw-redirect\" title=\"The legend of zelda\">Link</a> nacieron en esta <a href=\"/wiki/Videoconsola\" title=\"Videoconsola\">consola</a>. Tambi\\xc3\\xa9n juegos como el <a href=\"/wiki/Pinball\" title=\"Pinball\">pinball</a>. Tambi\\xc3\\xa9n se cre\\xc3\\xb3 en esta consola el <a href=\"/wiki/Personaje\" title=\"Personaje\">personaje</a> m\\xc3\\xa1s importante de <a href=\"/wiki/Game_%26_Watch\" title=\"Game &amp; Watch\">Game &amp; Watch</a>, <a href=\"/wiki/Mr._Game_and_Watch\" title=\"Mr. Game and Watch\">Hideo</a>, o como lo llaman otros, Mr.G&amp;W.</td>\\n</tr>\\n<tr>\\n<td><a href=\"/wiki/Videoconsolas_de_tercera_generaci%C3%B3n\" title=\"Videoconsolas de tercera generaci\\xc3\\xb3n\">Tercera</a> y <a href=\"/wiki/Videoconsolas_de_cuarta_generaci%C3%B3n\" title=\"Videoconsolas de cuarta generaci\\xc3\\xb3n\">Cuarta Generaci\\xc3\\xb3n</a></td>\\n<td>Nintendo Entertainment System (NES)</td>\\n<td>2</td>\\n<td>Consola de Sobremesa</td>\\n<td>Esta <a href=\"/wiki/Videoconsola\" title=\"Videoconsola\">consola</a> tuvo varios nombres en el mercado seg\\xc3\\xban la regi\\xc3\\xb3n donde se vendi\\xc3\\xb3. En <a href=\"/wiki/Jap%C3%B3n\" title=\"Jap\\xc3\\xb3n\">Jap\\xc3\\xb3n</a> se la llam\\xc3\\xb3 <b>Family Computer</b>, abreviado como Famicom. En <a href=\"/wiki/Corea_del_Sur\" title=\"Corea del Sur\">Corea del Sur</a>, <b>Hyundai Comboy</b>. En <a href=\"/wiki/Rusia\" title=\"Rusia\">Rusia</a>, <b>Dendy</b> y en el <a href=\"/wiki/Sur_de_Asia\" class=\"mw-redirect\" title=\"Sur de Asia\">sur de Asia</a>, <b>Tata Famicom</b>. En Am\\xc3\\xa9rica y Europa se la llam\\xc3\\xb3 NES</td>\\n</tr>\\n<tr>\\n<td><a href=\"/wiki/Videoconsolas_de_tercera_generaci%C3%B3n\" title=\"Videoconsolas de tercera generaci\\xc3\\xb3n\">Tercera</a>, <a href=\"/wiki/Videoconsolas_de_cuarta_generaci%C3%B3n\" title=\"Videoconsolas de cuarta generaci\\xc3\\xb3n\">Cuarta</a>, <a href=\"/wiki/Videoconsolas_de_quinta_generaci%C3%B3n\" title=\"Videoconsolas de quinta generaci\\xc3\\xb3n\">Quinta</a> y <a href=\"/wiki/Videoconsolas_de_sexta_generaci%C3%B3n\" title=\"Videoconsolas de sexta generaci\\xc3\\xb3n\">Sexta Generaci\\xc3\\xb3n</a></td>\\n<td>Game Boy (GB-GBA)</td>\\n<td>7</td>\\n<td>Consola port\\xc3\\xa1til</td>\\n<td>Esta serie fue especialmente importante para el hardware port\\xc3\\xa1til de Nintendo; en primer lugar, aparecieron caracter\\xc3\\xadsticas como la <a href=\"/wiki/Retroiluminaci%C3%B3n\" class=\"mw-redirect\" title=\"Retroiluminaci\\xc3\\xb3n\">retroiluminaci\\xc3\\xb3n</a>, la mejora de los altavoces, la <a href=\"/wiki/C%C3%A1mara_de_fotos\" class=\"mw-redirect\" title=\"C\\xc3\\xa1mara de fotos\">c\\xc3\\xa1mara de fotos</a> en consola y la posterior impresi\\xc3\\xb3n de estas y la sustituci\\xc3\\xb3n de las tradicionales <a href=\"/wiki/Pila_(electricidad)\" class=\"mw-redirect\" title=\"Pila (electricidad)\">pilas</a> por <a href=\"/wiki/Bater%C3%ADa_(electricidad)\" class=\"mw-redirect\" title=\"Bater\\xc3\\xada (electricidad)\">bater\\xc3\\xadas</a> entre otras. Por otra parte, los juegos mejoraron su dise\\xc3\\xb1o en cartuchos y su gran calidad gr\\xc3\\xa1fica y sonora.</td>\\n</tr>\\n<tr>\\n<td><a href=\"/wiki/Videoconsolas_de_quinta_generaci%C3%B3n\" title=\"Videoconsolas de quinta generaci\\xc3\\xb3n\">Quinta</a></td>\\n<td>Virtual Boy</td>\\n<td>1</td>\\n<td>Consola pseudoport\\xc3\\xa1til</td>\\n<td>La Virtual Boy es una consola formada b\\xc3\\xa1sicamente por un proyector con forma de gafas por las que se ve\\xc3\\xada el videojuego en cuesti\\xc3\\xb3n en <a href=\"/wiki/3D\" class=\"mw-redirect\" title=\"3D\">3D</a> (<a href=\"/wiki/Monocrom%C3%A1tico\" class=\"mw-redirect\" title=\"Monocrom\\xc3\\xa1tico\">monocrom\\xc3\\xa1tico</a>) gracias a un <a href=\"/wiki/Estereosc%C3%B3pico\" class=\"mw-redirect\" title=\"Estereosc\\xc3\\xb3pico\">efecto estereosc\\xc3\\xb3pico</a>. Fue la consola m\\xc3\\xa1s fracasante que Nintendo ha creado en toda su historia.</td>\\n</tr>\\n<tr>\\n<td><a href=\"/wiki/Videoconsolas_de_quinta_generaci%C3%B3n\" title=\"Videoconsolas de quinta generaci\\xc3\\xb3n\">Quinta</a></td>\\n<td>Nintendo 64 (N64)</td>\\n<td>1</td>\\n<td>Consola de Sobremesa</td>\\n<td>Llamada as\\xc3\\xad por su procesador (<a href=\"/wiki/64_bits\" title=\"64 bits\">64 bits</a>). El mando de esta consola fue aclamado por el p\\xc3\\xbablico de Nintendo; fue el primero de la historia de los videojuegos en <a href=\"/wiki/Vibraci%C3%B3n\" title=\"Vibraci\\xc3\\xb3n\">vibrar</a> y llevar un <a href=\"/wiki/Stick\" class=\"mw-disambig\" title=\"Stick\">stick anal\\xc3\\xb3gico</a> incorporado. Adem\\xc3\\xa1s los cartuchos de este fueron clave para la evoluci\\xc3\\xb3n de la memoria externa del hardware de Nintendo. Los cartuchos, a diferencia de los discos, pod\\xc3\\xadan guardar partidas, evitaban la <a href=\"/wiki/Pirater%C3%ADa_(Derecho_de_autor)\" class=\"mw-redirect\" title=\"Pirater\\xc3\\xada (Derecho de autor)\">pirater\\xc3\\xada</a> y eran dif\\xc3\\xadciles de da\\xc3\\xb1ar.</td>\\n</tr>\\n<tr>\\n<td><a href=\"/wiki/Videoconsolas_de_sexta_generaci%C3%B3n\" title=\"Videoconsolas de sexta generaci\\xc3\\xb3n\">Sexta</a></td>\\n<td>Nintendo GameCube (GC)</td>\\n<td>1</td>\\n<td>Consola de Sobremesa</td>\\n<td>Con esta consola, Nintendo prescindi\\xc3\\xb3 por primera vez de los <a href=\"/wiki/Cartucho_(inform%C3%A1tica)\" title=\"Cartucho (inform\\xc3\\xa1tica)\">cartuchos</a> y comenz\\xc3\\xb3 a utilizar para sus consolas de sobremesa los <a href=\"/wiki/Disco_compacto\" title=\"Disco compacto\">Discos \\xc3\\x93pticos</a>. En el caso de la GameCube, se utiliza el G.O.D. \\xc3\\xb3 <i>GameCube Optical Disc</i>, de 8 <a href=\"/wiki/Cent%C3%ADmetro\" title=\"Cent\\xc3\\xadmetro\">cm</a> de di\\xc3\\xa1metro y de 1\\'5 <a href=\"/wiki/Gigabyte\" title=\"Gigabyte\">gigabytes</a>. La GameCube logr\\xc3\\xb3 vender 21,74 millones de unidades mundialmente.</td>\\n</tr>\\n<tr>\\n<td><a href=\"/wiki/Videoconsolas_de_s%C3%A9ptima_generaci%C3%B3n\" title=\"Videoconsolas de s\\xc3\\xa9ptima generaci\\xc3\\xb3n\">S\\xc3\\xa9ptima</a> y <a href=\"/wiki/Videoconsolas_de_octava_generaci%C3%B3n\" title=\"Videoconsolas de octava generaci\\xc3\\xb3n\">Octava Generaci\\xc3\\xb3n</a></td>\\n<td>Nintendo DS (DS, NDS) Nintendo 3DS (N3DS) (3DS) y Nintendo 2DS (N2DS) (2DS)</td>\\n<td>5</td>\\n<td>Consola Port\\xc3\\xa1til</td>\\n<td>La serie de la <a href=\"/wiki/Nintendo_DS\" title=\"Nintendo DS\">Nintendo DS</a> fue y es la m\\xc3\\xa1s importante de las <a href=\"/wiki/Videoconsola\" title=\"Videoconsola\">consolas</a> port\\xc3\\xa1tiles de Nintendo. En cada una de ellas se producen grandes cambios a la anterior, sin embargo, todas tienen una tarjeta compatible (A pesar que hay algunas que son compatibles con otras). La caracter\\xc3\\xadstica clave es la <a href=\"/wiki/Pantalla_t%C3%A1ctil\" title=\"Pantalla t\\xc3\\xa1ctil\">pantalla t\\xc3\\xa1ctil</a>.</td>\\n</tr>\\n<tr>\\n<td><a href=\"/wiki/Videoconsolas_de_s%C3%A9ptima_generaci%C3%B3n\" title=\"Videoconsolas de s\\xc3\\xa9ptima generaci\\xc3\\xb3n\">S\\xc3\\xa9ptima</a> y <a href=\"/wiki/Videoconsolas_de_octava_generaci%C3%B3n\" title=\"Videoconsolas de octava generaci\\xc3\\xb3n\">Octava Generaci\\xc3\\xb3n</a></td>\\n<td>Nintendo Wii (Wii, NW), Wii U (WU) y Wii Mini</td>\\n<td>2</td>\\n<td>Consola de Sobremesa</td>\\n<td>El origen del nombre es incierto, pero Nintendo declar\\xc3\\xb3 que: \"Wii suena como la palabra inglesa <i>we</i> (\"nosotros\"), lo que enfatiza que la consola es para todos.\" Esta consola ha recibido curiosos nombres clave en su desarrollo. Mientras que <a href=\"/wiki/Wii\" title=\"Wii\">Wii</a> respond\\xc3\\xada al nombre de \"The Revolution\", la <a href=\"/wiki/Wii_U\" title=\"Wii U\">Wii U</a> fue nombrada como \"Project Caf\\xc3\\xa9\".</td>\\n</tr>\\n<tr>\\n<td><a href=\"/w/index.php?title=Videoconsolas_de_novena_generaci%C3%B3n&amp;action=edit&amp;redlink=1\" class=\"new\" title=\"Videoconsolas de novena generaci\\xc3\\xb3n (a\\xc3\\xban no redactado)\">Novena generaci\\xc3\\xb3n</a></td>\\n<td>Nintendo Switch</td>\\n<td>1</td>\\n<td>Consola Hibrida</td>\\n<td>Ninendo Switch, tambi\\xc3\\xa9n conocida como Nintendo NX (nombre en clave) es una consola actualmente en desarrollo de la compa\\xc3\\xb1\\xc3\\xada Nintendo, anunciada el 17 de marzo de 2015 durante una conferencia de prensa. Se trata de una consola h\\xc3\\xadbrida entre consola de sobremesa y consola port\\xc3\\xa1til. Y tiene como fecha de lanzamiento marzo de 2017.</td>\\n</tr>\\n</table>\\n<h2><span class=\"mw-headline\" id=\"Otras_unidades_de_hardware_de_Nintendo\">Otras unidades de hardware de Nintendo</span><span class=\"mw-editsection\"><span class=\"mw-editsection-bracket\">[</span><a href=\"/w/index.php?title=Anexo:Consolas_de_Nintendo&amp;action=edit&amp;section=3\" title=\"Editar secci\\xc3\\xb3n: Otras unidades de hardware de Nintendo\">editar</a><span class=\"mw-editsection-bracket\">]</span></span></h2>\\n<div class=\"thumb tright\">\\n<div class=\"thumbinner\" style=\"width:162px;\"><a href=\"/wiki/Archivo:Pok%C3%A9mon_mini_system.jpg\" class=\"image\"><img alt=\"\" src=\"//upload.wikimedia.org/wikipedia/commons/thumb/c/c3/Pok%C3%A9mon_mini_system.jpg/160px-Pok%C3%A9mon_mini_system.jpg\" width=\"160\" height=\"206\" class=\"thumbimage\" srcset=\"//upload.wikimedia.org/wikipedia/commons/thumb/c/c3/Pok%C3%A9mon_mini_system.jpg/240px-Pok%C3%A9mon_mini_system.jpg 1.5x, //upload.wikimedia.org/wikipedia/commons/thumb/c/c3/Pok%C3%A9mon_mini_system.jpg/320px-Pok%C3%A9mon_mini_system.jpg 2x\" data-file-width=\"706\" data-file-height=\"907\" /></a>\\n<div class=\"thumbcaption\">\\n<div class=\"magnify\"><a href=\"/wiki/Archivo:Pok%C3%A9mon_mini_system.jpg\" class=\"internal\" title=\"Aumentar\"></a></div>\\nPok\\xc3\\xa9mon mini</div>\\n</div>\\n</div>\\n<ul>\\n<li><a href=\"/wiki/Game_Boy_Camera\" title=\"Game Boy Camera\">Game Boy Camera</a>: es una c\\xc3\\xa1mara monocrom\\xc3\\xa1tica que se inserta en la Game boy a modo de cartucho. Incluye un editor de imagen y es compatible con la Game Boy Printer, para imprimir las im\\xc3\\xa1genes.</li>\\n</ul>\\n<ul>\\n<li><a href=\"/wiki/Satellaview\" title=\"Satellaview\">Satellaview</a>: solo sali\\xc3\\xb3 a la venta en <span class=\"flagicon\"><img alt=\"Bandera de Jap\\xc3\\xb3n\" src=\"//upload.wikimedia.org/wikipedia/commons/thumb/9/9e/Flag_of_Japan.svg/20px-Flag_of_Japan.svg.png\" title=\"Bandera de Jap\\xc3\\xb3n\" width=\"20\" height=\"13\" class=\"thumbborder\" srcset=\"//upload.wikimedia.org/wikipedia/commons/thumb/9/9e/Flag_of_Japan.svg/30px-Flag_of_Japan.svg.png 1.5x, //upload.wikimedia.org/wikipedia/commons/thumb/9/9e/Flag_of_Japan.svg/40px-Flag_of_Japan.svg.png 2x\" data-file-width=\"900\" data-file-height=\"600\" />&#160;</span><a href=\"/wiki/Jap%C3%B3n\" title=\"Jap\\xc3\\xb3n\">Jap\\xc3\\xb3n</a> y es compatible \\xc3\\xbanicamente con la <a href=\"/wiki/Super_Famicom\" class=\"mw-redirect\" title=\"Super Famicom\">Super Famicom</a> y permit\\xc3\\xada descargar juegos de Nintendo v\\xc3\\xada sat\\xc3\\xa9lite.</li>\\n</ul>\\n<ul>\\n<li><a href=\"/wiki/Game_Boy_Player\" title=\"Game Boy Player\">Game Boy Player</a>: es un cable adaptador que conecta la Game Boy y la GameCube y sirve para jugar los juegos de la primera en la segunda.</li>\\n</ul>\\n<ul>\\n<li><a href=\"/wiki/Game_Boy_Printer\" title=\"Game Boy Printer\">Game Boy Printer</a>: es un aparato dise\\xc3\\xb1ado para imprimir fotos capturadas desde la Game Boy C\\xc3\\xa1mara en <a href=\"/wiki/Pegatina\" title=\"Pegatina\">pegatinas</a>.</li>\\n</ul>\\n<ul>\\n<li><a href=\"/wiki/Nintendo_iQue\" title=\"Nintendo iQue\">Nintendo iQue</a>: la <i>Nintendo iQue</i> o la <i>iQue Player</i> es una versi\\xc3\\xb3n de Nintendo 64 redise\\xc3\\xb1ada por la empresa iQue con la autorizaci\\xc3\\xb3n de Nintendo y se public\\xc3\\xb3 en <span class=\"flagicon\"><img alt=\"Bandera de Rep\\xc3\\xbablica Popular China\" src=\"//upload.wikimedia.org/wikipedia/commons/thumb/f/fa/Flag_of_the_People%27s_Republic_of_China.svg/20px-Flag_of_the_People%27s_Republic_of_China.svg.png\" title=\"Bandera de Rep\\xc3\\xbablica Popular China\" width=\"20\" height=\"13\" class=\"thumbborder\" srcset=\"//upload.wikimedia.org/wikipedia/commons/thumb/f/fa/Flag_of_the_People%27s_Republic_of_China.svg/30px-Flag_of_the_People%27s_Republic_of_China.svg.png 1.5x, //upload.wikimedia.org/wikipedia/commons/thumb/f/fa/Flag_of_the_People%27s_Republic_of_China.svg/40px-Flag_of_the_People%27s_Republic_of_China.svg.png 2x\" data-file-width=\"900\" data-file-height=\"600\" />&#160;</span><a href=\"/wiki/Rep%C3%BAblica_Popular_China\" title=\"Rep\\xc3\\xbablica Popular China\">China</a> para combatir la pirater\\xc3\\xada y ser asequible a los usuarios chinos.</li>\\n</ul>\\n<ul>\\n<li><a href=\"/wiki/IQue_DS\" class=\"mw-redirect\" title=\"IQue DS\">iQue DS</a>: versi\\xc3\\xb3n de la Nintendo DS, con la misma finalidad que la iQue Player y lanzada \\xc3\\xbanicamente en <span class=\"flagicon\"><img alt=\"Bandera de Rep\\xc3\\xbablica Popular China\" src=\"//upload.wikimedia.org/wikipedia/commons/thumb/f/fa/Flag_of_the_People%27s_Republic_of_China.svg/20px-Flag_of_the_People%27s_Republic_of_China.svg.png\" title=\"Bandera de Rep\\xc3\\xbablica Popular China\" width=\"20\" height=\"13\" class=\"thumbborder\" srcset=\"//upload.wikimedia.org/wikipedia/commons/thumb/f/fa/Flag_of_the_People%27s_Republic_of_China.svg/30px-Flag_of_the_People%27s_Republic_of_China.svg.png 1.5x, //upload.wikimedia.org/wikipedia/commons/thumb/f/fa/Flag_of_the_People%27s_Republic_of_China.svg/40px-Flag_of_the_People%27s_Republic_of_China.svg.png 2x\" data-file-width=\"900\" data-file-height=\"600\" />&#160;</span><a href=\"/wiki/Rep%C3%BAblica_Popular_China\" title=\"Rep\\xc3\\xbablica Popular China\">China</a>.</li>\\n</ul>\\n<ul>\\n<li><a href=\"/wiki/Nintendo_64DD\" title=\"Nintendo 64DD\">Nintendo 64DD</a>: una extensi\\xc3\\xb3n de Nintendo 64 que no fue lanzada m\\xc3\\xa1s all\\xc3\\xa1 de <span class=\"flagicon\"><img alt=\"Bandera de Jap\\xc3\\xb3n\" src=\"//upload.wikimedia.org/wikipedia/commons/thumb/9/9e/Flag_of_Japan.svg/20px-Flag_of_Japan.svg.png\" title=\"Bandera de Jap\\xc3\\xb3n\" width=\"20\" height=\"13\" class=\"thumbborder\" srcset=\"//upload.wikimedia.org/wikipedia/commons/thumb/9/9e/Flag_of_Japan.svg/30px-Flag_of_Japan.svg.png 1.5x, //upload.wikimedia.org/wikipedia/commons/thumb/9/9e/Flag_of_Japan.svg/40px-Flag_of_Japan.svg.png 2x\" data-file-width=\"900\" data-file-height=\"600\" />&#160;</span><a href=\"/wiki/Jap%C3%B3n\" title=\"Jap\\xc3\\xb3n\">Jap\\xc3\\xb3n</a> debido a su fracaso comercial.</li>\\n</ul>\\n<ul>\\n<li><a href=\"/wiki/Pok%C3%A9mon_Mini\" class=\"mw-redirect\" title=\"Pok\\xc3\\xa9mon Mini\">Pok\\xc3\\xa9mon Mini</a>: fue la consola m\\xc3\\xa1s barata que Nintendo ha fabricado. No obstante fue un fracaso comercial.</li>\\n</ul>\\n<ul>\\n<li><a href=\"/w/index.php?title=Mobile_System_GB&amp;action=edit&amp;redlink=1\" class=\"new\" title=\"Mobile System GB (a\\xc3\\xban no redactado)\">Mobile System GB</a>: fue lanzado en <span class=\"flagicon\"><img alt=\"Bandera de Jap\\xc3\\xb3n\" src=\"//upload.wikimedia.org/wikipedia/commons/thumb/9/9e/Flag_of_Japan.svg/20px-Flag_of_Japan.svg.png\" title=\"Bandera de Jap\\xc3\\xb3n\" width=\"20\" height=\"13\" class=\"thumbborder\" srcset=\"//upload.wikimedia.org/wikipedia/commons/thumb/9/9e/Flag_of_Japan.svg/30px-Flag_of_Japan.svg.png 1.5x, //upload.wikimedia.org/wikipedia/commons/thumb/9/9e/Flag_of_Japan.svg/40px-Flag_of_Japan.svg.png 2x\" data-file-width=\"900\" data-file-height=\"600\" />&#160;</span><a href=\"/wiki/Jap%C3%B3n\" title=\"Jap\\xc3\\xb3n\">Jap\\xc3\\xb3n</a> el <a href=\"/wiki/14_de_diciembre\" title=\"14 de diciembre\">14 de diciembre</a> de <a href=\"/wiki/2000\" title=\"2000\">2000</a>. Es un adaptador para jugar a videojuegos de Game Boy Color en tel\\xc3\\xa9fonos m\\xc3\\xb3viles.</li>\\n</ul>\\n<ul>\\n<li><a href=\"/w/index.php?title=Pok%C3%A9mon_Pikachu&amp;action=edit&amp;redlink=1\" class=\"new\" title=\"Pok\\xc3\\xa9mon Pikachu (a\\xc3\\xban no redactado)\">Pok\\xc3\\xa9mon Pikachu</a>: es un dispositivo port\\xc3\\xa1til similar al popular juguete <a href=\"/wiki/Tamagotchi\" title=\"Tamagotchi\">Tamagotchi</a> en el que el usuario se hace cargo de Pikachu como una mascota virtual.</li>\\n</ul>\\n<ul>\\n<li><a href=\"/wiki/Super_Game_Boy\" title=\"Super Game Boy\">Super Game Boy</a>: es un perif\\xc3\\xa9rico que sirve para reproducir los juegos de Game Boy en el Super Nintendo.</li>\\n</ul>\\n<ul>\\n<li><a href=\"/wiki/Triforce\" title=\"Triforce\">Triforce</a>: es una placa para el sistema arcade desarrollada en conjunto por Nintendo, Namco y Sega.</li>\\n</ul>\\n<ul>\\n<li><a href=\"/w/index.php?title=Yakuman&amp;action=edit&amp;redlink=1\" class=\"new\" title=\"Yakuman (a\\xc3\\xban no redactado)\">Yakuman</a>: un juego de mahjong que sali\\xc3\\xb3 a la venta en <a href=\"/wiki/1983\" title=\"1983\">1983</a>.</li>\\n</ul>\\n<ul>\\n<li><a href=\"/w/index.php?title=GameCube_Microphone&amp;action=edit&amp;redlink=1\" class=\"new\" title=\"GameCube Microphone (a\\xc3\\xban no redactado)\">GameCube Microphone</a>: micr\\xc3\\xb3fono compatible con la GameCube. Se utiliza en algunos juegos como <a href=\"/wiki/Mario_Party_6\" title=\"Mario Party 6\">Mario Party 6</a> y <a href=\"/wiki/Mario_Party_7\" title=\"Mario Party 7\">Mario Party 7</a>.</li>\\n</ul>\\n<ul>\\n<li><a href=\"/w/index.php?title=Nintendo_Gateway&amp;action=edit&amp;redlink=1\" class=\"new\" title=\"Nintendo Gateway (a\\xc3\\xban no redactado)\">Nintendo Gateway</a>: son unos dispositivos especiales con los que se pueden jugar a algunos juegos de diferentes consolas en aviones, aeropuertos o hoteles.</li>\\n</ul>\\n<ul>\\n<li><a href=\"/w/index.php?title=Panasonic_Q&amp;action=edit&amp;redlink=1\" class=\"new\" title=\"Panasonic Q (a\\xc3\\xban no redactado)\">Panasonic Q</a>: es una versi\\xc3\\xb3n de la <a href=\"/wiki/GameCube\" class=\"mw-redirect\" title=\"GameCube\">GameCube</a> que puede reproducir DVD desarrollado por Panasonic.</li>\\n</ul>\\n<ul>\\n<li><a href=\"/w/index.php?title=Pok%C3%A9walker&amp;action=edit&amp;redlink=1\" class=\"new\" title=\"Pok\\xc3\\xa9walker (a\\xc3\\xban no redactado)\">Pok\\xc3\\xa9walker</a>:</li>\\n</ul>\\n<ul>\\n<li><a href=\"/wiki/Play-Yan\" title=\"Play-Yan\">Play-Yan</a>: es un aparato que permite reproducir v\\xc3\\xaddeo y audio en las consolas Game Boy.</li>\\n</ul>\\n<ul>\\n<li><a href=\"/w/index.php?title=Nintendo_Wi-Fi_USB_Connector&amp;action=edit&amp;redlink=1\" class=\"new\" title=\"Nintendo Wi-Fi USB Connector (a\\xc3\\xban no redactado)\">Nintendo Wi-Fi USB Connector</a>: es un adaptador que compatibiliza un Internet por cable con la Nintendo DS.</li>\\n</ul>\\n<ul>\\n<li><a href=\"/wiki/Wii_MotionPlus\" title=\"Wii MotionPlus\">Wii MotionPlus</a>: es un dispositivo de expansi\\xc3\\xb3n del controlador de videojuegos <a href=\"/wiki/Wii_Remote\" class=\"mw-redirect\" title=\"Wii Remote\">Wii Remote</a> del Wii que permite capturar movimientos complejos con m\\xc3\\xa1s precisi\\xc3\\xb3n.</li>\\n</ul>\\n<ul>\\n<li><a href=\"/wiki/Wii_Classic_Controller\" title=\"Wii Classic Controller\">Wii Classic Controller</a>: mando compatible con la Wii. Se utiliza en algunos juegos de consolas antecesoras.</li>\\n</ul>\\n<ul>\\n<li><a href=\"/wiki/Wii_Balance_Board\" title=\"Wii Balance Board\">Wii Balance Board</a>: tabla compatible con la Wii. Se utiliza en algunos juegos para hacer ejercicio.</li>\\n</ul>\\n<ul>\\n<li><a href=\"/wiki/Wii_Zapper\" class=\"mw-redirect\" title=\"Wii Zapper\">Wii Zapper</a>: mando con forma de pistola compatible con la Wii. Se utiliza en algunos juegos para apuntar.</li>\\n</ul>\\n<ul>\\n<li><a href=\"/wiki/Wii_Speak\" title=\"Wii Speak\">Wii Speak</a>: micr\\xc3\\xb3fono compatible con la Wii. Se utiliza en algunos juegos para hablar.</li>\\n</ul>\\n<ul>\\n<li><a href=\"/wiki/Wii_Wheel\" class=\"mw-redirect\" title=\"Wii Wheel\">Wii Wheel</a>: mando con forma de <a href=\"/wiki/Volante_(videojuegos)\" title=\"Volante (videojuegos)\">volante</a> compatible con la Wii. Se utiliza en algunos juegos para simular una conducci\\xc3\\xb3n.</li>\\n</ul>\\n<ul>\\n<li><a href=\"/wiki/Anexo:Accesorios_para_Wii#Wii_Vitality_Sensor\" title=\"Anexo:Accesorios para Wii\">Wii Vitality Sensor</a>: Un dispositivo anunciado por Nintendo en 2009 que medir\\xc3\\xada algunas funciones nerviosas aut\\xc3\\xb3nomas como el <a href=\"/wiki/Pulso\" title=\"Pulso\">pulso</a> e incorporar\\xc3\\xada los datos adquiridos en productos con fines relajantes,<sup id=\"cite_ref-2\" class=\"reference\"><a href=\"#cite_note-2\"><span class=\"corchete-llamada\">[</span>2<span class=\"corchete-llamada\">]</span></a></sup> <sup id=\"cite_ref-73rdSH_3-0\" class=\"reference\"><a href=\"#cite_note-73rdSH-3\"><span class=\"corchete-llamada\">[</span>3<span class=\"corchete-llamada\">]</span></a></sup> pero cuyo lanzamiento se pospuso de forma indefinida en 2013.<sup id=\"cite_ref-73rdSH_3-1\" class=\"reference\"><a href=\"#cite_note-73rdSH-3\"><span class=\"corchete-llamada\">[</span>3<span class=\"corchete-llamada\">]</span></a></sup> .</li>\\n</ul>\\n<ul>\\n<li><a href=\"/wiki/Wii_Remote#UDraw_Game_Tablet\" class=\"mw-redirect\" title=\"Wii Remote\">UDraw Game Tablet</a>: Tabla t\\xc3\\xa1ctil compatible con la Wii. Se utiliza en algunos juegos para dibujar.</li>\\n</ul>\\n<h2><span class=\"mw-headline\" id=\"Unidades_de_hardware_de_Nintendo_no_publicadas\">Unidades de hardware de Nintendo no publicadas</span><span class=\"mw-editsection\"><span class=\"mw-editsection-bracket\">[</span><a href=\"/w/index.php?title=Anexo:Consolas_de_Nintendo&amp;action=edit&amp;section=4\" title=\"Editar secci\\xc3\\xb3n: Unidades de hardware de Nintendo no publicadas\">editar</a><span class=\"mw-editsection-bracket\">]</span></span></h2>\\n<ul>\\n<li><a href=\"/w/index.php?title=Super_Nintendo_Port%C3%A1til&amp;action=edit&amp;redlink=1\" class=\"new\" title=\"Super Nintendo Port\\xc3\\xa1til (a\\xc3\\xban no redactado)\">Super Nintendo Port\\xc3\\xa1til</a> (1992): actualmente Nintendo apenas ha revelado informaci\\xc3\\xb3n de la consola port\\xc3\\xa1til, sin embargo el prototipo existi\\xc3\\xb3 y vendr\\xc3\\xada a ser el antecesor de la Game Boy Advance.</li>\\n</ul>\\n<ul>\\n<li><a href=\"/w/index.php?title=Super_Nintendo_PlayStation&amp;action=edit&amp;redlink=1\" class=\"new\" title=\"Super Nintendo PlayStation (a\\xc3\\xban no redactado)\">Super Nintendo PlayStation</a> (1993): la consola de Nintendo que funcionar\\xc3\\xada con un reproductor de CD de Sony. No sali\\xc3\\xb3 a la venta por un jaleo de derechos de copyright entre <a href=\"/wiki/Nintendo\" title=\"Nintendo\">Nintendo</a> y <a href=\"/wiki/Sony\" title=\"Sony\">Sony</a>.</li>\\n</ul>\\n<ul>\\n<li><a href=\"/w/index.php?title=Nintendo_DS_lite_XL&amp;action=edit&amp;redlink=1\" class=\"new\" title=\"Nintendo DS lite XL (a\\xc3\\xban no redactado)\">Nintendo DS lite XL</a><sup id=\"cite_ref-4\" class=\"reference\"><a href=\"#cite_note-4\"><span class=\"corchete-llamada\">[</span>4<span class=\"corchete-llamada\">]</span></a></sup> (2007): es la succesora de la Nintendo DS lite. Nintendo la revel\\xc3\\xb3 en diciembre de 2009, donde Satoru Iwata, el jefe de Nintendo comenta que la compa\\xc3\\xb1\\xc3\\xada fabric\\xc3\\xb3 un modelo en 2007. Una versi\\xc3\\xb3n de DS Lite con una pantalla mayor (3.8 pulgadas). Se lleg\\xc3\\xb3 hasta el punto de tener el hardware totalmente dise\\xc3\\xb1ado para distribuirlo a las tiendas. Sin embargo, los costes de producci\\xc3\\xb3n de una pantalla de ese tama\\xc3\\xb1o no eran viables y Nintendo rechaz\\xc3\\xb3 el proyecto.</li>\\n</ul>\\n<h2><span class=\"mw-headline\" id=\"Referencias\">Referencias</span><span class=\"mw-editsection\"><span class=\"mw-editsection-bracket\">[</span><a href=\"/w/index.php?title=Anexo:Consolas_de_Nintendo&amp;action=edit&amp;section=5\" title=\"Editar secci\\xc3\\xb3n: Referencias\">editar</a><span class=\"mw-editsection-bracket\">]</span></span></h2>\\n<div class=\"listaref\" style=\"list-style-type: decimal;\">\\n<ol class=\"references\">\\n<li id=\"cite_note-1\"><span class=\"mw-cite-backlink\"><a href=\"#cite_ref-1\">\\xe2\\x86\\x91</a></span> <span class=\"reference-text\"><span class=\"citation noticia\"><a rel=\"nofollow\" class=\"external text\" href=\"http://www.nintendo.ca/cgi-bin/usersite/display_info.cgi?lang=en&amp;pageNum=9&amp;id=1955846\">\\xc2\\xabNintendo\\'s holiday 2008: Wii Speak Channel, Club Nintendo, more surprises\\xc2\\xbb</a>. Nintendo. 2 de octubre de 2008<span class=\"reference-accessdate\">. Consultado el 23 de octubre de 2008</span>.</span><span title=\"ctx_ver=Z39.88-2004&amp;rfr_id=info%3Asid%2Fes.wikipedia.org%3AAnexo%3AConsolas+de+Nintendo&amp;rft.btitle=Nintendo%27s+holiday+2008%3A+Wii+Speak+Channel%2C+Club+Nintendo%2C+more+surprises&amp;rft.date=2+de+octubre+de+2008&amp;rft.genre=book&amp;rft_id=http%3A%2F%2Fwww.nintendo.ca%2Fcgi-bin%2Fusersite%2Fdisplay_info.cgi%3Flang%3Den%26pageNum%3D9%26id%3D1955846&amp;rft.pub=Nintendo&amp;rft_val_fmt=info%3Aofi%2Ffmt%3Akev%3Amtx%3Abook\" class=\"Z3988\"><span style=\"display:none;\">&#160;</span></span></span></li>\\n<li id=\"cite_note-2\"><span class=\"mw-cite-backlink\"><a href=\"#cite_ref-2\">\\xe2\\x86\\x91</a></span> <span class=\"reference-text\"><span id=\"CITAREFPearson2_de_junio_de_2009\" class=\"citation web\">Pearson, Dan (2 de junio de 2009). <a rel=\"nofollow\" class=\"external text\" href=\"http://www.eurogamer.net/articles/pulse-measuring-peripheral-announced-for-wii\">\\xc2\\xabE3: Iwata shows Wii Vitality Sensor\\xc2\\xbb</a>. <i><a href=\"/wiki/Eurogamer\" title=\"Eurogamer\">Eurogamer</a></i> <span style=\"color:#555;\">(en ingl\\xc3\\xa9s)</span>. Gamer Network<span class=\"reference-accessdate\">. Consultado el 9 de julio de 2016</span>.</span><span title=\"ctx_ver=Z39.88-2004&amp;rfr_id=info%3Asid%2Fes.wikipedia.org%3AAnexo%3AConsolas+de+Nintendo&amp;rft.atitle=E3%3A+Iwata+shows+Wii+Vitality+Sensor&amp;rft.aufirst=Dan&amp;rft.aulast=Pearson&amp;rft.au=Pearson%2C+Dan&amp;rft.date=2+de+junio+de+2009&amp;rft.genre=article&amp;rft_id=http%3A%2F%2Fwww.eurogamer.net%2Farticles%2Fpulse-measuring-peripheral-announced-for-wii&amp;rft.jtitle=Eurogamer&amp;rft.pub=Gamer+Network&amp;rft_val_fmt=info%3Aofi%2Ffmt%3Akev%3Amtx%3Ajournal\" class=\"Z3988\"><span style=\"display:none;\">&#160;</span></span></span></li>\\n<li id=\"cite_note-73rdSH-3\"><span class=\"mw-cite-backlink\">\\xe2\\x86\\x91 <a href=\"#cite_ref-73rdSH_3-0\"><sup><i><b>a</b></i></sup></a> <a href=\"#cite_ref-73rdSH_3-1\"><sup><i><b>b</b></i></sup></a></span> <span class=\"reference-text\"><span id=\"CITAREF2013\" class=\"citation web\"><a rel=\"nofollow\" class=\"external text\" href=\"http://www.nintendo.co.jp/ir/en/stock/meeting/130627qa/03.html\">\\xc2\\xabThe 73rd Annual General Meeting of Shareholders: Q&amp;A\\xc2\\xbb</a> <span style=\"color:#555;\">(en ingl\\xc3\\xa9s)</span>. Nintendo. 2013. p.&#160;3<span class=\"reference-accessdate\">. Consultado el 9 de julio de 2016</span>.</span><span title=\"ctx_ver=Z39.88-2004&amp;rfr_id=info%3Asid%2Fes.wikipedia.org%3AAnexo%3AConsolas+de+Nintendo&amp;rft.btitle=The+73rd+Annual+General+Meeting+of+Shareholders%3A+Q%26A&amp;rft.date=2013&amp;rft.genre=book&amp;rft_id=http%3A%2F%2Fwww.nintendo.co.jp%2Fir%2Fen%2Fstock%2Fmeeting%2F130627qa%2F03.html&amp;rft.pages=3&amp;rft.pub=Nintendo&amp;rft_val_fmt=info%3Aofi%2Ffmt%3Akev%3Amtx%3Abook\" class=\"Z3988\"><span style=\"display:none;\">&#160;</span></span></span></li>\\n<li id=\"cite_note-4\"><span class=\"mw-cite-backlink\"><a href=\"#cite_ref-4\">\\xe2\\x86\\x91</a></span> <span class=\"reference-text\"><span id=\"CITAREF15_de_diciembre_de_2009\" class=\"citation web\"><a rel=\"nofollow\" class=\"external text\" href=\"http://www.gizmos.es/23441/consolas/nintendo-revela-la-consola-perdida-ds-lite-xl/\">\\xc2\\xabNintendo revela la consola perdida, DS Lite XL\\xc2\\xbb</a>. Gizmos. 15 de diciembre de 2009<span class=\"reference-accessdate\">. Consultado el 9 de julio de 2016</span>.</span><span title=\"ctx_ver=Z39.88-2004&amp;rfr_id=info%3Asid%2Fes.wikipedia.org%3AAnexo%3AConsolas+de+Nintendo&amp;rft.btitle=Nintendo+revela+la+consola+perdida%2C+DS+Lite+XL&amp;rft.date=15+de+diciembre+de+2009&amp;rft.genre=book&amp;rft_id=http%3A%2F%2Fwww.gizmos.es%2F23441%2Fconsolas%2Fnintendo-revela-la-consola-perdida-ds-lite-xl%2F&amp;rft.pub=Gizmos&amp;rft_val_fmt=info%3Aofi%2Ffmt%3Akev%3Amtx%3Abook\" class=\"Z3988\"><span style=\"display:none;\">&#160;</span></span></span></li>\\n</ol>\\n</div>\\n<h2><span class=\"mw-headline\" id=\"V.C3.A9ase_tambi.C3.A9n\">V\\xc3\\xa9ase tambi\\xc3\\xa9n</span><span class=\"mw-editsection\"><span class=\"mw-editsection-bracket\">[</span><a href=\"/w/index.php?title=Anexo:Consolas_de_Nintendo&amp;action=edit&amp;section=6\" title=\"Editar secci\\xc3\\xb3n: V\\xc3\\xa9ase tambi\\xc3\\xa9n\">editar</a><span class=\"mw-editsection-bracket\">]</span></span></h2>\\n<ul>\\n<li><a href=\"/wiki/Nintendo\" title=\"Nintendo\">Nintendo</a></li>\\n</ul>\\n<h2><span class=\"mw-headline\" id=\"Enlaces_externos\">Enlaces externos</span><span class=\"mw-editsection\"><span class=\"mw-editsection-bracket\">[</span><a href=\"/w/index.php?title=Anexo:Consolas_de_Nintendo&amp;action=edit&amp;section=7\" title=\"Editar secci\\xc3\\xb3n: Enlaces externos\">editar</a><span class=\"mw-editsection-bracket\">]</span></span></h2>\\n<ul>\\n<li><a rel=\"nofollow\" class=\"external text\" href=\"http://www.nintendo.es/NOE/es_ES/historia_de_las_consolas_de_nintendo_58.html\">Web oficial de Nintendo: <i>Historia de las Consolas de Nintendo</i></a></li>\\n</ul>\\n\\n\\n<!-- \\nNewPP limit report\\nParsed by mw1248\\nCached time: 20170227080733\\nCache expiry: 2592000\\nDynamic content: false\\nCPU time usage: 0.076 seconds\\nReal time usage: 0.106 seconds\\nPreprocessor visited node count: 550/1000000\\nPreprocessor generated node count: 0/1500000\\nPost\\xe2\\x80\\x90expand include size: 8523/2097152 bytes\\nTemplate argument size: 282/2097152 bytes\\nHighest expansion depth: 9/40\\nExpensive parser function count: 0/500\\nLua time usage: 0.017/10.000 seconds\\nLua memory usage: 1.55 MB/50 MB\\n-->\\n<!--\\nTransclusion expansion time report (%,ms,calls,template)\\n100.00%   62.261      1 -total\\n 74.65%   46.480      1 Plantilla:Listaref\\n 48.06%   29.922      1 Plantilla:Cite_press_release\\n 13.80%    8.594      3 Plantilla:Cita_web\\n  9.95%    6.197      2 Plantilla:Bandera2\\n  9.94%    6.188      3 Plantilla:Jap\\xc3\\xb3n\\n  6.64%    4.134      2 Plantilla:China\\n  4.54%    2.824      1 Plantilla:Geodatos_Jap\\xc3\\xb3n\\n  3.36%    2.089      1 Plantilla:Geodatos_China\\n  3.32%    2.066      2 Plantilla:Bandera_icono-pa\\xc3\\xads\\n-->\\n\\n<!-- Saved in parser cache with key eswiki:pcache:idhash:4108036-0!*!0!!es!4!* and timestamp 20170227080732 and revision id 95630195\\n -->\\n<noscript><img src=\"//es.wikipedia.org/wiki/Special:CentralAutoLogin/start?type=1x1\" alt=\"\" title=\"\" width=\"1\" height=\"1\" style=\"border: none; position: absolute;\" /></noscript></div>\\t\\t\\t\\t\\t<div class=\"printfooter\">\\n\\t\\t\\t\\t\\t\\tObtenido de \\xc2\\xab<a dir=\"ltr\" href=\"https://es.wikipedia.org/w/index.php?title=Anexo:Consolas_de_Nintendo&amp;oldid=95630195\">https://es.wikipedia.org/w/index.php?title=Anexo:Consolas_de_Nintendo&amp;oldid=95630195</a>\\xc2\\xbb\\t\\t\\t\\t\\t</div>\\n\\t\\t\\t\\t<div id=\"catlinks\" class=\"catlinks\" data-mw=\"interface\"><div id=\"mw-normal-catlinks\" class=\"mw-normal-catlinks\"><a href=\"/wiki/Especial:Categor%C3%ADas\" title=\"Especial:Categor\\xc3\\xadas\">Categor\\xc3\\xada</a>: <ul><li><a href=\"/wiki/Categor%C3%ADa:Nintendo\" title=\"Categor\\xc3\\xada:Nintendo\">Nintendo</a></li></ul></div><div id=\"mw-hidden-catlinks\" class=\"mw-hidden-catlinks mw-hidden-cats-hidden\">Categor\\xc3\\xada oculta: <ul><li><a href=\"/wiki/Categor%C3%ADa:Wikipedia:P%C3%A1ginas_con_enlaces_rotos_a_archivos\" title=\"Categor\\xc3\\xada:Wikipedia:P\\xc3\\xa1ginas con enlaces rotos a archivos\">Wikipedia:P\\xc3\\xa1ginas con enlaces rotos a archivos</a></li></ul></div></div>\\t\\t\\t\\t<div class=\"visualClear\"></div>\\n\\t\\t\\t\\t\\t\\t\\t</div>\\n\\t\\t</div>\\n\\t\\t<div id=\"mw-navigation\">\\n\\t\\t\\t<h2>Men\\xc3\\xba de navegaci\\xc3\\xb3n</h2>\\n\\n\\t\\t\\t<div id=\"mw-head\">\\n\\t\\t\\t\\t\\t\\t\\t\\t\\t<div id=\"p-personal\" role=\"navigation\" class=\"\" aria-labelledby=\"p-personal-label\">\\n\\t\\t\\t\\t\\t\\t<h3 id=\"p-personal-label\">Herramientas personales</h3>\\n\\t\\t\\t\\t\\t\\t<ul>\\n\\t\\t\\t\\t\\t\\t\\t<li id=\"pt-anonuserpage\">No has iniciado sesi\\xc3\\xb3n</li><li id=\"pt-anontalk\"><a href=\"/wiki/Especial:MiDiscusi%C3%B3n\" title=\"Discusi\\xc3\\xb3n sobre ediciones hechas desde esta direcci\\xc3\\xb3n IP [n]\" accesskey=\"n\">Discusi\\xc3\\xb3n</a></li><li id=\"pt-anoncontribs\"><a href=\"/wiki/Especial:MisContribuciones\" title=\"Una lista de modificaciones hechas desde esta direcci\\xc3\\xb3n IP [y]\" accesskey=\"y\">Contribuciones</a></li><li id=\"pt-createaccount\"><a href=\"/w/index.php?title=Especial:Crear_una_cuenta&amp;returnto=Anexo%3AConsolas+de+Nintendo\" title=\"Te recomendamos crear una cuenta e iniciar sesi\\xc3\\xb3n; sin embargo, no es obligatorio\">Crear una cuenta</a></li><li id=\"pt-login\"><a href=\"/w/index.php?title=Especial:Entrar&amp;returnto=Anexo%3AConsolas+de+Nintendo\" title=\"Te recomendamos iniciar sesi\\xc3\\xb3n, aunque no es obligatorio [o]\" accesskey=\"o\">Acceder</a></li>\\t\\t\\t\\t\\t\\t</ul>\\n\\t\\t\\t\\t\\t</div>\\n\\t\\t\\t\\t\\t\\t\\t\\t\\t<div id=\"left-navigation\">\\n\\t\\t\\t\\t\\t\\t\\t\\t\\t\\t<div id=\"p-namespaces\" role=\"navigation\" class=\"vectorTabs\" aria-labelledby=\"p-namespaces-label\">\\n\\t\\t\\t\\t\\t\\t<h3 id=\"p-namespaces-label\">Espacios de nombres</h3>\\n\\t\\t\\t\\t\\t\\t<ul>\\n\\t\\t\\t\\t\\t\\t\\t\\t\\t\\t\\t\\t\\t\\t\\t<li  id=\"ca-nstab-anexo\" class=\"selected\"><span><a href=\"/wiki/Anexo:Consolas_de_Nintendo\" >Anexo</a></span></li>\\n\\t\\t\\t\\t\\t\\t\\t\\t\\t\\t\\t\\t\\t\\t\\t<li  id=\"ca-talk\"><span><a href=\"/wiki/Anexo_Discusi%C3%B3n:Consolas_de_Nintendo\"  title=\"Discusi\\xc3\\xb3n acerca del art\\xc3\\xadculo [t]\" accesskey=\"t\" rel=\"discussion\">Discusi\\xc3\\xb3n</a></span></li>\\n\\t\\t\\t\\t\\t\\t\\t\\t\\t\\t\\t\\t\\t</ul>\\n\\t\\t\\t\\t\\t</div>\\n\\t\\t\\t\\t\\t\\t\\t\\t\\t\\t<div id=\"p-variants\" role=\"navigation\" class=\"vectorMenu emptyPortlet\" aria-labelledby=\"p-variants-label\">\\n\\t\\t\\t\\t\\t\\t\\t\\t\\t\\t\\t\\t<h3 id=\"p-variants-label\">\\n\\t\\t\\t\\t\\t\\t\\t<span>Variantes</span><a href=\"#\"></a>\\n\\t\\t\\t\\t\\t\\t</h3>\\n\\n\\t\\t\\t\\t\\t\\t<div class=\"menu\">\\n\\t\\t\\t\\t\\t\\t\\t<ul>\\n\\t\\t\\t\\t\\t\\t\\t\\t\\t\\t\\t\\t\\t\\t\\t</ul>\\n\\t\\t\\t\\t\\t\\t</div>\\n\\t\\t\\t\\t\\t</div>\\n\\t\\t\\t\\t\\t\\t\\t\\t\\t</div>\\n\\t\\t\\t\\t<div id=\"right-navigation\">\\n\\t\\t\\t\\t\\t\\t\\t\\t\\t\\t<div id=\"p-views\" role=\"navigation\" class=\"vectorTabs\" aria-labelledby=\"p-views-label\">\\n\\t\\t\\t\\t\\t\\t<h3 id=\"p-views-label\">Vistas</h3>\\n\\t\\t\\t\\t\\t\\t<ul>\\n\\t\\t\\t\\t\\t\\t\\t\\t\\t\\t\\t\\t\\t\\t\\t<li id=\"ca-view\" class=\"selected\"><span><a href=\"/wiki/Anexo:Consolas_de_Nintendo\" >Leer</a></span></li>\\n\\t\\t\\t\\t\\t\\t\\t\\t\\t\\t\\t\\t\\t\\t\\t<li id=\"ca-edit\"><span><a href=\"/w/index.php?title=Anexo:Consolas_de_Nintendo&amp;action=edit\"  title=\"Editar esta p\\xc3\\xa1gina [e]\" accesskey=\"e\">Editar</a></span></li>\\n\\t\\t\\t\\t\\t\\t\\t\\t\\t\\t\\t\\t\\t\\t\\t<li id=\"ca-history\" class=\"collapsible\"><span><a href=\"/w/index.php?title=Anexo:Consolas_de_Nintendo&amp;action=history\"  title=\"Versiones anteriores de esta p\\xc3\\xa1gina [h]\" accesskey=\"h\">Ver historial</a></span></li>\\n\\t\\t\\t\\t\\t\\t\\t\\t\\t\\t\\t\\t\\t</ul>\\n\\t\\t\\t\\t\\t</div>\\n\\t\\t\\t\\t\\t\\t\\t\\t\\t\\t<div id=\"p-cactions\" role=\"navigation\" class=\"vectorMenu emptyPortlet\" aria-labelledby=\"p-cactions-label\">\\n\\t\\t\\t\\t\\t\\t<h3 id=\"p-cactions-label\"><span>M\\xc3\\xa1s</span><a href=\"#\"></a></h3>\\n\\n\\t\\t\\t\\t\\t\\t<div class=\"menu\">\\n\\t\\t\\t\\t\\t\\t\\t<ul>\\n\\t\\t\\t\\t\\t\\t\\t\\t\\t\\t\\t\\t\\t\\t\\t</ul>\\n\\t\\t\\t\\t\\t\\t</div>\\n\\t\\t\\t\\t\\t</div>\\n\\t\\t\\t\\t\\t\\t\\t\\t\\t\\t<div id=\"p-search\" role=\"search\">\\n\\t\\t\\t\\t\\t\\t<h3>\\n\\t\\t\\t\\t\\t\\t\\t<label for=\"searchInput\">Buscar</label>\\n\\t\\t\\t\\t\\t\\t</h3>\\n\\n\\t\\t\\t\\t\\t\\t<form action=\"/w/index.php\" id=\"searchform\">\\n\\t\\t\\t\\t\\t\\t\\t<div id=\"simpleSearch\">\\n\\t\\t\\t\\t\\t\\t\\t<input type=\"search\" name=\"search\" placeholder=\"Buscar en Wikipedia\" title=\"Buscar en este wiki [f]\" accesskey=\"f\" id=\"searchInput\"/><input type=\"hidden\" value=\"Especial:Buscar\" name=\"title\"/><input type=\"submit\" name=\"fulltext\" value=\"Buscar\" title=\"Busca p\\xc3\\xa1ginas con este texto.\" id=\"mw-searchButton\" class=\"searchButton mw-fallbackSearchButton\"/><input type=\"submit\" name=\"go\" value=\"Ir\" title=\"Ir a la p\\xc3\\xa1gina con este nombre exacto si existe\" id=\"searchButton\" class=\"searchButton\"/>\\t\\t\\t\\t\\t\\t\\t</div>\\n\\t\\t\\t\\t\\t\\t</form>\\n\\t\\t\\t\\t\\t</div>\\n\\t\\t\\t\\t\\t\\t\\t\\t\\t</div>\\n\\t\\t\\t</div>\\n\\t\\t\\t<div id=\"mw-panel\">\\n\\t\\t\\t\\t<div id=\"p-logo\" role=\"banner\"><a class=\"mw-wiki-logo\" href=\"/wiki/Wikipedia:Portada\"  title=\"Visitar la p\\xc3\\xa1gina principal\"></a></div>\\n\\t\\t\\t\\t\\t\\t<div class=\"portal\" role=\"navigation\" id=\\'p-navigation\\' aria-labelledby=\\'p-navigation-label\\'>\\n\\t\\t\\t<h3 id=\\'p-navigation-label\\'>Navegaci\\xc3\\xb3n</h3>\\n\\n\\t\\t\\t<div class=\"body\">\\n\\t\\t\\t\\t\\t\\t\\t\\t\\t<ul>\\n\\t\\t\\t\\t\\t\\t<li id=\"n-mainpage-description\"><a href=\"/wiki/Wikipedia:Portada\" title=\"Visitar la p\\xc3\\xa1gina principal [z]\" accesskey=\"z\">Portada</a></li><li id=\"n-portal\"><a href=\"/wiki/Portal:Comunidad\" title=\"Acerca del proyecto, lo que puedes hacer, d\\xc3\\xb3nde encontrar informaci\\xc3\\xb3n\">Portal de la comunidad</a></li><li id=\"n-currentevents\"><a href=\"/wiki/Portal:Actualidad\" title=\"Encuentra informaci\\xc3\\xb3n de contexto sobre acontecimientos actuales\">Actualidad</a></li><li id=\"n-recentchanges\"><a href=\"/wiki/Especial:CambiosRecientes\" title=\"Lista de cambios recientes en el wiki [r]\" accesskey=\"r\">Cambios recientes</a></li><li id=\"n-newpages\"><a href=\"/wiki/Especial:P%C3%A1ginasNuevas\">P\\xc3\\xa1ginas nuevas</a></li><li id=\"n-randompage\"><a href=\"/wiki/Especial:Aleatoria\" title=\"Cargar una p\\xc3\\xa1gina al azar [x]\" accesskey=\"x\">P\\xc3\\xa1gina aleatoria</a></li><li id=\"n-help\"><a href=\"/wiki/Ayuda:Contenidos\" title=\"El lugar para aprender\">Ayuda</a></li><li id=\"n-sitesupport\"><a href=\"//donate.wikimedia.org/wiki/Special:FundraiserRedirector?utm_source=donate&amp;utm_medium=sidebar&amp;utm_campaign=C13_es.wikipedia.org&amp;uselang=es\" title=\"Ap\\xc3\\xb3yanos\">Donaciones</a></li><li id=\"n-bug_in_article\"><a href=\"/wiki/Wikipedia:Informes_de_error\">Notificar un error</a></li>\\t\\t\\t\\t\\t</ul>\\n\\t\\t\\t\\t\\t\\t\\t</div>\\n\\t\\t</div>\\n\\t\\t\\t<div class=\"portal\" role=\"navigation\" id=\\'p-coll-print_export\\' aria-labelledby=\\'p-coll-print_export-label\\'>\\n\\t\\t\\t<h3 id=\\'p-coll-print_export-label\\'>Imprimir/exportar</h3>\\n\\n\\t\\t\\t<div class=\"body\">\\n\\t\\t\\t\\t\\t\\t\\t\\t\\t<ul>\\n\\t\\t\\t\\t\\t\\t<li id=\"coll-create_a_book\"><a href=\"/w/index.php?title=Especial:Libro&amp;bookcmd=book_creator&amp;referer=Anexo%3AConsolas+de+Nintendo\">Crear un libro</a></li><li id=\"coll-download-as-rdf2latex\"><a href=\"/w/index.php?title=Especial:Libro&amp;bookcmd=render_article&amp;arttitle=Anexo%3AConsolas+de+Nintendo&amp;returnto=Anexo%3AConsolas+de+Nintendo&amp;oldid=95630195&amp;writer=rdf2latex\">Descargar como PDF</a></li><li id=\"t-print\"><a href=\"/w/index.php?title=Anexo:Consolas_de_Nintendo&amp;printable=yes\" title=\"Versi\\xc3\\xb3n imprimible de esta p\\xc3\\xa1gina [p]\" accesskey=\"p\">Versi\\xc3\\xb3n para imprimir</a></li>\\t\\t\\t\\t\\t</ul>\\n\\t\\t\\t\\t\\t\\t\\t</div>\\n\\t\\t</div>\\n\\t\\t\\t<div class=\"portal\" role=\"navigation\" id=\\'p-wikibase-otherprojects\\' aria-labelledby=\\'p-wikibase-otherprojects-label\\'>\\n\\t\\t\\t<h3 id=\\'p-wikibase-otherprojects-label\\'>En otros proyectos</h3>\\n\\n\\t\\t\\t<div class=\"body\">\\n\\t\\t\\t\\t\\t\\t\\t\\t\\t<ul>\\n\\t\\t\\t\\t\\t\\t<li class=\"wb-otherproject-link wb-otherproject-commons\"><a href=\"https://commons.wikimedia.org/wiki/Category:Nintendo_consoles\" hreflang=\"en\">Wikimedia Commons</a></li>\\t\\t\\t\\t\\t</ul>\\n\\t\\t\\t\\t\\t\\t\\t</div>\\n\\t\\t</div>\\n\\t\\t\\t<div class=\"portal\" role=\"navigation\" id=\\'p-tb\\' aria-labelledby=\\'p-tb-label\\'>\\n\\t\\t\\t<h3 id=\\'p-tb-label\\'>Herramientas</h3>\\n\\n\\t\\t\\t<div class=\"body\">\\n\\t\\t\\t\\t\\t\\t\\t\\t\\t<ul>\\n\\t\\t\\t\\t\\t\\t<li id=\"t-whatlinkshere\"><a href=\"/wiki/Especial:LoQueEnlazaAqu%C3%AD/Anexo:Consolas_de_Nintendo\" title=\"Lista de todas las p\\xc3\\xa1ginas del wiki que enlazan aqu\\xc3\\xad [j]\" accesskey=\"j\">Lo que enlaza aqu\\xc3\\xad</a></li><li id=\"t-recentchangeslinked\"><a href=\"/wiki/Especial:CambiosEnEnlazadas/Anexo:Consolas_de_Nintendo\" rel=\"nofollow\" title=\"Cambios recientes en las p\\xc3\\xa1ginas que enlazan con esta [k]\" accesskey=\"k\">Cambios en enlazadas</a></li><li id=\"t-upload\"><a href=\"//commons.wikimedia.org/wiki/Special:UploadWizard?uselang=es\" title=\"Subir archivos [u]\" accesskey=\"u\">Subir archivo</a></li><li id=\"t-specialpages\"><a href=\"/wiki/Especial:P%C3%A1ginasEspeciales\" title=\"Lista de todas las p\\xc3\\xa1ginas especiales [q]\" accesskey=\"q\">P\\xc3\\xa1ginas especiales</a></li><li id=\"t-permalink\"><a href=\"/w/index.php?title=Anexo:Consolas_de_Nintendo&amp;oldid=95630195\" title=\"Enlace permanente a esta versi\\xc3\\xb3n de la p\\xc3\\xa1gina\">Enlace permanente</a></li><li id=\"t-info\"><a href=\"/w/index.php?title=Anexo:Consolas_de_Nintendo&amp;action=info\" title=\"M\\xc3\\xa1s informaci\\xc3\\xb3n sobre esta p\\xc3\\xa1gina\">Informaci\\xc3\\xb3n de la p\\xc3\\xa1gina</a></li><li id=\"t-wikibase\"><a href=\"https://www.wikidata.org/wiki/Q948162\" title=\"Enlace al elemento conectado del repositorio de datos [g]\" accesskey=\"g\">Elemento de Wikidata</a></li><li id=\"t-cite\"><a href=\"/w/index.php?title=Especial:Citar&amp;page=Anexo%3AConsolas_de_Nintendo&amp;id=95630195\" title=\"Informaci\\xc3\\xb3n sobre c\\xc3\\xb3mo citar esta p\\xc3\\xa1gina\">Citar esta p\\xc3\\xa1gina</a></li>\\t\\t\\t\\t\\t</ul>\\n\\t\\t\\t\\t\\t\\t\\t</div>\\n\\t\\t</div>\\n\\t\\t\\t<div class=\"portal\" role=\"navigation\" id=\\'p-lang\\' aria-labelledby=\\'p-lang-label\\'>\\n\\t\\t\\t<h3 id=\\'p-lang-label\\'>En otros idiomas</h3>\\n\\n\\t\\t\\t<div class=\"body\">\\n\\t\\t\\t\\t\\t\\t\\t\\t\\t<ul>\\n\\t\\t\\t\\t\\t\\t<li class=\"interlanguage-link interwiki-en\"><a href=\"https://en.wikipedia.org/wiki/Nintendo_video_game_consoles\" title=\"Nintendo video game consoles (ingl\\xc3\\xa9s)\" lang=\"en\" hreflang=\"en\" class=\"interlanguage-link-target\">English</a></li><li class=\"interlanguage-link interwiki-it\"><a href=\"https://it.wikipedia.org/wiki/Console_Nintendo\" title=\"Console Nintendo (italiano)\" lang=\"it\" hreflang=\"it\" class=\"interlanguage-link-target\">Italiano</a></li><li class=\"interlanguage-link interwiki-pt\"><a href=\"https://pt.wikipedia.org/wiki/Lista_de_consoles_da_Nintendo\" title=\"Lista de consoles da Nintendo (portugu\\xc3\\xa9s)\" lang=\"pt\" hreflang=\"pt\" class=\"interlanguage-link-target\">Portugu\\xc3\\xaas</a></li>\\t\\t\\t\\t\\t</ul>\\n\\t\\t\\t\\t<div class=\\'after-portlet after-portlet-lang\\'><span class=\"wb-langlinks-edit wb-langlinks-link\"><a href=\"https://www.wikidata.org/wiki/Q948162#sitelinks-wikipedia\" title=\"Editar enlaces interling\\xc3\\xbc\\xc3\\xadsticos\" class=\"wbc-editpage\">Editar enlaces</a></span></div>\\t\\t\\t</div>\\n\\t\\t</div>\\n\\t\\t\\t\\t</div>\\n\\t\\t</div>\\n\\t\\t<div id=\"footer\" role=\"contentinfo\">\\n\\t\\t\\t\\t\\t\\t\\t<ul id=\"footer-info\">\\n\\t\\t\\t\\t\\t\\t\\t\\t\\t\\t\\t<li id=\"footer-info-lastmod\"> Esta p\\xc3\\xa1gina fue modificada por \\xc3\\xbaltima vez el 15 dic 2016 a las 14:42.</li>\\n\\t\\t\\t\\t\\t\\t\\t\\t\\t\\t\\t<li id=\"footer-info-copyright\">El texto est\\xc3\\xa1 disponible bajo la <a rel=\"license\" href=\"//es.wikipedia.org/wiki/Wikipedia:Texto_de_la_Licencia_Creative_Commons_Atribuci%C3%B3n-CompartirIgual_3.0_Unported\">Licencia Creative Commons Atribuci\\xc3\\xb3n Compartir Igual\\xc2\\xa03.0</a><a rel=\"license\" href=\"http://creativecommons.org/licenses/by-sa/3.0/\" style=\"display:none;\"></a>;\\npueden aplicarse cl\\xc3\\xa1usulas adicionales. Al usar este sitio, usted acepta nuestros <a href=\"//wikimediafoundation.org/wiki/Terms_of_Use\">t\\xc3\\xa9rminos de uso</a> y nuestra <a href=\"//wikimediafoundation.org/wiki/Privacy_policy\">pol\\xc3\\xadtica de privacidad</a>. <br/>Wikipedia&reg; es una marca registrada de la <a href=\"//www.wikimediafoundation.org/\">Fundaci\\xc3\\xb3n Wikimedia, Inc.</a>, una organizaci\\xc3\\xb3n sin \\xc3\\xa1nimo de lucro.</li>\\n\\t\\t\\t\\t\\t\\t\\t\\t\\t</ul>\\n\\t\\t\\t\\t\\t\\t\\t<ul id=\"footer-places\">\\n\\t\\t\\t\\t\\t\\t\\t\\t\\t\\t\\t<li id=\"footer-places-privacy\"><a href=\"https://meta.wikimedia.org/wiki/Privacy_policy/es\" class=\"extiw\" title=\"m:Privacy policy/es\">Pol\\xc3\\xadtica de privacidad</a></li>\\n\\t\\t\\t\\t\\t\\t\\t\\t\\t\\t\\t<li id=\"footer-places-about\"><a href=\"/wiki/Wikipedia:Acerca_de\" title=\"Wikipedia:Acerca de\">Acerca de Wikipedia</a></li>\\n\\t\\t\\t\\t\\t\\t\\t\\t\\t\\t\\t<li id=\"footer-places-disclaimer\"><a href=\"/wiki/Wikipedia:Limitaci%C3%B3n_general_de_responsabilidad\" title=\"Wikipedia:Limitaci\\xc3\\xb3n general de responsabilidad\">Limitaci\\xc3\\xb3n de responsabilidad</a></li>\\n\\t\\t\\t\\t\\t\\t\\t\\t\\t\\t\\t<li id=\"footer-places-developers\"><a href=\"https://www.mediawiki.org/wiki/Special:MyLanguage/How_to_contribute\">Desarrolladores</a></li>\\n\\t\\t\\t\\t\\t\\t\\t\\t\\t\\t\\t<li id=\"footer-places-cookiestatement\"><a href=\"https://wikimediafoundation.org/wiki/Cookie_statement/es\">Declaraci\\xc3\\xb3n de cookies</a></li>\\n\\t\\t\\t\\t\\t\\t\\t\\t\\t\\t\\t<li id=\"footer-places-mobileview\"><a href=\"//es.m.wikipedia.org/w/index.php?title=Anexo:Consolas_de_Nintendo&amp;mobileaction=toggle_view_mobile\" class=\"noprint stopMobileRedirectToggle\">Versi\\xc3\\xb3n para m\\xc3\\xb3viles</a></li>\\n\\t\\t\\t\\t\\t\\t\\t\\t\\t</ul>\\n\\t\\t\\t\\t\\t\\t\\t\\t\\t\\t<ul id=\"footer-icons\" class=\"noprint\">\\n\\t\\t\\t\\t\\t\\t\\t\\t\\t\\t\\t<li id=\"footer-copyrightico\">\\n\\t\\t\\t\\t\\t\\t\\t<a href=\"https://wikimediafoundation.org/\"><img src=\"/static/images/wikimedia-button.png\" srcset=\"/static/images/wikimedia-button-1.5x.png 1.5x, /static/images/wikimedia-button-2x.png 2x\" width=\"88\" height=\"31\" alt=\"Wikimedia Foundation\"/></a>\\t\\t\\t\\t\\t\\t</li>\\n\\t\\t\\t\\t\\t\\t\\t\\t\\t\\t\\t<li id=\"footer-poweredbyico\">\\n\\t\\t\\t\\t\\t\\t\\t<a href=\"//www.mediawiki.org/\"><img src=\"/static/images/poweredby_mediawiki_88x31.png\" alt=\"Powered by MediaWiki\" srcset=\"/static/images/poweredby_mediawiki_132x47.png 1.5x, /static/images/poweredby_mediawiki_176x62.png 2x\" width=\"88\" height=\"31\"/></a>\\t\\t\\t\\t\\t\\t</li>\\n\\t\\t\\t\\t\\t\\t\\t\\t\\t</ul>\\n\\t\\t\\t\\t\\t\\t<div style=\"clear:both\"></div>\\n\\t\\t</div>\\n\\t\\t<script>(window.RLQ=window.RLQ||[]).push(function(){mw.config.set({\"wgPageParseReport\":{\"limitreport\":{\"cputime\":\"0.076\",\"walltime\":\"0.106\",\"ppvisitednodes\":{\"value\":550,\"limit\":1000000},\"ppgeneratednodes\":{\"value\":0,\"limit\":1500000},\"postexpandincludesize\":{\"value\":8523,\"limit\":2097152},\"templateargumentsize\":{\"value\":282,\"limit\":2097152},\"expansiondepth\":{\"value\":9,\"limit\":40},\"expensivefunctioncount\":{\"value\":0,\"limit\":500},\"entityaccesscount\":{\"value\":0,\"limit\":400},\"timingprofile\":[\"100.00%   62.261      1 -total\",\" 74.65%   46.480      1 Plantilla:Listaref\",\" 48.06%   29.922      1 Plantilla:Cite_press_release\",\" 13.80%    8.594      3 Plantilla:Cita_web\",\"  9.95%    6.197      2 Plantilla:Bandera2\",\"  9.94%    6.188      3 Plantilla:Jap\\xc3\\xb3n\",\"  6.64%    4.134      2 Plantilla:China\",\"  4.54%    2.824      1 Plantilla:Geodatos_Jap\\xc3\\xb3n\",\"  3.36%    2.089      1 Plantilla:Geodatos_China\",\"  3.32%    2.066      2 Plantilla:Bandera_icono-pa\\xc3\\xads\"]},\"scribunto\":{\"limitreport-timeusage\":{\"value\":\"0.017\",\"limit\":\"10.000\"},\"limitreport-memusage\":{\"value\":1629447,\"limit\":52428800}},\"cachereport\":{\"origin\":\"mw1248\",\"timestamp\":\"20170227080733\",\"ttl\":2592000,\"transientcontent\":false}}});});</script><script>(window.RLQ=window.RLQ||[]).push(function(){mw.config.set({\"wgBackendResponseTime\":57,\"wgHostname\":\"mw1212\"});});</script>\\n\\t</body>\\n</html>\\n'"
      ]
     },
     "execution_count": 16,
     "metadata": {},
     "output_type": "execute_result"
    }
   ],
   "source": [
    "data_nintendowiki.content"
   ]
  },
  {
   "cell_type": "code",
   "execution_count": 17,
   "metadata": {
    "collapsed": true
   },
   "outputs": [],
   "source": [
    "from bs4 import BeautifulSoup"
   ]
  },
  {
   "cell_type": "code",
   "execution_count": 18,
   "metadata": {
    "collapsed": false
   },
   "outputs": [
    {
     "name": "stderr",
     "output_type": "stream",
     "text": [
      "/usr/local/lib/python3.4/site-packages/bs4/__init__.py:166: UserWarning: No parser was explicitly specified, so I'm using the best available HTML parser for this system (\"lxml\"). This usually isn't a problem, but if you run this code on another system, or in a different virtual environment, it may use a different parser and behave differently.\n",
      "\n",
      "To get rid of this warning, change this:\n",
      "\n",
      " BeautifulSoup([your markup])\n",
      "\n",
      "to this:\n",
      "\n",
      " BeautifulSoup([your markup], \"lxml\")\n",
      "\n",
      "  markup_type=markup_type))\n"
     ]
    }
   ],
   "source": [
    "soup  = BeautifulSoup(data_nintendowiki.content)"
   ]
  },
  {
   "cell_type": "code",
   "execution_count": 20,
   "metadata": {
    "collapsed": false
   },
   "outputs": [],
   "source": [
    "tablas_wiki = soup.findAll(\"table\",{\"class\":\"wikitable\"})"
   ]
  },
  {
   "cell_type": "code",
   "execution_count": 21,
   "metadata": {
    "collapsed": false
   },
   "outputs": [
    {
     "data": {
      "text/plain": [
       "1"
      ]
     },
     "execution_count": 21,
     "metadata": {},
     "output_type": "execute_result"
    }
   ],
   "source": [
    "len(tablas_wiki)"
   ]
  },
  {
   "cell_type": "code",
   "execution_count": 22,
   "metadata": {
    "collapsed": false
   },
   "outputs": [
    {
     "data": {
      "text/plain": [
       "<table class=\"wikitable\">\n",
       "<caption>Consolas</caption>\n",
       "<tr>\n",
       "<th width=\"100px;\">Generación</th>\n",
       "<th width=\"225px;\">Nombre de la serie</th>\n",
       "<th width=\"50px;\">Número de consolas</th>\n",
       "<th width=\"75px;\">Tipo</th>\n",
       "<th width=\"150px;\">Descripción</th>\n",
       "</tr>\n",
       "<tr>\n",
       "<td><a href=\"/wiki/Videoconsolas_de_primera_generaci%C3%B3n\" title=\"Videoconsolas de primera generación\">Segunda Generación</a></td>\n",
       "<td>Color TV Game (CTG)</td>\n",
       "<td>5</td>\n",
       "<td>Consola de sobremesa</td>\n",
       "<td>La serie <b>Color TV</b> se distribuyó solo en <a href=\"/wiki/Jap%C3%B3n\" title=\"Japón\">Japón</a>. Algunos de los <a href=\"/wiki/Videojuego\" title=\"Videojuego\">videojuegos</a> más importantes de la color TV eran originalmente creados por <a href=\"/wiki/Atari\" title=\"Atari\">Atari</a>.</td>\n",
       "</tr>\n",
       "<tr>\n",
       "<td><a href=\"/wiki/Videoconsolas_de_segunda_generaci%C3%B3n\" title=\"Videoconsolas de segunda generación\">Segunda Generación</a></td>\n",
       "<td>Game&amp;Watch (G&amp;W)</td>\n",
       "<td>11</td>\n",
       "<td>Consola portátil</td>\n",
       "<td>Fueron las primeras <a href=\"/wiki/Videoconsola\" title=\"Videoconsola\">consolas portátiles</a> de <a href=\"/wiki/Nintendo\" title=\"Nintendo\">Nintendo</a>. Personajes tan <a class=\"mw-redirect\" href=\"/wiki/Famoso\" title=\"Famoso\">famosos</a> como <a href=\"/wiki/Mario_(personaje)\" title=\"Mario (personaje)\">Mario</a>, <a href=\"/wiki/Donkey_Kong\" title=\"Donkey Kong\">Donkey Kong</a> o <a class=\"mw-redirect\" href=\"/wiki/The_legend_of_zelda\" title=\"The legend of zelda\">Link</a> nacieron en esta <a href=\"/wiki/Videoconsola\" title=\"Videoconsola\">consola</a>. También juegos como el <a href=\"/wiki/Pinball\" title=\"Pinball\">pinball</a>. También se creó en esta consola el <a href=\"/wiki/Personaje\" title=\"Personaje\">personaje</a> más importante de <a href=\"/wiki/Game_%26_Watch\" title=\"Game &amp; Watch\">Game &amp; Watch</a>, <a href=\"/wiki/Mr._Game_and_Watch\" title=\"Mr. Game and Watch\">Hideo</a>, o como lo llaman otros, Mr.G&amp;W.</td>\n",
       "</tr>\n",
       "<tr>\n",
       "<td><a href=\"/wiki/Videoconsolas_de_tercera_generaci%C3%B3n\" title=\"Videoconsolas de tercera generación\">Tercera</a> y <a href=\"/wiki/Videoconsolas_de_cuarta_generaci%C3%B3n\" title=\"Videoconsolas de cuarta generación\">Cuarta Generación</a></td>\n",
       "<td>Nintendo Entertainment System (NES)</td>\n",
       "<td>2</td>\n",
       "<td>Consola de Sobremesa</td>\n",
       "<td>Esta <a href=\"/wiki/Videoconsola\" title=\"Videoconsola\">consola</a> tuvo varios nombres en el mercado según la región donde se vendió. En <a href=\"/wiki/Jap%C3%B3n\" title=\"Japón\">Japón</a> se la llamó <b>Family Computer</b>, abreviado como Famicom. En <a href=\"/wiki/Corea_del_Sur\" title=\"Corea del Sur\">Corea del Sur</a>, <b>Hyundai Comboy</b>. En <a href=\"/wiki/Rusia\" title=\"Rusia\">Rusia</a>, <b>Dendy</b> y en el <a class=\"mw-redirect\" href=\"/wiki/Sur_de_Asia\" title=\"Sur de Asia\">sur de Asia</a>, <b>Tata Famicom</b>. En América y Europa se la llamó NES</td>\n",
       "</tr>\n",
       "<tr>\n",
       "<td><a href=\"/wiki/Videoconsolas_de_tercera_generaci%C3%B3n\" title=\"Videoconsolas de tercera generación\">Tercera</a>, <a href=\"/wiki/Videoconsolas_de_cuarta_generaci%C3%B3n\" title=\"Videoconsolas de cuarta generación\">Cuarta</a>, <a href=\"/wiki/Videoconsolas_de_quinta_generaci%C3%B3n\" title=\"Videoconsolas de quinta generación\">Quinta</a> y <a href=\"/wiki/Videoconsolas_de_sexta_generaci%C3%B3n\" title=\"Videoconsolas de sexta generación\">Sexta Generación</a></td>\n",
       "<td>Game Boy (GB-GBA)</td>\n",
       "<td>7</td>\n",
       "<td>Consola portátil</td>\n",
       "<td>Esta serie fue especialmente importante para el hardware portátil de Nintendo; en primer lugar, aparecieron características como la <a class=\"mw-redirect\" href=\"/wiki/Retroiluminaci%C3%B3n\" title=\"Retroiluminación\">retroiluminación</a>, la mejora de los altavoces, la <a class=\"mw-redirect\" href=\"/wiki/C%C3%A1mara_de_fotos\" title=\"Cámara de fotos\">cámara de fotos</a> en consola y la posterior impresión de estas y la sustitución de las tradicionales <a class=\"mw-redirect\" href=\"/wiki/Pila_(electricidad)\" title=\"Pila (electricidad)\">pilas</a> por <a class=\"mw-redirect\" href=\"/wiki/Bater%C3%ADa_(electricidad)\" title=\"Batería (electricidad)\">baterías</a> entre otras. Por otra parte, los juegos mejoraron su diseño en cartuchos y su gran calidad gráfica y sonora.</td>\n",
       "</tr>\n",
       "<tr>\n",
       "<td><a href=\"/wiki/Videoconsolas_de_quinta_generaci%C3%B3n\" title=\"Videoconsolas de quinta generación\">Quinta</a></td>\n",
       "<td>Virtual Boy</td>\n",
       "<td>1</td>\n",
       "<td>Consola pseudoportátil</td>\n",
       "<td>La Virtual Boy es una consola formada básicamente por un proyector con forma de gafas por las que se veía el videojuego en cuestión en <a class=\"mw-redirect\" href=\"/wiki/3D\" title=\"3D\">3D</a> (<a class=\"mw-redirect\" href=\"/wiki/Monocrom%C3%A1tico\" title=\"Monocromático\">monocromático</a>) gracias a un <a class=\"mw-redirect\" href=\"/wiki/Estereosc%C3%B3pico\" title=\"Estereoscópico\">efecto estereoscópico</a>. Fue la consola más fracasante que Nintendo ha creado en toda su historia.</td>\n",
       "</tr>\n",
       "<tr>\n",
       "<td><a href=\"/wiki/Videoconsolas_de_quinta_generaci%C3%B3n\" title=\"Videoconsolas de quinta generación\">Quinta</a></td>\n",
       "<td>Nintendo 64 (N64)</td>\n",
       "<td>1</td>\n",
       "<td>Consola de Sobremesa</td>\n",
       "<td>Llamada así por su procesador (<a href=\"/wiki/64_bits\" title=\"64 bits\">64 bits</a>). El mando de esta consola fue aclamado por el público de Nintendo; fue el primero de la historia de los videojuegos en <a href=\"/wiki/Vibraci%C3%B3n\" title=\"Vibración\">vibrar</a> y llevar un <a class=\"mw-disambig\" href=\"/wiki/Stick\" title=\"Stick\">stick analógico</a> incorporado. Además los cartuchos de este fueron clave para la evolución de la memoria externa del hardware de Nintendo. Los cartuchos, a diferencia de los discos, podían guardar partidas, evitaban la <a class=\"mw-redirect\" href=\"/wiki/Pirater%C3%ADa_(Derecho_de_autor)\" title=\"Piratería (Derecho de autor)\">piratería</a> y eran difíciles de dañar.</td>\n",
       "</tr>\n",
       "<tr>\n",
       "<td><a href=\"/wiki/Videoconsolas_de_sexta_generaci%C3%B3n\" title=\"Videoconsolas de sexta generación\">Sexta</a></td>\n",
       "<td>Nintendo GameCube (GC)</td>\n",
       "<td>1</td>\n",
       "<td>Consola de Sobremesa</td>\n",
       "<td>Con esta consola, Nintendo prescindió por primera vez de los <a href=\"/wiki/Cartucho_(inform%C3%A1tica)\" title=\"Cartucho (informática)\">cartuchos</a> y comenzó a utilizar para sus consolas de sobremesa los <a href=\"/wiki/Disco_compacto\" title=\"Disco compacto\">Discos Ópticos</a>. En el caso de la GameCube, se utiliza el G.O.D. ó <i>GameCube Optical Disc</i>, de 8 <a href=\"/wiki/Cent%C3%ADmetro\" title=\"Centímetro\">cm</a> de diámetro y de 1'5 <a href=\"/wiki/Gigabyte\" title=\"Gigabyte\">gigabytes</a>. La GameCube logró vender 21,74 millones de unidades mundialmente.</td>\n",
       "</tr>\n",
       "<tr>\n",
       "<td><a href=\"/wiki/Videoconsolas_de_s%C3%A9ptima_generaci%C3%B3n\" title=\"Videoconsolas de séptima generación\">Séptima</a> y <a href=\"/wiki/Videoconsolas_de_octava_generaci%C3%B3n\" title=\"Videoconsolas de octava generación\">Octava Generación</a></td>\n",
       "<td>Nintendo DS (DS, NDS) Nintendo 3DS (N3DS) (3DS) y Nintendo 2DS (N2DS) (2DS)</td>\n",
       "<td>5</td>\n",
       "<td>Consola Portátil</td>\n",
       "<td>La serie de la <a href=\"/wiki/Nintendo_DS\" title=\"Nintendo DS\">Nintendo DS</a> fue y es la más importante de las <a href=\"/wiki/Videoconsola\" title=\"Videoconsola\">consolas</a> portátiles de Nintendo. En cada una de ellas se producen grandes cambios a la anterior, sin embargo, todas tienen una tarjeta compatible (A pesar que hay algunas que son compatibles con otras). La característica clave es la <a href=\"/wiki/Pantalla_t%C3%A1ctil\" title=\"Pantalla táctil\">pantalla táctil</a>.</td>\n",
       "</tr>\n",
       "<tr>\n",
       "<td><a href=\"/wiki/Videoconsolas_de_s%C3%A9ptima_generaci%C3%B3n\" title=\"Videoconsolas de séptima generación\">Séptima</a> y <a href=\"/wiki/Videoconsolas_de_octava_generaci%C3%B3n\" title=\"Videoconsolas de octava generación\">Octava Generación</a></td>\n",
       "<td>Nintendo Wii (Wii, NW), Wii U (WU) y Wii Mini</td>\n",
       "<td>2</td>\n",
       "<td>Consola de Sobremesa</td>\n",
       "<td>El origen del nombre es incierto, pero Nintendo declaró que: \"Wii suena como la palabra inglesa <i>we</i> (\"nosotros\"), lo que enfatiza que la consola es para todos.\" Esta consola ha recibido curiosos nombres clave en su desarrollo. Mientras que <a href=\"/wiki/Wii\" title=\"Wii\">Wii</a> respondía al nombre de \"The Revolution\", la <a href=\"/wiki/Wii_U\" title=\"Wii U\">Wii U</a> fue nombrada como \"Project Café\".</td>\n",
       "</tr>\n",
       "<tr>\n",
       "<td><a class=\"new\" href=\"/w/index.php?title=Videoconsolas_de_novena_generaci%C3%B3n&amp;action=edit&amp;redlink=1\" title=\"Videoconsolas de novena generación (aún no redactado)\">Novena generación</a></td>\n",
       "<td>Nintendo Switch</td>\n",
       "<td>1</td>\n",
       "<td>Consola Hibrida</td>\n",
       "<td>Ninendo Switch, también conocida como Nintendo NX (nombre en clave) es una consola actualmente en desarrollo de la compañía Nintendo, anunciada el 17 de marzo de 2015 durante una conferencia de prensa. Se trata de una consola híbrida entre consola de sobremesa y consola portátil. Y tiene como fecha de lanzamiento marzo de 2017.</td>\n",
       "</tr>\n",
       "</table>"
      ]
     },
     "execution_count": 22,
     "metadata": {},
     "output_type": "execute_result"
    }
   ],
   "source": [
    "tablas_wiki[0]"
   ]
  },
  {
   "cell_type": "code",
   "execution_count": 30,
   "metadata": {
    "collapsed": false
   },
   "outputs": [],
   "source": [
    "rows = tablas_wiki[0].findAll(\"tr\")"
   ]
  },
  {
   "cell_type": "code",
   "execution_count": 26,
   "metadata": {
    "collapsed": true
   },
   "outputs": [],
   "source": [
    "import pandas as pd"
   ]
  },
  {
   "cell_type": "code",
   "execution_count": 32,
   "metadata": {
    "collapsed": false
   },
   "outputs": [
    {
     "data": {
      "text/plain": [
       "<tr>\n",
       "<th width=\"100px;\">Generación</th>\n",
       "<th width=\"225px;\">Nombre de la serie</th>\n",
       "<th width=\"50px;\">Número de consolas</th>\n",
       "<th width=\"75px;\">Tipo</th>\n",
       "<th width=\"150px;\">Descripción</th>\n",
       "</tr>"
      ]
     },
     "execution_count": 32,
     "metadata": {},
     "output_type": "execute_result"
    }
   ],
   "source": [
    "rows[0]"
   ]
  },
  {
   "cell_type": "code",
   "execution_count": 34,
   "metadata": {
    "collapsed": false
   },
   "outputs": [],
   "source": [
    "nombres_columnas = []\n",
    "for nombre_columna in rows[0].findAll(\"th\"):\n",
    "    nombres_columnas.append(nombre_columna.text)"
   ]
  },
  {
   "cell_type": "code",
   "execution_count": 35,
   "metadata": {
    "collapsed": false
   },
   "outputs": [
    {
     "data": {
      "text/plain": [
       "['Generación',\n",
       " 'Nombre de la serie',\n",
       " 'Número de consolas',\n",
       " 'Tipo',\n",
       " 'Descripción']"
      ]
     },
     "execution_count": 35,
     "metadata": {},
     "output_type": "execute_result"
    }
   ],
   "source": [
    "nombres_columnas"
   ]
  },
  {
   "cell_type": "code",
   "execution_count": 36,
   "metadata": {
    "collapsed": false
   },
   "outputs": [
    {
     "data": {
      "text/plain": [
       "<tr>\n",
       "<th width=\"100px;\">Generación</th>\n",
       "<th width=\"225px;\">Nombre de la serie</th>\n",
       "<th width=\"50px;\">Número de consolas</th>\n",
       "<th width=\"75px;\">Tipo</th>\n",
       "<th width=\"150px;\">Descripción</th>\n",
       "</tr>"
      ]
     },
     "execution_count": 36,
     "metadata": {},
     "output_type": "execute_result"
    }
   ],
   "source": [
    "rows.pop(0)"
   ]
  },
  {
   "cell_type": "code",
   "execution_count": 43,
   "metadata": {
    "collapsed": false
   },
   "outputs": [],
   "source": [
    "data_table = []\n",
    "for row in rows:\n",
    "    current_data = {}\n",
    "    i = 0\n",
    "    for column in row.findAll(\"td\"):\n",
    "        current_data[nombres_columnas[i]] = column.text\n",
    "        i = i +1\n",
    "    data_table.append(current_data)"
   ]
  },
  {
   "cell_type": "code",
   "execution_count": 45,
   "metadata": {
    "collapsed": false
   },
   "outputs": [
    {
     "data": {
      "text/html": [
       "<div>\n",
       "<table border=\"1\" class=\"dataframe\">\n",
       "  <thead>\n",
       "    <tr style=\"text-align: right;\">\n",
       "      <th></th>\n",
       "      <th>Descripción</th>\n",
       "      <th>Generación</th>\n",
       "      <th>Nombre de la serie</th>\n",
       "      <th>Número de consolas</th>\n",
       "      <th>Tipo</th>\n",
       "    </tr>\n",
       "  </thead>\n",
       "  <tbody>\n",
       "    <tr>\n",
       "      <th>0</th>\n",
       "      <td>La serie Color TV se distribuyó solo en Japón....</td>\n",
       "      <td>Segunda Generación</td>\n",
       "      <td>Color TV Game (CTG)</td>\n",
       "      <td>5</td>\n",
       "      <td>Consola de sobremesa</td>\n",
       "    </tr>\n",
       "    <tr>\n",
       "      <th>1</th>\n",
       "      <td>Fueron las primeras consolas portátiles de Nin...</td>\n",
       "      <td>Segunda Generación</td>\n",
       "      <td>Game&amp;Watch (G&amp;W)</td>\n",
       "      <td>11</td>\n",
       "      <td>Consola portátil</td>\n",
       "    </tr>\n",
       "    <tr>\n",
       "      <th>2</th>\n",
       "      <td>Esta consola tuvo varios nombres en el mercado...</td>\n",
       "      <td>Tercera y Cuarta Generación</td>\n",
       "      <td>Nintendo Entertainment System (NES)</td>\n",
       "      <td>2</td>\n",
       "      <td>Consola de Sobremesa</td>\n",
       "    </tr>\n",
       "    <tr>\n",
       "      <th>3</th>\n",
       "      <td>Esta serie fue especialmente importante para e...</td>\n",
       "      <td>Tercera, Cuarta, Quinta y Sexta Generación</td>\n",
       "      <td>Game Boy (GB-GBA)</td>\n",
       "      <td>7</td>\n",
       "      <td>Consola portátil</td>\n",
       "    </tr>\n",
       "    <tr>\n",
       "      <th>4</th>\n",
       "      <td>La Virtual Boy es una consola formada básicame...</td>\n",
       "      <td>Quinta</td>\n",
       "      <td>Virtual Boy</td>\n",
       "      <td>1</td>\n",
       "      <td>Consola pseudoportátil</td>\n",
       "    </tr>\n",
       "    <tr>\n",
       "      <th>5</th>\n",
       "      <td>Llamada así por su procesador (64 bits). El ma...</td>\n",
       "      <td>Quinta</td>\n",
       "      <td>Nintendo 64 (N64)</td>\n",
       "      <td>1</td>\n",
       "      <td>Consola de Sobremesa</td>\n",
       "    </tr>\n",
       "    <tr>\n",
       "      <th>6</th>\n",
       "      <td>Con esta consola, Nintendo prescindió por prim...</td>\n",
       "      <td>Sexta</td>\n",
       "      <td>Nintendo GameCube (GC)</td>\n",
       "      <td>1</td>\n",
       "      <td>Consola de Sobremesa</td>\n",
       "    </tr>\n",
       "    <tr>\n",
       "      <th>7</th>\n",
       "      <td>La serie de la Nintendo DS fue y es la más imp...</td>\n",
       "      <td>Séptima y Octava Generación</td>\n",
       "      <td>Nintendo DS (DS, NDS) Nintendo 3DS (N3DS) (3DS...</td>\n",
       "      <td>5</td>\n",
       "      <td>Consola Portátil</td>\n",
       "    </tr>\n",
       "    <tr>\n",
       "      <th>8</th>\n",
       "      <td>El origen del nombre es incierto, pero Nintend...</td>\n",
       "      <td>Séptima y Octava Generación</td>\n",
       "      <td>Nintendo Wii (Wii, NW), Wii U (WU) y Wii Mini</td>\n",
       "      <td>2</td>\n",
       "      <td>Consola de Sobremesa</td>\n",
       "    </tr>\n",
       "    <tr>\n",
       "      <th>9</th>\n",
       "      <td>Ninendo Switch, también conocida como Nintendo...</td>\n",
       "      <td>Novena generación</td>\n",
       "      <td>Nintendo Switch</td>\n",
       "      <td>1</td>\n",
       "      <td>Consola Hibrida</td>\n",
       "    </tr>\n",
       "  </tbody>\n",
       "</table>\n",
       "</div>"
      ],
      "text/plain": [
       "                                         Descripción  \\\n",
       "0  La serie Color TV se distribuyó solo en Japón....   \n",
       "1  Fueron las primeras consolas portátiles de Nin...   \n",
       "2  Esta consola tuvo varios nombres en el mercado...   \n",
       "3  Esta serie fue especialmente importante para e...   \n",
       "4  La Virtual Boy es una consola formada básicame...   \n",
       "5  Llamada así por su procesador (64 bits). El ma...   \n",
       "6  Con esta consola, Nintendo prescindió por prim...   \n",
       "7  La serie de la Nintendo DS fue y es la más imp...   \n",
       "8  El origen del nombre es incierto, pero Nintend...   \n",
       "9  Ninendo Switch, también conocida como Nintendo...   \n",
       "\n",
       "                                   Generación  \\\n",
       "0                          Segunda Generación   \n",
       "1                          Segunda Generación   \n",
       "2                 Tercera y Cuarta Generación   \n",
       "3  Tercera, Cuarta, Quinta y Sexta Generación   \n",
       "4                                      Quinta   \n",
       "5                                      Quinta   \n",
       "6                                       Sexta   \n",
       "7                 Séptima y Octava Generación   \n",
       "8                 Séptima y Octava Generación   \n",
       "9                           Novena generación   \n",
       "\n",
       "                                  Nombre de la serie Número de consolas  \\\n",
       "0                                Color TV Game (CTG)                  5   \n",
       "1                                   Game&Watch (G&W)                 11   \n",
       "2                Nintendo Entertainment System (NES)                  2   \n",
       "3                                  Game Boy (GB-GBA)                  7   \n",
       "4                                        Virtual Boy                  1   \n",
       "5                                  Nintendo 64 (N64)                  1   \n",
       "6                             Nintendo GameCube (GC)                  1   \n",
       "7  Nintendo DS (DS, NDS) Nintendo 3DS (N3DS) (3DS...                  5   \n",
       "8      Nintendo Wii (Wii, NW), Wii U (WU) y Wii Mini                  2   \n",
       "9                                    Nintendo Switch                  1   \n",
       "\n",
       "                     Tipo  \n",
       "0    Consola de sobremesa  \n",
       "1        Consola portátil  \n",
       "2    Consola de Sobremesa  \n",
       "3        Consola portátil  \n",
       "4  Consola pseudoportátil  \n",
       "5    Consola de Sobremesa  \n",
       "6    Consola de Sobremesa  \n",
       "7        Consola Portátil  \n",
       "8    Consola de Sobremesa  \n",
       "9         Consola Hibrida  "
      ]
     },
     "execution_count": 45,
     "metadata": {},
     "output_type": "execute_result"
    }
   ],
   "source": [
    "pd.DataFrame(data_table)"
   ]
  },
  {
   "cell_type": "code",
   "execution_count": null,
   "metadata": {
    "collapsed": true
   },
   "outputs": [],
   "source": []
  }
 ],
 "metadata": {
  "kernelspec": {
   "display_name": "Python 3",
   "language": "python",
   "name": "python3"
  },
  "language_info": {
   "codemirror_mode": {
    "name": "ipython",
    "version": 3
   },
   "file_extension": ".py",
   "mimetype": "text/x-python",
   "name": "python",
   "nbconvert_exporter": "python",
   "pygments_lexer": "ipython3",
   "version": "3.4.1"
  }
 },
 "nbformat": 4,
 "nbformat_minor": 0
}
