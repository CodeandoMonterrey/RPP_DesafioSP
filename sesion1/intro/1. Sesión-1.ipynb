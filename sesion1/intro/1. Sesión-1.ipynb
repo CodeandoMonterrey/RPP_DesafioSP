{
 "cells": [
  {
   "cell_type": "markdown",
   "metadata": {},
   "source": [
    "# ¡Bienvenidos a la primera sesión del programa de Data Science!"
   ]
  },
  {
   "cell_type": "markdown",
   "metadata": {},
   "source": [
    "## Github"
   ]
  },
  {
   "cell_type": "markdown",
   "metadata": {},
   "source": [
    "Encuentra el repo en: https://github.com/ricalanis/Programa-Data-Science\n",
    "\n",
    "*Por actualizar al repo de HackerSchool: https://github.com/hackerschoolmty*"
   ]
  },
  {
   "cell_type": "markdown",
   "metadata": {},
   "source": [
    "## Anaconda (Open Source modern analytics platform)\n",
    "\n",
    "- Anaconda es una distribución de Python completamente libre. Incluye más de 400 de los paquetes de Python más populares para la ciencia, las matemáticas, la ingeniería y el <b>análisis de datos</b>. \n",
    "\n",
    "- Anaconda es un producto gratuito de Continuum Analytics ([www.continuum.io](https://www.continuum.io/)) que nos permite construir el stack científico de manera sencilla."
   ]
  },
  {
   "cell_type": "markdown",
   "metadata": {},
   "source": [
    "### Instalación de Anaconda\n",
    "\n",
    "#### Windows | OS X | Linux\n",
    "\n",
    "https://www.continuum.io/downloads\n",
    "\n",
    "- Descargar el instalador para python 3 y seguir las instrucciones.\n",
    "- Revisar si todo está en orden\n",
    "\n",
    "Para más información:\n",
    "http://conda.pydata.org/docs/install/full.html"
   ]
  },
  {
   "cell_type": "code",
   "execution_count": null,
   "metadata": {
    "collapsed": true
   },
   "outputs": [],
   "source": [
    "conda update conda\n",
    "conda update anaconda"
   ]
  },
  {
   "cell_type": "markdown",
   "metadata": {},
   "source": [
    "### Virtual evironment\n",
    "\n",
    "Un entorno virtual es un espacio aislado con una copia de Python que mantiene sus propios archivos, directorios y paths de tal manera que puedas trabajar con versiones especificas de las librerias de Python (incluso la versión de Python) sin afectar otros proyectos existentes. Ayuda a evitar problemas si se tienen diferentes dependencias y versiones de los mismos componentes.\n",
    "\n",
    "http://conda.pydata.org/docs/using/envs.html"
   ]
  },
  {
   "cell_type": "markdown",
   "metadata": {},
   "source": [
    "### Crear el entorno para el bootcamp"
   ]
  },
  {
   "cell_type": "code",
   "execution_count": null,
   "metadata": {
    "collapsed": true
   },
   "outputs": [],
   "source": [
    "conda create -n programads anaconda"
   ]
  },
  {
   "cell_type": "markdown",
   "metadata": {},
   "source": [
    "### Activar el entorno"
   ]
  },
  {
   "cell_type": "markdown",
   "metadata": {},
   "source": [
    "#### Linux, OS X:"
   ]
  },
  {
   "cell_type": "code",
   "execution_count": null,
   "metadata": {
    "collapsed": true
   },
   "outputs": [],
   "source": [
    "source activate programads"
   ]
  },
  {
   "cell_type": "markdown",
   "metadata": {},
   "source": [
    "#### Windows"
   ]
  },
  {
   "cell_type": "code",
   "execution_count": null,
   "metadata": {
    "collapsed": true
   },
   "outputs": [],
   "source": [
    "activate programads"
   ]
  },
  {
   "cell_type": "markdown",
   "metadata": {
    "collapsed": true
   },
   "source": [
    "## IPython 3 (jupyter)\n",
    "Durante el programa usaremos usaremos IPython Notebook (jupyter). Este será nuestro entorno de desarrollo integrado (WebIDE)\n",
    "http://jupyter.org/\n",
    "\n",
    "¡No es importante entender Jupyter al 100% por el momento, veremos Jupyter en detalle la siguiente semana!"
   ]
  },
  {
   "cell_type": "code",
   "execution_count": null,
   "metadata": {
    "collapsed": true
   },
   "outputs": [],
   "source": [
    "# Iniciar notebook \n",
    "jupyter notebook"
   ]
  },
  {
   "cell_type": "markdown",
   "metadata": {},
   "source": [
    "Jupyter es una aplicación web que te permite crear y compartir documentos que contienen código, ecuaciones, visualizaciones y texto. Los usos incluyen: limpieza y transformación de datos, simulación numérica, estadística, aprendizaje automático y mucho más."
   ]
  },
  {
   "cell_type": "markdown",
   "metadata": {},
   "source": [
    "- Es una herramienta importante para lograr investigación reproducible.\n",
    "- Soporta diferentes lenguajes de programación como Julia, Octave, Python and R. (y muchos otros)\n",
    "- Jupyter usa markdown para crear texto y además tiene implementación de LaTeX para crear tipografía matemática de alta calidad."
   ]
  },
  {
   "cell_type": "markdown",
   "metadata": {},
   "source": [
    "### Ejemplo Markdown\n",
    "\n",
    "http://nbviewer.jupyter.org/github/jupyter/notebook/blob/master/docs/source/examples/Notebook/Working%20With%20Markdown%20Cells.ipynb"
   ]
  },
  {
   "cell_type": "markdown",
   "metadata": {},
   "source": [
    "### Ejemplo LaTeX\n",
    "\n",
    "https://en.wikibooks.org/wiki/LaTeX/Mathematics\n",
    "\n",
    "$$ P(x, \\sigma, \\mu) = \\frac{1}{\\sigma\\sqrt{2 \\pi}}e^{-(x -\\mu)^2/2\\sigma^2}$$"
   ]
  },
  {
   "cell_type": "markdown",
   "metadata": {},
   "source": [
    "## Programación en Python\n",
    "\n",
    "- Lenguaje de alto nivel, interpretado, de propósito general y tipado dinámico\n",
    "- Es Sofware Libre/Open Sourece, bajo la licencia concedida por la Python Software Foundation\n",
    "- El lenguaje esta diseñado para maximizar la facilidad de lectura del mismo\n",
    "- Creado por Guido van Rossum en 1989\n",
    "- Para este curso usaremos Python 3 https://www.python.org/downloads/  \n",
    "- Usamos python 3 pues es el presente y futuro del lenguaje"
   ]
  },
  {
   "cell_type": "markdown",
   "metadata": {},
   "source": [
    "### ¿Por qué Python para la ciencia de datos?\n",
    "\n",
    "Python es un lenguaje que puede actuar como una solución completa, puede encargarse de los servicios web, bases de datos, manejo y procesamiento de datos. También se puede utilizar para escribir aplicaciones del lado del servidor, tales como sitios web dinámicos, aplicaciones para sistemas operativos con interfaces gráficas e incluso aplicaciones en IOS y Android.\n",
    "\n",
    "https://www.quora.com/Why-is-Python-a-language-of-choice-for-data-scientists\n",
    "\n",
    "> \"The Python community invested in the mid-1990s in Numeric, an \"extension to Python to support numeric analysis as naturally as [M]atlab does\". Numeric later evolved into NumPy. Several years later, the plotting functionality from Matlab was ported to Python with matplotlib. Libraries for scientific computing were built around NumPy and matplotlib and bundled into the SciPy package, which was commercially supported by Enthought. Python's support for Matlab-like array manipulation and plotting is a major reason to prefer it over Perl and Ruby.\n",
    "\n",
    "> Today, the most popular alternatives to Python for data scientists are R, Matlab/Octave, and Mathematica/Sage. In addition to the work mentioned above to port features from Matlab into Python, recent work has ported several popular features from R and Mathematica into Python.\n",
    "\n",
    "> From R, the data frame and associated manipulations (from the plyr and reshape packages) have been implemented by the pandas library. The scikit-learn project presents a common interface to many machine learning algorithms, similar to the caret package in R.\"\n",
    "\n",
    "<div align=\"right\"><b>-Jeff Hammerbacher, Professor at Hammer Lab, founder at Cloudera, investor at Techammer</b></div>\n"
   ]
  },
  {
   "cell_type": "markdown",
   "metadata": {},
   "source": [
    "### Filosofía de Python"
   ]
  },
  {
   "cell_type": "code",
   "execution_count": 2,
   "metadata": {
    "collapsed": true
   },
   "outputs": [],
   "source": [
    "import pandas as pd\n",
    "import numpy as np"
   ]
  },
  {
   "cell_type": "code",
   "execution_count": 1,
   "metadata": {
    "collapsed": false
   },
   "outputs": [
    {
     "name": "stdout",
     "output_type": "stream",
     "text": [
      "The Zen of Python, by Tim Peters\n",
      "\n",
      "Beautiful is better than ugly.\n",
      "Explicit is better than implicit.\n",
      "Simple is better than complex.\n",
      "Complex is better than complicated.\n",
      "Flat is better than nested.\n",
      "Sparse is better than dense.\n",
      "Readability counts.\n",
      "Special cases aren't special enough to break the rules.\n",
      "Although practicality beats purity.\n",
      "Errors should never pass silently.\n",
      "Unless explicitly silenced.\n",
      "In the face of ambiguity, refuse the temptation to guess.\n",
      "There should be one-- and preferably only one --obvious way to do it.\n",
      "Although that way may not be obvious at first unless you're Dutch.\n",
      "Now is better than never.\n",
      "Although never is often better than *right* now.\n",
      "If the implementation is hard to explain, it's a bad idea.\n",
      "If the implementation is easy to explain, it may be a good idea.\n",
      "Namespaces are one honking great idea -- let's do more of those!\n"
     ]
    }
   ],
   "source": [
    "import this"
   ]
  },
  {
   "cell_type": "markdown",
   "metadata": {},
   "source": [
    "### ¡Hola Mundo!"
   ]
  },
  {
   "cell_type": "code",
   "execution_count": 7,
   "metadata": {
    "collapsed": false,
    "scrolled": false
   },
   "outputs": [
    {
     "name": "stdout",
     "output_type": "stream",
     "text": [
      "¡Hola Mundo!\n"
     ]
    }
   ],
   "source": [
    "# Soy un comentario\n",
    "texto = \" Mundo!\"\n",
    "print(\"¡Hola\" + texto)"
   ]
  },
  {
   "cell_type": "code",
   "execution_count": 10,
   "metadata": {
    "collapsed": false
   },
   "outputs": [
    {
     "name": "stdout",
     "output_type": "stream",
     "text": [
      "<class 'str'>\n",
      "holahola\n",
      "<class 'int'>\n",
      "666\n"
     ]
    }
   ],
   "source": [
    "texto = \"hola\"\n",
    "print(type(texto))\n",
    "print(texto*2)\n",
    "texto = 333\n",
    "print(type(texto))\n",
    "print(texto*2)"
   ]
  },
  {
   "cell_type": "markdown",
   "metadata": {},
   "source": [
    "### Sintaxis\n",
    "Python usa sangría (espacios y tabulaciones) en lugar de llaves, el estándar es de 4 espacios."
   ]
  },
  {
   "cell_type": "code",
   "execution_count": 4,
   "metadata": {
    "collapsed": false
   },
   "outputs": [
    {
     "name": "stdout",
     "output_type": "stream",
     "text": [
      "x es 1\n"
     ]
    }
   ],
   "source": [
    "x = 1\n",
    "if x == 1:\n",
    "    # 4 espacios (1 tab)\n",
    "    print(\"x es 1\")"
   ]
  },
  {
   "cell_type": "markdown",
   "metadata": {},
   "source": [
    "### Variables\n",
    " - Python es orientado a objetos, y de tipado dinámico, es decir, no es necesario declarar las variables antes de usarlas, o declarar su tipo. \n",
    " - Cada variable en Python es un objeto."
   ]
  },
  {
   "cell_type": "markdown",
   "metadata": {},
   "source": [
    "### Tipos de datos\n",
    "#### Tipos Numéricos\n",
    "Hay tres tipos numéricos: enteros, números de punto flotante, y los números complejos."
   ]
  },
  {
   "cell_type": "code",
   "execution_count": 12,
   "metadata": {
    "collapsed": false
   },
   "outputs": [
    {
     "name": "stdout",
     "output_type": "stream",
     "text": [
      "<class 'int'>\n",
      "<class 'float'>\n",
      "<class 'complex'>\n"
     ]
    }
   ],
   "source": [
    "mi_int = 1\n",
    "mi_float = 7.0\n",
    "mi_complex = 3.14j\n",
    "\n",
    "print(type(mi_int))\n",
    "print(type(mi_float))\n",
    "print(type(mi_complex))"
   ]
  },
  {
   "cell_type": "markdown",
   "metadata": {},
   "source": [
    "#### Tipos secuenciales\n",
    " - Listas: Pueden contener cualquier tipo de variable, y pueden contener tantas variables como se desee."
   ]
  },
  {
   "cell_type": "code",
   "execution_count": 13,
   "metadata": {
    "collapsed": true
   },
   "outputs": [],
   "source": [
    "alumnos = [\"ranulfo\", \"jessy\",\"edgar\"]"
   ]
  },
  {
   "cell_type": "code",
   "execution_count": 14,
   "metadata": {
    "collapsed": false
   },
   "outputs": [
    {
     "name": "stdout",
     "output_type": "stream",
     "text": [
      "['ranulfo', 'jessy', 'edgar']\n"
     ]
    }
   ],
   "source": [
    "print(alumnos)"
   ]
  },
  {
   "cell_type": "code",
   "execution_count": 29,
   "metadata": {
    "collapsed": false
   },
   "outputs": [
    {
     "data": {
      "text/plain": [
       "['ranulfo', 'jessy']"
      ]
     },
     "execution_count": 29,
     "metadata": {},
     "output_type": "execute_result"
    }
   ],
   "source": [
    "alumnos[0:2]"
   ]
  },
  {
   "cell_type": "code",
   "execution_count": null,
   "metadata": {
    "collapsed": true
   },
   "outputs": [],
   "source": []
  },
  {
   "cell_type": "code",
   "execution_count": 30,
   "metadata": {
    "collapsed": false
   },
   "outputs": [
    {
     "name": "stdout",
     "output_type": "stream",
     "text": [
      "[1]\n",
      "[1, 'Monty']\n",
      "[1, 'Monty', True]\n"
     ]
    }
   ],
   "source": [
    "mi_lista = []\n",
    "mi_lista.append(1)\n",
    "print(mi_lista)\n",
    "mi_lista.append(\"Monty\")\n",
    "print(mi_lista)\n",
    "mi_lista.append(True)\n",
    "\n",
    "print(mi_lista)"
   ]
  },
  {
   "cell_type": "code",
   "execution_count": 31,
   "metadata": {
    "collapsed": true
   },
   "outputs": [],
   "source": [
    "comentariosNorte = [\"cada dia falta menos para el default yanqui.\",\"antoniomty Denunciar comentarios  Compartir\",\"Lei los 15 comentarios, de los cuales 10 son muy semenjantes a lo que lei en los 80tas, cuando de Ronald Reagan se dijo lo mismo. Que paso? Marchas y protesta por todos los lados. Visiones apocalipticas? muchas. III Guerra Mundial? Ninguna. Resultado: junto con Santo Juan Pablo II, Gorbatschov y Kohl se derroco al comunismo! Al enemigo se le enfrenta, no se le da la vuelta en nombre de una falsa paz!.\",\"HKaelinEurope Denunciar comentarios  Compartir\",\"Armas del siglo pasado?.\",\"La pregunta Trump es: qué vas a hacer con la FED? .\",\"de acuerdo- Denunciar comentarios  Compartir\",\"La guerra con China es hasta 2050. Mientras, seguirán perdiendo poder: primero económico (2028), después espacial, político y militar (revisen los ejércitos de India y China). No es sino otra alharaca bravucona para atraer reflectores, seguir en campaña y, de paso, alargar con efecto multiplicador armamentista el ciclo Kondrátiev del que disfrutó Obama al inundar de liquidez la economía. .\",\"Más vale que México ya vaya desarrollando su programa nuclear, para atacar a los gringos antes que ellos a nosotros, porque este orate tiene planeado atacarnos antes que a otros países, ya ven que nos odia con odio jarocho..\"]"
   ]
  },
  {
   "cell_type": "code",
   "execution_count": 47,
   "metadata": {
    "collapsed": false
   },
   "outputs": [
    {
     "name": "stdout",
     "output_type": "stream",
     "text": [
      "['cada dia falta menos para el default yanqui.', 'antoniomty Denunciar comentarios  Compartir', 'Lei los 15 comentarios, de los cuales 10 son muy semenjantes a lo que lei en los 80tas, cuando de Ronald Reagan se dijo lo mismo. Que paso? Marchas y protesta por todos los lados. Visiones apocalipticas? muchas. III Guerra Mundial? Ninguna. Resultado: junto con Santo Juan Pablo II, Gorbatschov y Kohl se derroco al comunismo! Al enemigo se le enfrenta, no se le da la vuelta en nombre de una falsa paz!.', 'HKaelinEurope Denunciar comentarios  Compartir', 'Armas del siglo pasado?.', 'La pregunta Trump es: qué vas a hacer con la FED? .', 'de acuerdo- Denunciar comentarios  Compartir', 'La guerra con China es hasta 2050. Mientras, seguirán perdiendo poder: primero económico (2028), después espacial, político y militar (revisen los ejércitos de India y China). No es sino otra alharaca bravucona para atraer reflectores, seguir en campaña y, de paso, alargar con efecto multiplicador armamentista el ciclo Kondrátiev del que disfrutó Obama al inundar de liquidez la economía. .', 'Más vale que México ya vaya desarrollando su programa nuclear, para atacar a los gringos antes que ellos a nosotros, porque este orate tiene planeado atacarnos antes que a otros países, ya ven que nos odia con odio jarocho..']\n"
     ]
    }
   ],
   "source": [
    "print(comentariosNorte)"
   ]
  },
  {
   "cell_type": "code",
   "execution_count": 41,
   "metadata": {
    "collapsed": false
   },
   "outputs": [
    {
     "name": "stdout",
     "output_type": "stream",
     "text": [
      "[1, 'Monty', True]\n",
      "[99999, 'Monty', True]\n"
     ]
    }
   ],
   "source": [
    "print(mi_lista)\n",
    "mi_lista[0] = 99999\n",
    "print(mi_lista)"
   ]
  },
  {
   "cell_type": "code",
   "execution_count": 39,
   "metadata": {
    "collapsed": false
   },
   "outputs": [
    {
     "data": {
      "text/plain": [
       "'hkaelineurope denunciar comentarios  '"
      ]
     },
     "execution_count": 39,
     "metadata": {},
     "output_type": "execute_result"
    }
   ],
   "source": [
    "comentariosNorte[3].lower().replace(\"compartir\",\"\")"
   ]
  },
  {
   "cell_type": "markdown",
   "metadata": {},
   "source": [
    " - Tuplas: A diferencia de las listas, las tuplas no se pueden cambiar y utilizan paréntesis."
   ]
  },
  {
   "cell_type": "code",
   "execution_count": 7,
   "metadata": {
    "collapsed": false
   },
   "outputs": [
    {
     "name": "stdout",
     "output_type": "stream",
     "text": [
      "(1, 'Monty', True)\n"
     ]
    }
   ],
   "source": [
    "mi_tupla = (1, \"Monty\", True);\n",
    "print(mi_tupla)"
   ]
  },
  {
   "cell_type": "code",
   "execution_count": 8,
   "metadata": {
    "collapsed": false
   },
   "outputs": [
    {
     "ename": "TypeError",
     "evalue": "'tuple' object does not support item assignment",
     "output_type": "error",
     "traceback": [
      "\u001b[1;31m---------------------------------------------------------------------------\u001b[0m",
      "\u001b[1;31mTypeError\u001b[0m                                 Traceback (most recent call last)",
      "\u001b[1;32m<ipython-input-8-a1a9123bb84b>\u001b[0m in \u001b[0;36m<module>\u001b[1;34m()\u001b[0m\n\u001b[1;32m----> 1\u001b[1;33m \u001b[0mmi_tupla\u001b[0m\u001b[1;33m[\u001b[0m\u001b[1;36m0\u001b[0m\u001b[1;33m]\u001b[0m \u001b[1;33m=\u001b[0m \u001b[1;36m2\u001b[0m\u001b[1;33m\u001b[0m\u001b[0m\n\u001b[0m",
      "\u001b[1;31mTypeError\u001b[0m: 'tuple' object does not support item assignment"
     ]
    }
   ],
   "source": [
    "mi_tupla[0] = 2"
   ]
  },
  {
   "cell_type": "markdown",
   "metadata": {},
   "source": [
    " - Rangos: Los rangos representan una secuencia de números"
   ]
  },
  {
   "cell_type": "code",
   "execution_count": null,
   "metadata": {
    "collapsed": true
   },
   "outputs": [],
   "source": [
    "[0,1,2,3,4,5,6,7,8,9,10]\n",
    "[0,5,10]"
   ]
  },
  {
   "cell_type": "code",
   "execution_count": 43,
   "metadata": {
    "collapsed": false
   },
   "outputs": [
    {
     "data": {
      "text/plain": [
       "range(-5, 30, 5)"
      ]
     },
     "execution_count": 43,
     "metadata": {},
     "output_type": "execute_result"
    }
   ],
   "source": [
    "range(-5, 30, 5)"
   ]
  },
  {
   "cell_type": "code",
   "execution_count": 48,
   "metadata": {
    "collapsed": false
   },
   "outputs": [
    {
     "data": {
      "text/plain": [
       "[0, 2, 4, 6, 8, 10]"
      ]
     },
     "execution_count": 48,
     "metadata": {},
     "output_type": "execute_result"
    }
   ],
   "source": [
    "list(range(0, 11, 2))"
   ]
  },
  {
   "cell_type": "code",
   "execution_count": 4,
   "metadata": {
    "collapsed": false
   },
   "outputs": [
    {
     "data": {
      "text/plain": [
       "[0, 1, 2, 3, 4, 5, 6, 7, 8, 9]"
      ]
     },
     "execution_count": 4,
     "metadata": {},
     "output_type": "execute_result"
    }
   ],
   "source": [
    "list(range(10))"
   ]
  },
  {
   "cell_type": "code",
   "execution_count": null,
   "metadata": {
    "collapsed": true
   },
   "outputs": [],
   "source": []
  },
  {
   "cell_type": "markdown",
   "metadata": {},
   "source": [
    "#### Tipo String\n",
    "El texto en Python se maneja con objetos str (strings), o cadenas. Se pueden escribir de distintas maneras:\n",
    "\n",
    "¡Importante!: En python no existe el tipo \"char\", un sólo carácter es un string de tamaño 1"
   ]
  },
  {
   "cell_type": "code",
   "execution_count": null,
   "metadata": {
    "collapsed": true
   },
   "outputs": [],
   "source": []
  },
  {
   "cell_type": "code",
   "execution_count": 51,
   "metadata": {
    "collapsed": false,
    "scrolled": true
   },
   "outputs": [
    {
     "name": "stdout",
     "output_type": "stream",
     "text": [
      "\n",
      "\n",
      "holadasdsadsadas\n",
      "\n",
      "\n"
     ]
    }
   ],
   "source": [
    "comillas_simples = 'permite usar \"comillas\" dobles'\n",
    "comillas_dobles = \"permite usar 'comillas' simples\"\n",
    "comillas_triples = '''\n",
    "\n",
    "holadasdsadsadas\n",
    "\n",
    "'''\n",
    "\n",
    "print(comillas_triples)"
   ]
  },
  {
   "cell_type": "markdown",
   "metadata": {},
   "source": [
    "#### Tipo Mapping\n",
    "- Diccionario: Un diccionario funciona con claves y valores en lugar de índices. Cada valor almacenado en un diccionario se puede acceder mediante una clave, es decir, cualquier tipo de objeto (una cadena, un número, una lista, etc.) en lugar de utilizar su índice de abordarlo."
   ]
  },
  {
   "cell_type": "code",
   "execution_count": 55,
   "metadata": {
    "collapsed": false,
    "scrolled": true
   },
   "outputs": [
    {
     "name": "stdout",
     "output_type": "stream",
     "text": [
      "permite usar \"comillas\" dobles\n",
      "permite usar 'comillas' simples\n"
     ]
    }
   ],
   "source": [
    "print(comillas_simples)\n",
    "print(comillas_dobles)"
   ]
  },
  {
   "cell_type": "code",
   "execution_count": 59,
   "metadata": {
    "collapsed": false
   },
   "outputs": [],
   "source": [
    "comillas_dobles = 'permite usar \"comillas\" simples'"
   ]
  },
  {
   "cell_type": "code",
   "execution_count": 60,
   "metadata": {
    "collapsed": false
   },
   "outputs": [
    {
     "name": "stdout",
     "output_type": "stream",
     "text": [
      "permite usar \"comillas\" simples\n"
     ]
    }
   ],
   "source": [
    "print(comillas_dobles)"
   ]
  },
  {
   "cell_type": "code",
   "execution_count": 61,
   "metadata": {
    "collapsed": true
   },
   "outputs": [],
   "source": [
    "lista = [\"hola\",\"como\",\"estas\"]"
   ]
  },
  {
   "cell_type": "code",
   "execution_count": 62,
   "metadata": {
    "collapsed": false
   },
   "outputs": [
    {
     "data": {
      "text/plain": [
       "'hola'"
      ]
     },
     "execution_count": 62,
     "metadata": {},
     "output_type": "execute_result"
    }
   ],
   "source": [
    "lista[0]"
   ]
  },
  {
   "cell_type": "code",
   "execution_count": 63,
   "metadata": {
    "collapsed": false
   },
   "outputs": [
    {
     "data": {
      "text/plain": [
       "'como'"
      ]
     },
     "execution_count": 63,
     "metadata": {},
     "output_type": "execute_result"
    }
   ],
   "source": [
    "lista[1]"
   ]
  },
  {
   "cell_type": "code",
   "execution_count": 64,
   "metadata": {
    "collapsed": false
   },
   "outputs": [],
   "source": [
    "mi_diccionario = {\n",
    "    \"Nombre\" : \"Carl W.\",\n",
    "    \"Edad\" : 26,\n",
    "    \"Apellido\" : \"Handlin\"\n",
    "}"
   ]
  },
  {
   "cell_type": "code",
   "execution_count": 73,
   "metadata": {
    "collapsed": true
   },
   "outputs": [],
   "source": [
    "diccionario_édgar = {\n",
    "    \"Nombre\" : \"Edgar\",\n",
    "    \"Edad\" : 28,\n",
    "    \"Apellido\" : \"Gútierrez\"\n",
    "}"
   ]
  },
  {
   "cell_type": "code",
   "execution_count": 74,
   "metadata": {
    "collapsed": false,
    "scrolled": true
   },
   "outputs": [
    {
     "data": {
      "text/plain": [
       "'Gútierrez'"
      ]
     },
     "execution_count": 74,
     "metadata": {},
     "output_type": "execute_result"
    }
   ],
   "source": [
    "diccionario_édgar[\"Apellido\"]"
   ]
  },
  {
   "cell_type": "markdown",
   "metadata": {},
   "source": [
    "#### Tipo Booleano"
   ]
  },
  {
   "cell_type": "code",
   "execution_count": 75,
   "metadata": {
    "collapsed": true
   },
   "outputs": [],
   "source": [
    "mi_boolean = True\n",
    "mi_boolean = False"
   ]
  },
  {
   "cell_type": "code",
   "execution_count": 83,
   "metadata": {
    "collapsed": false
   },
   "outputs": [],
   "source": [
    "booleano = 8 == 9"
   ]
  },
  {
   "cell_type": "code",
   "execution_count": 84,
   "metadata": {
    "collapsed": false
   },
   "outputs": [
    {
     "name": "stdout",
     "output_type": "stream",
     "text": [
      "False\n"
     ]
    }
   ],
   "source": [
    "print(booleano)"
   ]
  },
  {
   "cell_type": "code",
   "execution_count": 85,
   "metadata": {
    "collapsed": false
   },
   "outputs": [
    {
     "data": {
      "text/plain": [
       "bool"
      ]
     },
     "execution_count": 85,
     "metadata": {},
     "output_type": "execute_result"
    }
   ],
   "source": [
    "type(booleano)"
   ]
  },
  {
   "cell_type": "markdown",
   "metadata": {},
   "source": [
    "### Operadores\n",
    "\n",
    "#### Operaciones aritméticas"
   ]
  },
  {
   "cell_type": "code",
   "execution_count": null,
   "metadata": {
    "collapsed": false
   },
   "outputs": [],
   "source": [
    "numero = 3 + 4 - 2 * 5 / 2 ** 9 % 1\n",
    "print(numero)\n",
    "\n",
    "import math\n",
    "\n",
    "math.sqrt(numero)"
   ]
  },
  {
   "cell_type": "markdown",
   "metadata": {},
   "source": [
    "#### Operaciones con strings"
   ]
  },
  {
   "cell_type": "code",
   "execution_count": null,
   "metadata": {
    "collapsed": false
   },
   "outputs": [],
   "source": [
    "texto = comillas_simples + \" \" + comillas_dobles\n",
    "print(texto)\n",
    "\n",
    "texto = comillas_simples * 2\n",
    "print(texto)"
   ]
  },
  {
   "cell_type": "markdown",
   "metadata": {},
   "source": [
    "#### Operaciones con listas"
   ]
  },
  {
   "cell_type": "code",
   "execution_count": null,
   "metadata": {
    "collapsed": false
   },
   "outputs": [],
   "source": [
    "bajos = [1, 2, 3, 4, 5]\n",
    "altos = [6, 7, 8, 9, 10]\n",
    "numeros = bajos + altos\n",
    "print(numeros)"
   ]
  },
  {
   "cell_type": "markdown",
   "metadata": {},
   "source": [
    "#### Operaciones booleanas"
   ]
  },
  {
   "cell_type": "code",
   "execution_count": null,
   "metadata": {
    "collapsed": false
   },
   "outputs": [],
   "source": [
    "variable_or = True or False\n",
    "variable_and = True and False\n",
    "variable_not = not False"
   ]
  },
  {
   "cell_type": "markdown",
   "metadata": {},
   "source": [
    "#### Comparadores"
   ]
  },
  {
   "cell_type": "code",
   "execution_count": 87,
   "metadata": {
    "collapsed": false
   },
   "outputs": [
    {
     "data": {
      "text/plain": [
       "True"
      ]
     },
     "execution_count": 87,
     "metadata": {},
     "output_type": "execute_result"
    }
   ],
   "source": [
    "5 < 6 # Menor que"
   ]
  },
  {
   "cell_type": "code",
   "execution_count": 88,
   "metadata": {
    "collapsed": false
   },
   "outputs": [
    {
     "data": {
      "text/plain": [
       "True"
      ]
     },
     "execution_count": 88,
     "metadata": {},
     "output_type": "execute_result"
    }
   ],
   "source": [
    "5 <= 6 # Menor o igual a"
   ]
  },
  {
   "cell_type": "code",
   "execution_count": 89,
   "metadata": {
    "collapsed": false
   },
   "outputs": [
    {
     "data": {
      "text/plain": [
       "True"
      ]
     },
     "execution_count": 89,
     "metadata": {},
     "output_type": "execute_result"
    }
   ],
   "source": [
    "6 > 5 # Mayor que"
   ]
  },
  {
   "cell_type": "code",
   "execution_count": 90,
   "metadata": {
    "collapsed": false
   },
   "outputs": [
    {
     "data": {
      "text/plain": [
       "True"
      ]
     },
     "execution_count": 90,
     "metadata": {},
     "output_type": "execute_result"
    }
   ],
   "source": [
    "6 >= 5 # Mayor o igual a"
   ]
  },
  {
   "cell_type": "code",
   "execution_count": 91,
   "metadata": {
    "collapsed": false
   },
   "outputs": [
    {
     "data": {
      "text/plain": [
       "True"
      ]
     },
     "execution_count": 91,
     "metadata": {},
     "output_type": "execute_result"
    }
   ],
   "source": [
    "6 == 6 # Igual a"
   ]
  },
  {
   "cell_type": "code",
   "execution_count": 86,
   "metadata": {
    "collapsed": false
   },
   "outputs": [
    {
     "data": {
      "text/plain": [
       "True"
      ]
     },
     "execution_count": 86,
     "metadata": {},
     "output_type": "execute_result"
    }
   ],
   "source": [
    "6 != 5 # Diferente a (No igual a)"
   ]
  },
  {
   "cell_type": "code",
   "execution_count": null,
   "metadata": {
    "collapsed": false
   },
   "outputs": [],
   "source": [
    "x = [1, 2, 3]\n",
    "y = [1, 2, 3]\n",
    "print(x == y)\n",
    "print(x is y)"
   ]
  },
  {
   "cell_type": "code",
   "execution_count": null,
   "metadata": {
    "collapsed": false
   },
   "outputs": [],
   "source": [
    "x is not None"
   ]
  },
  {
   "cell_type": "markdown",
   "metadata": {},
   "source": [
    "#### El operador \"in\""
   ]
  },
  {
   "cell_type": "markdown",
   "metadata": {},
   "source": [
    "El operador \"in\" se utiliza para comprobar si existe un objeto especificado dentro de un objeto iterable, tal como una lista:"
   ]
  },
  {
   "cell_type": "code",
   "execution_count": 92,
   "metadata": {
    "collapsed": false
   },
   "outputs": [
    {
     "data": {
      "text/plain": [
       "True"
      ]
     },
     "execution_count": 92,
     "metadata": {},
     "output_type": "execute_result"
    }
   ],
   "source": [
    "\"Carl\" in [\"Carl\", \"Edo\", \"Rick\"]"
   ]
  },
  {
   "cell_type": "code",
   "execution_count": 93,
   "metadata": {
    "collapsed": true
   },
   "outputs": [],
   "source": [
    "lista = [\"hola\",\"como\",\"estas\"]"
   ]
  },
  {
   "cell_type": "code",
   "execution_count": 96,
   "metadata": {
    "collapsed": false
   },
   "outputs": [
    {
     "data": {
      "text/plain": [
       "False"
      ]
     },
     "execution_count": 96,
     "metadata": {},
     "output_type": "execute_result"
    }
   ],
   "source": [
    "\"hol\" in lista "
   ]
  },
  {
   "cell_type": "code",
   "execution_count": 97,
   "metadata": {
    "collapsed": false
   },
   "outputs": [
    {
     "data": {
      "text/plain": [
       "True"
      ]
     },
     "execution_count": 97,
     "metadata": {},
     "output_type": "execute_result"
    }
   ],
   "source": [
    "\"hol\" in \"hola como estás?\""
   ]
  },
  {
   "cell_type": "markdown",
   "metadata": {},
   "source": [
    "### Control de flujo"
   ]
  },
  {
   "cell_type": "markdown",
   "metadata": {},
   "source": [
    "#### If\n",
    "\"If\" se utiliza para la ejecución condicional, es decir, \"If\" ejecuta algún código específico después de comprobar si su expresión es verdadera."
   ]
  },
  {
   "cell_type": "code",
   "execution_count": null,
   "metadata": {
    "collapsed": false
   },
   "outputs": [],
   "source": [
    "x = 5\n",
    "\n",
    "if x < 0:\n",
    "    x = 0\n",
    "    print('Negative changed to zero')\n",
    "elif x == 0:\n",
    "    print('Zero')\n",
    "elif x == 1:\n",
    "    print('Single')\n",
    "else:\n",
    "    print('More')"
   ]
  },
  {
   "cell_type": "code",
   "execution_count": 102,
   "metadata": {
    "collapsed": false
   },
   "outputs": [
    {
     "name": "stdout",
     "output_type": "stream",
     "text": [
      "Qué chafo!\n"
     ]
    }
   ],
   "source": [
    "a = 9\n",
    "if a < 8:\n",
    "    print(\"Qué cool\")\n",
    "else:\n",
    "    print(\"Qué chafo!\")"
   ]
  },
  {
   "cell_type": "markdown",
   "metadata": {},
   "source": [
    "#### For\n",
    "For se utiliza para iterar sobre los elementos de una secuencia (como una cadena, tupla o lista) u otro objeto iterable:"
   ]
  },
  {
   "cell_type": "code",
   "execution_count": 104,
   "metadata": {
    "collapsed": false
   },
   "outputs": [
    {
     "name": "stdout",
     "output_type": "stream",
     "text": [
      "['cada dia falta menos para el default yanqui.', 'antoniomty Denunciar comentarios  Compartir', 'Lei los 15 comentarios, de los cuales 10 son muy semenjantes a lo que lei en los 80tas, cuando de Ronald Reagan se dijo lo mismo. Que paso? Marchas y protesta por todos los lados. Visiones apocalipticas? muchas. III Guerra Mundial? Ninguna. Resultado: junto con Santo Juan Pablo II, Gorbatschov y Kohl se derroco al comunismo! Al enemigo se le enfrenta, no se le da la vuelta en nombre de una falsa paz!.', 'HKaelinEurope Denunciar comentarios  Compartir', 'Armas del siglo pasado?.', 'La pregunta Trump es: qué vas a hacer con la FED? .', 'de acuerdo- Denunciar comentarios  Compartir', 'La guerra con China es hasta 2050. Mientras, seguirán perdiendo poder: primero económico (2028), después espacial, político y militar (revisen los ejércitos de India y China). No es sino otra alharaca bravucona para atraer reflectores, seguir en campaña y, de paso, alargar con efecto multiplicador armamentista el ciclo Kondrátiev del que disfrutó Obama al inundar de liquidez la economía. .', 'Más vale que México ya vaya desarrollando su programa nuclear, para atacar a los gringos antes que ellos a nosotros, porque este orate tiene planeado atacarnos antes que a otros países, ya ven que nos odia con odio jarocho..']\n"
     ]
    }
   ],
   "source": [
    "print(comentariosNorte)"
   ]
  },
  {
   "cell_type": "code",
   "execution_count": 111,
   "metadata": {
    "collapsed": false
   },
   "outputs": [
    {
     "name": "stdout",
     "output_type": "stream",
     "text": [
      "La pregunta Trump es: qué vas a hacer con la FED? .\n"
     ]
    }
   ],
   "source": [
    "for comentario in comentariosNorte:\n",
    "    if \"trump\" in comentario.lower():\n",
    "        print(comentario)"
   ]
  },
  {
   "cell_type": "markdown",
   "metadata": {},
   "source": [
    "#### While\n",
    "While se utiliza para la ejecución repetida, siempre y cuando se cumpla alguna condición"
   ]
  },
  {
   "cell_type": "code",
   "execution_count": 114,
   "metadata": {
    "collapsed": false
   },
   "outputs": [],
   "source": [
    "contador = 0\n",
    "while True:\n",
    "    print(contador)\n",
    "    contador = contador + 1"
   ]
  },
  {
   "cell_type": "code",
   "execution_count": null,
   "metadata": {
    "collapsed": true
   },
   "outputs": [],
   "source": []
  }
 ],
 "metadata": {
  "kernelspec": {
   "display_name": "Python 3",
   "language": "python",
   "name": "python3"
  },
  "language_info": {
   "codemirror_mode": {
    "name": "ipython",
    "version": 3
   },
   "file_extension": ".py",
   "mimetype": "text/x-python",
   "name": "python",
   "nbconvert_exporter": "python",
   "pygments_lexer": "ipython3",
   "version": "3.4.1"
  }
 },
 "nbformat": 4,
 "nbformat_minor": 0
}
