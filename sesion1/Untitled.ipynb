{
 "cells": [
  {
   "cell_type": "code",
   "execution_count": 1,
   "metadata": {
    "collapsed": true
   },
   "outputs": [],
   "source": [
    "import pandas as pd"
   ]
  },
  {
   "cell_type": "code",
   "execution_count": 2,
   "metadata": {
    "collapsed": false
   },
   "outputs": [
    {
     "data": {
      "text/plain": [
       "<module 'pandas' from '/usr/local/lib/python3.4/site-packages/pandas/__init__.py'>"
      ]
     },
     "execution_count": 2,
     "metadata": {},
     "output_type": "execute_result"
    }
   ],
   "source": [
    "pd"
   ]
  },
  {
   "cell_type": "code",
   "execution_count": 20,
   "metadata": {
    "collapsed": false
   },
   "outputs": [],
   "source": [
    "df_encuesta = pd.read_excel(\"Encuesta.xlsx\", names = [\"timestamp\",\"dependencia\",\"porque\",\"problematicas\",\"factor\",\"programas\",\"servicios\",\"apoyo\"])"
   ]
  },
  {
   "cell_type": "code",
   "execution_count": 21,
   "metadata": {
    "collapsed": false
   },
   "outputs": [
    {
     "data": {
      "text/html": [
       "<div>\n",
       "<table border=\"1\" class=\"dataframe\">\n",
       "  <thead>\n",
       "    <tr style=\"text-align: right;\">\n",
       "      <th></th>\n",
       "      <th>timestamp</th>\n",
       "      <th>dependencia</th>\n",
       "      <th>porque</th>\n",
       "      <th>problematicas</th>\n",
       "      <th>factor</th>\n",
       "      <th>programas</th>\n",
       "      <th>servicios</th>\n",
       "      <th>apoyo</th>\n",
       "    </tr>\n",
       "  </thead>\n",
       "  <tbody>\n",
       "    <tr>\n",
       "      <th>0</th>\n",
       "      <td>2016-08-09 10:15:54.846</td>\n",
       "      <td>CENDI I</td>\n",
       "      <td>b) Madre Soltera</td>\n",
       "      <td>b) Falta de horarios extendidos en guardería, ...</td>\n",
       "      <td>c) Falta de horarios extendidos en guardería</td>\n",
       "      <td>No</td>\n",
       "      <td>a) Centros de Desarrollo Infantil (CENDI)</td>\n",
       "      <td>Apoyo con horario</td>\n",
       "    </tr>\n",
       "    <tr>\n",
       "      <th>1</th>\n",
       "      <td>2016-08-09 10:16:32.998</td>\n",
       "      <td>CENDI I</td>\n",
       "      <td>b) Madre Soltera</td>\n",
       "      <td>d) Salarios bajos</td>\n",
       "      <td>a) Pocas o nulas oportunidades de empleo</td>\n",
       "      <td>No</td>\n",
       "      <td>a) Centros de Desarrollo Infantil (CENDI)</td>\n",
       "      <td>Ninguna</td>\n",
       "    </tr>\n",
       "    <tr>\n",
       "      <th>2</th>\n",
       "      <td>2016-08-09 10:23:11.433</td>\n",
       "      <td>CENDI I</td>\n",
       "      <td>b) Madre Soltera</td>\n",
       "      <td>b) Falta de horarios extendidos en guardería, ...</td>\n",
       "      <td>b) Falta de flexibilidad en horario laboral (C...</td>\n",
       "      <td>No</td>\n",
       "      <td>a) Centros de Desarrollo Infantil (CENDI)</td>\n",
       "      <td>Becas</td>\n",
       "    </tr>\n",
       "    <tr>\n",
       "      <th>3</th>\n",
       "      <td>2016-08-09 10:26:13.569</td>\n",
       "      <td>CENDI I</td>\n",
       "      <td>c) Divorcio</td>\n",
       "      <td>d) Salarios bajos</td>\n",
       "      <td>d) Falta de espacio en guarderías (cupo)</td>\n",
       "      <td>No</td>\n",
       "      <td>a) Centros de Desarrollo Infantil (CENDI)</td>\n",
       "      <td>Ninguna</td>\n",
       "    </tr>\n",
       "    <tr>\n",
       "      <th>4</th>\n",
       "      <td>2016-08-09 10:27:14.245</td>\n",
       "      <td>CENDI I</td>\n",
       "      <td>b) Madre Soltera</td>\n",
       "      <td>d) Salarios bajos</td>\n",
       "      <td>a) Pocas o nulas oportunidades de empleo</td>\n",
       "      <td>No</td>\n",
       "      <td>a) Centros de Desarrollo Infantil (CENDI)</td>\n",
       "      <td>Becas, Apoyo económico</td>\n",
       "    </tr>\n",
       "  </tbody>\n",
       "</table>\n",
       "</div>"
      ],
      "text/plain": [
       "                timestamp dependencia            porque  \\\n",
       "0 2016-08-09 10:15:54.846     CENDI I  b) Madre Soltera   \n",
       "1 2016-08-09 10:16:32.998     CENDI I  b) Madre Soltera   \n",
       "2 2016-08-09 10:23:11.433     CENDI I  b) Madre Soltera   \n",
       "3 2016-08-09 10:26:13.569     CENDI I       c) Divorcio   \n",
       "4 2016-08-09 10:27:14.245     CENDI I  b) Madre Soltera   \n",
       "\n",
       "                                       problematicas  \\\n",
       "0  b) Falta de horarios extendidos en guardería, ...   \n",
       "1                                  d) Salarios bajos   \n",
       "2  b) Falta de horarios extendidos en guardería, ...   \n",
       "3                                  d) Salarios bajos   \n",
       "4                                  d) Salarios bajos   \n",
       "\n",
       "                                              factor programas  \\\n",
       "0       c) Falta de horarios extendidos en guardería        No   \n",
       "1           a) Pocas o nulas oportunidades de empleo        No   \n",
       "2  b) Falta de flexibilidad en horario laboral (C...        No   \n",
       "3           d) Falta de espacio en guarderías (cupo)        No   \n",
       "4           a) Pocas o nulas oportunidades de empleo        No   \n",
       "\n",
       "                                   servicios                   apoyo  \n",
       "0  a) Centros de Desarrollo Infantil (CENDI)       Apoyo con horario  \n",
       "1  a) Centros de Desarrollo Infantil (CENDI)                 Ninguna  \n",
       "2  a) Centros de Desarrollo Infantil (CENDI)                   Becas  \n",
       "3  a) Centros de Desarrollo Infantil (CENDI)                 Ninguna  \n",
       "4  a) Centros de Desarrollo Infantil (CENDI)  Becas, Apoyo económico  "
      ]
     },
     "execution_count": 21,
     "metadata": {},
     "output_type": "execute_result"
    }
   ],
   "source": [
    "df_encuesta.head(5)"
   ]
  },
  {
   "cell_type": "code",
   "execution_count": 22,
   "metadata": {
    "collapsed": false
   },
   "outputs": [
    {
     "data": {
      "text/html": [
       "<div>\n",
       "<table border=\"1\" class=\"dataframe\">\n",
       "  <thead>\n",
       "    <tr style=\"text-align: right;\">\n",
       "      <th></th>\n",
       "      <th>timestamp</th>\n",
       "      <th>dependencia</th>\n",
       "      <th>porque</th>\n",
       "      <th>problematicas</th>\n",
       "      <th>factor</th>\n",
       "      <th>programas</th>\n",
       "      <th>servicios</th>\n",
       "      <th>apoyo</th>\n",
       "    </tr>\n",
       "  </thead>\n",
       "  <tbody>\n",
       "    <tr>\n",
       "      <th>38</th>\n",
       "      <td>2016-08-12 12:45:34.227</td>\n",
       "      <td>CENDI V</td>\n",
       "      <td>d) Separación</td>\n",
       "      <td>a) Pocas oportunidades de empleo</td>\n",
       "      <td>b) Falta de flexibilidad en horario laboral (C...</td>\n",
       "      <td>No</td>\n",
       "      <td>a) Centros de Desarrollo Infantil (CENDI)</td>\n",
       "      <td>Beca escolar</td>\n",
       "    </tr>\n",
       "    <tr>\n",
       "      <th>39</th>\n",
       "      <td>2016-08-12 12:46:22.075</td>\n",
       "      <td>CENDI V</td>\n",
       "      <td>b) Madre Soltera</td>\n",
       "      <td>a) Pocas oportunidades de empleo</td>\n",
       "      <td>a) Pocas o nulas oportunidades de empleo</td>\n",
       "      <td>Ayuda monetaria de gobierno</td>\n",
       "      <td>a) Centros de Desarrollo Infantil (CENDI)</td>\n",
       "      <td>Ninguno</td>\n",
       "    </tr>\n",
       "    <tr>\n",
       "      <th>40</th>\n",
       "      <td>2016-08-12 12:47:06.954</td>\n",
       "      <td>CENDI V</td>\n",
       "      <td>d) Separación</td>\n",
       "      <td>b) Falta de horarios extendidos en guardería</td>\n",
       "      <td>a) Pocas o nulas oportunidades de empleo</td>\n",
       "      <td>DIF</td>\n",
       "      <td>a) Centros de Desarrollo Infantil (CENDI)</td>\n",
       "      <td>Salud</td>\n",
       "    </tr>\n",
       "    <tr>\n",
       "      <th>41</th>\n",
       "      <td>2016-08-12 12:47:33.594</td>\n",
       "      <td>CENDI V</td>\n",
       "      <td>d) Separación</td>\n",
       "      <td>b) Falta de horarios extendidos en guardería</td>\n",
       "      <td>b) Falta de flexibilidad en horario laboral (C...</td>\n",
       "      <td>No</td>\n",
       "      <td>a) Centros de Desarrollo Infantil (CENDI)</td>\n",
       "      <td>Apoyo económico</td>\n",
       "    </tr>\n",
       "    <tr>\n",
       "      <th>42</th>\n",
       "      <td>2016-08-12 12:48:13.391</td>\n",
       "      <td>CENDI V</td>\n",
       "      <td>b) Madre Soltera</td>\n",
       "      <td>a) Pocas oportunidades de empleo</td>\n",
       "      <td>b) Falta de flexibilidad en horario laboral (C...</td>\n",
       "      <td>No</td>\n",
       "      <td>a) Centros de Desarrollo Infantil (CENDI)</td>\n",
       "      <td>Tener preescolar</td>\n",
       "    </tr>\n",
       "  </tbody>\n",
       "</table>\n",
       "</div>"
      ],
      "text/plain": [
       "                 timestamp dependencia            porque  \\\n",
       "38 2016-08-12 12:45:34.227     CENDI V     d) Separación   \n",
       "39 2016-08-12 12:46:22.075     CENDI V  b) Madre Soltera   \n",
       "40 2016-08-12 12:47:06.954     CENDI V     d) Separación   \n",
       "41 2016-08-12 12:47:33.594     CENDI V     d) Separación   \n",
       "42 2016-08-12 12:48:13.391     CENDI V  b) Madre Soltera   \n",
       "\n",
       "                                   problematicas  \\\n",
       "38              a) Pocas oportunidades de empleo   \n",
       "39              a) Pocas oportunidades de empleo   \n",
       "40  b) Falta de horarios extendidos en guardería   \n",
       "41  b) Falta de horarios extendidos en guardería   \n",
       "42              a) Pocas oportunidades de empleo   \n",
       "\n",
       "                                               factor  \\\n",
       "38  b) Falta de flexibilidad en horario laboral (C...   \n",
       "39           a) Pocas o nulas oportunidades de empleo   \n",
       "40           a) Pocas o nulas oportunidades de empleo   \n",
       "41  b) Falta de flexibilidad en horario laboral (C...   \n",
       "42  b) Falta de flexibilidad en horario laboral (C...   \n",
       "\n",
       "                      programas                                  servicios  \\\n",
       "38                           No  a) Centros de Desarrollo Infantil (CENDI)   \n",
       "39  Ayuda monetaria de gobierno  a) Centros de Desarrollo Infantil (CENDI)   \n",
       "40                          DIF  a) Centros de Desarrollo Infantil (CENDI)   \n",
       "41                           No  a) Centros de Desarrollo Infantil (CENDI)   \n",
       "42                           No  a) Centros de Desarrollo Infantil (CENDI)   \n",
       "\n",
       "               apoyo  \n",
       "38      Beca escolar  \n",
       "39           Ninguno  \n",
       "40             Salud  \n",
       "41   Apoyo económico  \n",
       "42  Tener preescolar  "
      ]
     },
     "execution_count": 22,
     "metadata": {},
     "output_type": "execute_result"
    }
   ],
   "source": [
    "df_encuesta.tail(5)"
   ]
  },
  {
   "cell_type": "code",
   "execution_count": 23,
   "metadata": {
    "collapsed": false
   },
   "outputs": [
    {
     "name": "stdout",
     "output_type": "stream",
     "text": [
      "['timestamp' 'dependencia' 'porque' 'problematicas' 'factor' 'programas'\n",
      " 'servicios' 'apoyo']\n"
     ]
    }
   ],
   "source": [
    "print(df_encuesta.columns.values)"
   ]
  },
  {
   "cell_type": "code",
   "execution_count": null,
   "metadata": {
    "collapsed": true
   },
   "outputs": [],
   "source": []
  },
  {
   "cell_type": "code",
   "execution_count": 24,
   "metadata": {
    "collapsed": false
   },
   "outputs": [],
   "source": [
    "columna_problematicas = df_encuesta[\"problematicas\"]"
   ]
  },
  {
   "cell_type": "code",
   "execution_count": 25,
   "metadata": {
    "collapsed": false
   },
   "outputs": [
    {
     "name": "stdout",
     "output_type": "stream",
     "text": [
      "0     b) Falta de horarios extendidos en guardería, ...\n",
      "1                                     d) Salarios bajos\n",
      "2     b) Falta de horarios extendidos en guardería, ...\n",
      "3                                     d) Salarios bajos\n",
      "4                                     d) Salarios bajos\n",
      "5          b) Falta de horarios extendidos en guardería\n",
      "6     a) Pocas oportunidades de empleo, b) Falta de ...\n",
      "7                                     d) Salarios bajos\n",
      "8                                     d) Salarios bajos\n",
      "9     a) Pocas oportunidades de empleo, b) Falta de ...\n",
      "10                                    d) Salarios bajos\n",
      "11    a) Pocas oportunidades de empleo, b) Falta de ...\n",
      "12                     a) Pocas oportunidades de empleo\n",
      "13         b) Falta de horarios extendidos en guardería\n",
      "14                     a) Pocas oportunidades de empleo\n",
      "15                     a) Pocas oportunidades de empleo\n",
      "16         b) Falta de horarios extendidos en guardería\n",
      "17                                    d) Salarios bajos\n",
      "18         b) Falta de horarios extendidos en guardería\n",
      "19                                    d) Salarios bajos\n",
      "20                     a) Pocas oportunidades de empleo\n",
      "21    b) Falta de horarios extendidos en guardería, ...\n",
      "22                                    d) Salarios bajos\n",
      "23         b) Falta de horarios extendidos en guardería\n",
      "24                                    d) Salarios bajos\n",
      "25                     a) Pocas oportunidades de empleo\n",
      "26                                    d) Salarios bajos\n",
      "27    c) Falta de espacio en guarderías (cupo), d) S...\n",
      "28                     a) Pocas oportunidades de empleo\n",
      "29                                    d) Salarios bajos\n",
      "30                     a) Pocas oportunidades de empleo\n",
      "31                                    d) Salarios bajos\n",
      "32         b) Falta de horarios extendidos en guardería\n",
      "33         b) Falta de horarios extendidos en guardería\n",
      "34                                    d) Salarios bajos\n",
      "35         b) Falta de horarios extendidos en guardería\n",
      "36    a) Pocas oportunidades de empleo, d) Salarios ...\n",
      "37         b) Falta de horarios extendidos en guardería\n",
      "38                     a) Pocas oportunidades de empleo\n",
      "39                     a) Pocas oportunidades de empleo\n",
      "40         b) Falta de horarios extendidos en guardería\n",
      "41         b) Falta de horarios extendidos en guardería\n",
      "42                     a) Pocas oportunidades de empleo\n",
      "Name: problematicas, dtype: object\n"
     ]
    }
   ],
   "source": [
    "print(columna_problematicas)"
   ]
  },
  {
   "cell_type": "code",
   "execution_count": 29,
   "metadata": {
    "collapsed": true
   },
   "outputs": [],
   "source": [
    "%matplotlib inline"
   ]
  },
  {
   "cell_type": "code",
   "execution_count": null,
   "metadata": {
    "collapsed": true
   },
   "outputs": [],
   "source": []
  },
  {
   "cell_type": "code",
   "execution_count": 32,
   "metadata": {
    "collapsed": false,
    "scrolled": true
   },
   "outputs": [
    {
     "data": {
      "text/plain": [
       "<matplotlib.axes._subplots.AxesSubplot at 0x10861bb38>"
      ]
     },
     "execution_count": 32,
     "metadata": {},
     "output_type": "execute_result"
    },
    {
     "data": {
      "image/png": "[encoded data removed]",
      "text/plain": [
       "<matplotlib.figure.Figure at 0x108610c88>"
      ]
     },
     "metadata": {},
     "output_type": "display_data"
    }
   ],
   "source": [
    "pd.value_counts(columna_problematicas).plot(kind=\"bar\")"
   ]
  },
  {
   "cell_type": "code",
   "execution_count": 35,
   "metadata": {
    "collapsed": false
   },
   "outputs": [],
   "source": [
    "df_encuesta_cendi_I = df_encuesta[df_encuesta[\"dependencia\"]==\"CENDI I\"]"
   ]
  },
  {
   "cell_type": "code",
   "execution_count": 37,
   "metadata": {
    "collapsed": false
   },
   "outputs": [
    {
     "data": {
      "text/plain": [
       "20"
      ]
     },
     "execution_count": 37,
     "metadata": {},
     "output_type": "execute_result"
    }
   ],
   "source": [
    "len(df_encuesta_cendi_I)"
   ]
  },
  {
   "cell_type": "code",
   "execution_count": 41,
   "metadata": {
    "collapsed": true
   },
   "outputs": [],
   "source": [
    "def graficar_conteo_problematicas(dataframe_completo, dependencia):\n",
    "    dataframe_valores = dataframe_completo[dataframe_completo[\"dependencia\"]==dependencia]\n",
    "    pd.value_counts(dataframe_valores[\"problematicas\"]).plot(kind=\"bar\")\n",
    "    return \"success\""
   ]
  },
  {
   "cell_type": "code",
   "execution_count": 44,
   "metadata": {
    "collapsed": false,
    "scrolled": true
   },
   "outputs": [
    {
     "data": {
      "text/plain": [
       "'success'"
      ]
     },
     "execution_count": 44,
     "metadata": {},
     "output_type": "execute_result"
    },
    {
     "data": {
      "image/png": "[encoded data removed]",
      "text/plain": [
       "<matplotlib.figure.Figure at 0x107eda470>"
      ]
     },
     "metadata": {},
     "output_type": "display_data"
    }
   ],
   "source": [
    "graficar_conteo_problematicas(df_encuesta,\"CENDI V\")"
   ]
  },
  {
   "cell_type": "code",
   "execution_count": null,
   "metadata": {
    "collapsed": true
   },
   "outputs": [],
   "source": []
  }
 ],
 "metadata": {
  "kernelspec": {
   "display_name": "Python 3",
   "language": "python",
   "name": "python3"
  },
  "language_info": {
   "codemirror_mode": {
    "name": "ipython",
    "version": 3
   },
   "file_extension": ".py",
   "mimetype": "text/x-python",
   "name": "python",
   "nbconvert_exporter": "python",
   "pygments_lexer": "ipython3",
   "version": "3.4.1"
  }
 },
 "nbformat": 4,
 "nbformat_minor": 0
}
