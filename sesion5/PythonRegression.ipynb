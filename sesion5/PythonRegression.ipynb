{
 "cells": [
  {
   "cell_type": "markdown",
   "metadata": {},
   "source": [
    "### Regression using numpy (with pandas and pyplot)"
   ]
  },
  {
   "cell_type": "code",
   "execution_count": 1,
   "metadata": {
    "collapsed": false
   },
   "outputs": [
    {
     "name": "stderr",
     "output_type": "stream",
     "text": [
      "/usr/local/lib/python2.7/site-packages/matplotlib/font_manager.py:273: UserWarning: Matplotlib is building the font cache using fc-list. This may take a moment.\n",
      "  warnings.warn('Matplotlib is building the font cache using fc-list. This may take a moment.')\n"
     ]
    }
   ],
   "source": [
    "import csv\n",
    "import pandas as pd\n",
    "import numpy as np\n",
    "import matplotlib.pyplot as plt\n",
    "%matplotlib inline"
   ]
  },
  {
   "cell_type": "code",
   "execution_count": 2,
   "metadata": {
    "collapsed": true
   },
   "outputs": [],
   "source": [
    "# For compatibility across multiple platforms\n",
    "import os"
   ]
  },
  {
   "cell_type": "code",
   "execution_count": 3,
   "metadata": {
    "collapsed": false
   },
   "outputs": [],
   "source": [
    "# Read Cities.csv into dataframe\n",
    "f = open('Cities.csv','rU')\n",
    "cities = pd.read_csv(f)"
   ]
  },
  {
   "cell_type": "code",
   "execution_count": 9,
   "metadata": {
    "collapsed": false
   },
   "outputs": [
    {
     "data": {
      "text/plain": [
       "['city', 'country', 'latitude', 'longitude', 'temperature']"
      ]
     },
     "execution_count": 9,
     "metadata": {},
     "output_type": "execute_result"
    }
   ],
   "source": [
    "list(cities.columns)"
   ]
  },
  {
   "cell_type": "code",
   "execution_count": 10,
   "metadata": {
    "collapsed": false
   },
   "outputs": [
    {
     "data": {
      "text/html": [
       "<div>\n",
       "<table border=\"1\" class=\"dataframe\">\n",
       "  <thead>\n",
       "    <tr style=\"text-align: right;\">\n",
       "      <th></th>\n",
       "      <th>city</th>\n",
       "      <th>country</th>\n",
       "      <th>latitude</th>\n",
       "      <th>longitude</th>\n",
       "      <th>temperature</th>\n",
       "    </tr>\n",
       "  </thead>\n",
       "  <tbody>\n",
       "    <tr>\n",
       "      <th>0</th>\n",
       "      <td>Aalborg</td>\n",
       "      <td>Denmark</td>\n",
       "      <td>57.03</td>\n",
       "      <td>9.92</td>\n",
       "      <td>7.52</td>\n",
       "    </tr>\n",
       "    <tr>\n",
       "      <th>1</th>\n",
       "      <td>Aberdeen</td>\n",
       "      <td>United Kingdom</td>\n",
       "      <td>57.17</td>\n",
       "      <td>-2.08</td>\n",
       "      <td>8.10</td>\n",
       "    </tr>\n",
       "    <tr>\n",
       "      <th>2</th>\n",
       "      <td>Abisko</td>\n",
       "      <td>Sweden</td>\n",
       "      <td>63.35</td>\n",
       "      <td>18.83</td>\n",
       "      <td>0.20</td>\n",
       "    </tr>\n",
       "    <tr>\n",
       "      <th>3</th>\n",
       "      <td>Adana</td>\n",
       "      <td>Turkey</td>\n",
       "      <td>36.99</td>\n",
       "      <td>35.32</td>\n",
       "      <td>18.67</td>\n",
       "    </tr>\n",
       "    <tr>\n",
       "      <th>4</th>\n",
       "      <td>Albacete</td>\n",
       "      <td>Spain</td>\n",
       "      <td>39.00</td>\n",
       "      <td>-1.87</td>\n",
       "      <td>12.62</td>\n",
       "    </tr>\n",
       "  </tbody>\n",
       "</table>\n",
       "</div>"
      ],
      "text/plain": [
       "       city         country  latitude  longitude  temperature\n",
       "0   Aalborg         Denmark     57.03       9.92         7.52\n",
       "1  Aberdeen  United Kingdom     57.17      -2.08         8.10\n",
       "2    Abisko          Sweden     63.35      18.83         0.20\n",
       "3     Adana          Turkey     36.99      35.32        18.67\n",
       "4  Albacete           Spain     39.00      -1.87        12.62"
      ]
     },
     "execution_count": 10,
     "metadata": {},
     "output_type": "execute_result"
    }
   ],
   "source": [
    "cities.head(5)"
   ]
  },
  {
   "cell_type": "code",
   "execution_count": 11,
   "metadata": {
    "collapsed": false
   },
   "outputs": [
    {
     "data": {
      "text/plain": [
       "<matplotlib.axes._subplots.AxesSubplot at 0x10e300b10>"
      ]
     },
     "execution_count": 11,
     "metadata": {},
     "output_type": "execute_result"
    },
    {
     "data": {
      "image/png": "[encoded data removed]",
      "text/plain": [
       "<matplotlib.figure.Figure at 0x10e2d6f10>"
      ]
     },
     "metadata": {},
     "output_type": "display_data"
    }
   ],
   "source": [
    "cities.plot.scatter(x='longitude', y='latitude')"
   ]
  },
  {
   "cell_type": "code",
   "execution_count": 12,
   "metadata": {
    "collapsed": false,
    "scrolled": true
   },
   "outputs": [
    {
     "data": {
      "image/png": "[encoded data removed]",
      "text/plain": [
       "<matplotlib.figure.Figure at 0x11091ddd0>"
      ]
     },
     "metadata": {},
     "output_type": "display_data"
    }
   ],
   "source": [
    "# Introduction to plotting a line\n",
    "plt.plot([1,3], [2,7], color='green')\n",
    "plt.show()"
   ]
  },
  {
   "cell_type": "code",
   "execution_count": 7,
   "metadata": {
    "collapsed": false
   },
   "outputs": [
    {
     "data": {
      "image/png": "[encoded data removed]",
      "text/plain": [
       "<matplotlib.figure.Figure at 0x10f197f90>"
      ]
     },
     "metadata": {},
     "output_type": "display_data"
    }
   ],
   "source": [
    "# Recall latitude versus temperature scatterplot\n",
    "cities.plot.scatter(x='latitude', y='temperature')\n",
    "plt.show()"
   ]
  },
  {
   "cell_type": "code",
   "execution_count": 13,
   "metadata": {
    "collapsed": false
   },
   "outputs": [
    {
     "data": {
      "image/png": "[encoded data removed]",
      "text/plain": [
       "<matplotlib.figure.Figure at 0x110aa7110>"
      ]
     },
     "metadata": {},
     "output_type": "display_data"
    }
   ],
   "source": [
    "# Add linear regression\n",
    "cities.plot.scatter(x='latitude', y='temperature')\n",
    "a,b = np.polyfit(cities.latitude, cities.temperature, 1) # Regression line is y = ax + b\n",
    "x1 = min(cities.latitude)\n",
    "x2 = max(cities.latitude)\n",
    "plt.plot([x1,x2], [a*x1 + b, a*x2 + b], color='red')\n",
    "plt.show()\n",
    "# Beautify using plt.xlim(x1,x2)"
   ]
  },
  {
   "cell_type": "code",
   "execution_count": 9,
   "metadata": {
    "collapsed": false
   },
   "outputs": [
    {
     "name": "stdout",
     "output_type": "stream",
     "text": [
      "Correlation coefficient for latitude versus temperature: -0.824104632027\n",
      "Correlation coefficient for longitude versus temperature: -0.169307504036\n"
     ]
    }
   ],
   "source": [
    "# Correlation coefficients (r values)\n",
    "cc = np.corrcoef(cities.latitude, cities.temperature)[1,0]\n",
    "print 'Correlation coefficient for latitude versus temperature:', cc\n",
    "cc = np.corrcoef(cities.longitude, cities.temperature)[1,0]\n",
    "print 'Correlation coefficient for longitude versus temperature:', cc"
   ]
  },
  {
   "cell_type": "code",
   "execution_count": null,
   "metadata": {
    "collapsed": false
   },
   "outputs": [
    {
     "data": {
      "image/png": "[encoded data removed]",
      "text/plain": [
       "<matplotlib.figure.Figure at 0x110b56090>"
      ]
     },
     "metadata": {},
     "output_type": "display_data"
    },
    {
     "name": "stdout",
     "output_type": "stream",
     "text": [
      "Enter city name (or \"quit\" to quit): Albacete\n",
      "Predicted temperature: 12.0701602138\n",
      "Actual temperature: 12.62\n"
     ]
    }
   ],
   "source": [
    "# Use linear regression for interactive temperature predictor\n",
    "# Training data: compute latitude-temperature regression from cities\n",
    "# in Norway, France, and Turkey\n",
    "train = cities[(cities.country=='Denmark') | (cities.country=='France') | (cities.country=='United Kingdom')]\n",
    "lats = train.latitude\n",
    "temps = train.temperature\n",
    "# Compute and show regression\n",
    "plt.scatter(lats,temps)\n",
    "a,b = np.polyfit(lats, temps, 1)\n",
    "x1 = min(lats)\n",
    "x2 = max(lats)\n",
    "plt.plot([x1,x2], [a*x1 + b, a*x2 + b], color='red')\n",
    "plt.xlim(x1,x2)\n",
    "plt.show()\n",
    "# Loop asking user for city name, compute predicted + actual temperature\n",
    "while True:\n",
    "    name = raw_input('Enter city name (or \"quit\" to quit): ')\n",
    "    if name == 'quit': break\n",
    "    city = cities[cities.city == name]\n",
    "    if len(city) == 0:\n",
    "        print 'City not in dataset'\n",
    "    else:\n",
    "        # Use float() to convert dataframe element to value\n",
    "        print 'Predicted temperature:', a * float(city.latitude) + b\n",
    "        print 'Actual temperature:', float(city.temperature)"
   ]
  },
  {
   "cell_type": "code",
   "execution_count": 17,
   "metadata": {
    "collapsed": false
   },
   "outputs": [
    {
     "data": {
      "text/html": [
       "<div>\n",
       "<table border=\"1\" class=\"dataframe\">\n",
       "  <thead>\n",
       "    <tr style=\"text-align: right;\">\n",
       "      <th></th>\n",
       "      <th>city</th>\n",
       "      <th>country</th>\n",
       "      <th>latitude</th>\n",
       "      <th>longitude</th>\n",
       "      <th>temperature</th>\n",
       "    </tr>\n",
       "  </thead>\n",
       "  <tbody>\n",
       "    <tr>\n",
       "      <th>0</th>\n",
       "      <td>Aalborg</td>\n",
       "      <td>Denmark</td>\n",
       "      <td>57.03</td>\n",
       "      <td>9.92</td>\n",
       "      <td>7.52</td>\n",
       "    </tr>\n",
       "    <tr>\n",
       "      <th>3</th>\n",
       "      <td>Adana</td>\n",
       "      <td>Turkey</td>\n",
       "      <td>36.99</td>\n",
       "      <td>35.32</td>\n",
       "      <td>18.67</td>\n",
       "    </tr>\n",
       "    <tr>\n",
       "      <th>6</th>\n",
       "      <td>Amiens</td>\n",
       "      <td>France</td>\n",
       "      <td>49.90</td>\n",
       "      <td>2.30</td>\n",
       "      <td>10.17</td>\n",
       "    </tr>\n",
       "    <tr>\n",
       "      <th>10</th>\n",
       "      <td>Angers</td>\n",
       "      <td>France</td>\n",
       "      <td>47.48</td>\n",
       "      <td>-0.53</td>\n",
       "      <td>10.98</td>\n",
       "    </tr>\n",
       "    <tr>\n",
       "      <th>11</th>\n",
       "      <td>Ankara</td>\n",
       "      <td>Turkey</td>\n",
       "      <td>39.93</td>\n",
       "      <td>32.86</td>\n",
       "      <td>9.86</td>\n",
       "    </tr>\n",
       "    <tr>\n",
       "      <th>12</th>\n",
       "      <td>Antalya</td>\n",
       "      <td>Turkey</td>\n",
       "      <td>36.89</td>\n",
       "      <td>30.70</td>\n",
       "      <td>11.88</td>\n",
       "    </tr>\n",
       "    <tr>\n",
       "      <th>23</th>\n",
       "      <td>Batman</td>\n",
       "      <td>Turkey</td>\n",
       "      <td>37.89</td>\n",
       "      <td>41.14</td>\n",
       "      <td>14.16</td>\n",
       "    </tr>\n",
       "    <tr>\n",
       "      <th>38</th>\n",
       "      <td>Bordeaux</td>\n",
       "      <td>France</td>\n",
       "      <td>44.85</td>\n",
       "      <td>-0.60</td>\n",
       "      <td>11.87</td>\n",
       "    </tr>\n",
       "    <tr>\n",
       "      <th>46</th>\n",
       "      <td>Brest</td>\n",
       "      <td>France</td>\n",
       "      <td>48.39</td>\n",
       "      <td>-4.50</td>\n",
       "      <td>11.02</td>\n",
       "    </tr>\n",
       "    <tr>\n",
       "      <th>54</th>\n",
       "      <td>Bursa</td>\n",
       "      <td>Turkey</td>\n",
       "      <td>40.20</td>\n",
       "      <td>29.07</td>\n",
       "      <td>11.16</td>\n",
       "    </tr>\n",
       "    <tr>\n",
       "      <th>57</th>\n",
       "      <td>Caen</td>\n",
       "      <td>France</td>\n",
       "      <td>49.18</td>\n",
       "      <td>-0.35</td>\n",
       "      <td>9.96</td>\n",
       "    </tr>\n",
       "    <tr>\n",
       "      <th>72</th>\n",
       "      <td>Denizli</td>\n",
       "      <td>Turkey</td>\n",
       "      <td>37.77</td>\n",
       "      <td>29.08</td>\n",
       "      <td>15.02</td>\n",
       "    </tr>\n",
       "    <tr>\n",
       "      <th>73</th>\n",
       "      <td>Dijon</td>\n",
       "      <td>France</td>\n",
       "      <td>47.33</td>\n",
       "      <td>5.03</td>\n",
       "      <td>8.69</td>\n",
       "    </tr>\n",
       "    <tr>\n",
       "      <th>77</th>\n",
       "      <td>Edirne</td>\n",
       "      <td>Turkey</td>\n",
       "      <td>41.67</td>\n",
       "      <td>26.57</td>\n",
       "      <td>10.90</td>\n",
       "    </tr>\n",
       "    <tr>\n",
       "      <th>81</th>\n",
       "      <td>Erzincan</td>\n",
       "      <td>Turkey</td>\n",
       "      <td>39.75</td>\n",
       "      <td>39.49</td>\n",
       "      <td>8.67</td>\n",
       "    </tr>\n",
       "    <tr>\n",
       "      <th>82</th>\n",
       "      <td>Erzurum</td>\n",
       "      <td>Turkey</td>\n",
       "      <td>39.92</td>\n",
       "      <td>41.29</td>\n",
       "      <td>5.17</td>\n",
       "    </tr>\n",
       "    <tr>\n",
       "      <th>83</th>\n",
       "      <td>Eskisehir</td>\n",
       "      <td>Turkey</td>\n",
       "      <td>39.79</td>\n",
       "      <td>30.53</td>\n",
       "      <td>11.11</td>\n",
       "    </tr>\n",
       "    <tr>\n",
       "      <th>89</th>\n",
       "      <td>Gaziantep</td>\n",
       "      <td>Turkey</td>\n",
       "      <td>37.07</td>\n",
       "      <td>37.38</td>\n",
       "      <td>13.46</td>\n",
       "    </tr>\n",
       "    <tr>\n",
       "      <th>96</th>\n",
       "      <td>Grenoble</td>\n",
       "      <td>France</td>\n",
       "      <td>45.18</td>\n",
       "      <td>5.72</td>\n",
       "      <td>8.40</td>\n",
       "    </tr>\n",
       "    <tr>\n",
       "      <th>107</th>\n",
       "      <td>Istanbul</td>\n",
       "      <td>Turkey</td>\n",
       "      <td>41.10</td>\n",
       "      <td>29.01</td>\n",
       "      <td>13.20</td>\n",
       "    </tr>\n",
       "    <tr>\n",
       "      <th>109</th>\n",
       "      <td>Karaman</td>\n",
       "      <td>Turkey</td>\n",
       "      <td>37.18</td>\n",
       "      <td>33.22</td>\n",
       "      <td>10.41</td>\n",
       "    </tr>\n",
       "    <tr>\n",
       "      <th>112</th>\n",
       "      <td>Kayseri</td>\n",
       "      <td>Turkey</td>\n",
       "      <td>38.73</td>\n",
       "      <td>35.49</td>\n",
       "      <td>8.89</td>\n",
       "    </tr>\n",
       "    <tr>\n",
       "      <th>122</th>\n",
       "      <td>Le Mans</td>\n",
       "      <td>France</td>\n",
       "      <td>48.00</td>\n",
       "      <td>0.10</td>\n",
       "      <td>10.59</td>\n",
       "    </tr>\n",
       "    <tr>\n",
       "      <th>123</th>\n",
       "      <td>Lille</td>\n",
       "      <td>France</td>\n",
       "      <td>50.65</td>\n",
       "      <td>3.08</td>\n",
       "      <td>9.65</td>\n",
       "    </tr>\n",
       "    <tr>\n",
       "      <th>124</th>\n",
       "      <td>Limoges</td>\n",
       "      <td>France</td>\n",
       "      <td>45.83</td>\n",
       "      <td>1.25</td>\n",
       "      <td>10.32</td>\n",
       "    </tr>\n",
       "    <tr>\n",
       "      <th>133</th>\n",
       "      <td>Malatya</td>\n",
       "      <td>Turkey</td>\n",
       "      <td>38.37</td>\n",
       "      <td>38.30</td>\n",
       "      <td>14.13</td>\n",
       "    </tr>\n",
       "    <tr>\n",
       "      <th>135</th>\n",
       "      <td>Manisa</td>\n",
       "      <td>Turkey</td>\n",
       "      <td>38.63</td>\n",
       "      <td>27.44</td>\n",
       "      <td>15.10</td>\n",
       "    </tr>\n",
       "    <tr>\n",
       "      <th>137</th>\n",
       "      <td>Marseille</td>\n",
       "      <td>France</td>\n",
       "      <td>43.29</td>\n",
       "      <td>5.38</td>\n",
       "      <td>14.98</td>\n",
       "    </tr>\n",
       "    <tr>\n",
       "      <th>140</th>\n",
       "      <td>Metz</td>\n",
       "      <td>France</td>\n",
       "      <td>49.12</td>\n",
       "      <td>6.18</td>\n",
       "      <td>8.88</td>\n",
       "    </tr>\n",
       "    <tr>\n",
       "      <th>143</th>\n",
       "      <td>Montpellier</td>\n",
       "      <td>France</td>\n",
       "      <td>43.61</td>\n",
       "      <td>3.87</td>\n",
       "      <td>11.11</td>\n",
       "    </tr>\n",
       "    <tr>\n",
       "      <th>144</th>\n",
       "      <td>Mulhouse</td>\n",
       "      <td>France</td>\n",
       "      <td>47.75</td>\n",
       "      <td>7.35</td>\n",
       "      <td>6.68</td>\n",
       "    </tr>\n",
       "    <tr>\n",
       "      <th>146</th>\n",
       "      <td>Nice</td>\n",
       "      <td>France</td>\n",
       "      <td>43.72</td>\n",
       "      <td>7.27</td>\n",
       "      <td>8.82</td>\n",
       "    </tr>\n",
       "    <tr>\n",
       "      <th>149</th>\n",
       "      <td>Odense</td>\n",
       "      <td>Denmark</td>\n",
       "      <td>55.40</td>\n",
       "      <td>10.38</td>\n",
       "      <td>7.73</td>\n",
       "    </tr>\n",
       "    <tr>\n",
       "      <th>150</th>\n",
       "      <td>Ordu</td>\n",
       "      <td>Turkey</td>\n",
       "      <td>41.00</td>\n",
       "      <td>37.87</td>\n",
       "      <td>11.92</td>\n",
       "    </tr>\n",
       "    <tr>\n",
       "      <th>158</th>\n",
       "      <td>Perpignan</td>\n",
       "      <td>France</td>\n",
       "      <td>42.70</td>\n",
       "      <td>2.90</td>\n",
       "      <td>10.95</td>\n",
       "    </tr>\n",
       "    <tr>\n",
       "      <th>167</th>\n",
       "      <td>Reims</td>\n",
       "      <td>France</td>\n",
       "      <td>49.25</td>\n",
       "      <td>4.03</td>\n",
       "      <td>9.40</td>\n",
       "    </tr>\n",
       "    <tr>\n",
       "      <th>176</th>\n",
       "      <td>Samsun</td>\n",
       "      <td>Turkey</td>\n",
       "      <td>41.28</td>\n",
       "      <td>36.34</td>\n",
       "      <td>12.05</td>\n",
       "    </tr>\n",
       "    <tr>\n",
       "      <th>180</th>\n",
       "      <td>Siirt</td>\n",
       "      <td>Turkey</td>\n",
       "      <td>37.94</td>\n",
       "      <td>41.93</td>\n",
       "      <td>12.48</td>\n",
       "    </tr>\n",
       "    <tr>\n",
       "      <th>181</th>\n",
       "      <td>Sivas</td>\n",
       "      <td>Turkey</td>\n",
       "      <td>39.75</td>\n",
       "      <td>37.03</td>\n",
       "      <td>8.05</td>\n",
       "    </tr>\n",
       "    <tr>\n",
       "      <th>192</th>\n",
       "      <td>Tarsus</td>\n",
       "      <td>Turkey</td>\n",
       "      <td>36.92</td>\n",
       "      <td>34.88</td>\n",
       "      <td>11.21</td>\n",
       "    </tr>\n",
       "    <tr>\n",
       "      <th>194</th>\n",
       "      <td>Tekirdag</td>\n",
       "      <td>Turkey</td>\n",
       "      <td>40.99</td>\n",
       "      <td>27.51</td>\n",
       "      <td>13.02</td>\n",
       "    </tr>\n",
       "    <tr>\n",
       "      <th>195</th>\n",
       "      <td>Toulouse</td>\n",
       "      <td>France</td>\n",
       "      <td>43.62</td>\n",
       "      <td>1.45</td>\n",
       "      <td>10.25</td>\n",
       "    </tr>\n",
       "    <tr>\n",
       "      <th>196</th>\n",
       "      <td>Trabzon</td>\n",
       "      <td>Turkey</td>\n",
       "      <td>40.98</td>\n",
       "      <td>39.72</td>\n",
       "      <td>10.28</td>\n",
       "    </tr>\n",
       "    <tr>\n",
       "      <th>211</th>\n",
       "      <td>Zonguldak</td>\n",
       "      <td>Turkey</td>\n",
       "      <td>41.43</td>\n",
       "      <td>31.78</td>\n",
       "      <td>10.64</td>\n",
       "    </tr>\n",
       "  </tbody>\n",
       "</table>\n",
       "</div>"
      ],
      "text/plain": [
       "            city  country  latitude  longitude  temperature\n",
       "0        Aalborg  Denmark     57.03       9.92         7.52\n",
       "3          Adana   Turkey     36.99      35.32        18.67\n",
       "6         Amiens   France     49.90       2.30        10.17\n",
       "10        Angers   France     47.48      -0.53        10.98\n",
       "11        Ankara   Turkey     39.93      32.86         9.86\n",
       "12       Antalya   Turkey     36.89      30.70        11.88\n",
       "23        Batman   Turkey     37.89      41.14        14.16\n",
       "38      Bordeaux   France     44.85      -0.60        11.87\n",
       "46         Brest   France     48.39      -4.50        11.02\n",
       "54         Bursa   Turkey     40.20      29.07        11.16\n",
       "57          Caen   France     49.18      -0.35         9.96\n",
       "72       Denizli   Turkey     37.77      29.08        15.02\n",
       "73         Dijon   France     47.33       5.03         8.69\n",
       "77        Edirne   Turkey     41.67      26.57        10.90\n",
       "81      Erzincan   Turkey     39.75      39.49         8.67\n",
       "82       Erzurum   Turkey     39.92      41.29         5.17\n",
       "83     Eskisehir   Turkey     39.79      30.53        11.11\n",
       "89     Gaziantep   Turkey     37.07      37.38        13.46\n",
       "96      Grenoble   France     45.18       5.72         8.40\n",
       "107     Istanbul   Turkey     41.10      29.01        13.20\n",
       "109      Karaman   Turkey     37.18      33.22        10.41\n",
       "112      Kayseri   Turkey     38.73      35.49         8.89\n",
       "122      Le Mans   France     48.00       0.10        10.59\n",
       "123        Lille   France     50.65       3.08         9.65\n",
       "124      Limoges   France     45.83       1.25        10.32\n",
       "133      Malatya   Turkey     38.37      38.30        14.13\n",
       "135       Manisa   Turkey     38.63      27.44        15.10\n",
       "137    Marseille   France     43.29       5.38        14.98\n",
       "140         Metz   France     49.12       6.18         8.88\n",
       "143  Montpellier   France     43.61       3.87        11.11\n",
       "144     Mulhouse   France     47.75       7.35         6.68\n",
       "146         Nice   France     43.72       7.27         8.82\n",
       "149       Odense  Denmark     55.40      10.38         7.73\n",
       "150         Ordu   Turkey     41.00      37.87        11.92\n",
       "158    Perpignan   France     42.70       2.90        10.95\n",
       "167        Reims   France     49.25       4.03         9.40\n",
       "176       Samsun   Turkey     41.28      36.34        12.05\n",
       "180        Siirt   Turkey     37.94      41.93        12.48\n",
       "181        Sivas   Turkey     39.75      37.03         8.05\n",
       "192       Tarsus   Turkey     36.92      34.88        11.21\n",
       "194     Tekirdag   Turkey     40.99      27.51        13.02\n",
       "195     Toulouse   France     43.62       1.45        10.25\n",
       "196      Trabzon   Turkey     40.98      39.72        10.28\n",
       "211    Zonguldak   Turkey     41.43      31.78        10.64"
      ]
     },
     "execution_count": 17,
     "metadata": {},
     "output_type": "execute_result"
    }
   ],
   "source": [
    "train"
   ]
  },
  {
   "cell_type": "code",
   "execution_count": null,
   "metadata": {
    "collapsed": true
   },
   "outputs": [],
   "source": []
  },
  {
   "cell_type": "code",
   "execution_count": null,
   "metadata": {
    "collapsed": false
   },
   "outputs": [],
   "source": [
    "# Read Players.csv into datafram\n",
    "f = open('Players.csv','rU')\n",
    "players = pd.read_csv(f)"
   ]
  },
  {
   "cell_type": "code",
   "execution_count": null,
   "metadata": {
    "collapsed": false
   },
   "outputs": [],
   "source": [
    "# From the players data, compute and plot a linear regression for\n",
    "# minutes played versus passes made.\n",
    "# Reminder: copy-paste-modify approach to programming!"
   ]
  },
  {
   "cell_type": "code",
   "execution_count": null,
   "metadata": {
    "collapsed": false
   },
   "outputs": [],
   "source": [
    "# Show the correlation coefficient for the minutes-passes regression.\n",
    "# Also show correlation coefficients for minutes played versus\n",
    "# tackles, minutes played versus shots, and minutes played versus saves"
   ]
  },
  {
   "cell_type": "code",
   "execution_count": null,
   "metadata": {
    "collapsed": false
   },
   "outputs": [],
   "source": [
    "# Use linear regression for interactive number-of-passes predictor\n",
    "# Training data: compute minutes-passes regression for players from\n",
    "# Greece, USA, and Portugal"
   ]
  },
  {
   "cell_type": "code",
   "execution_count": null,
   "metadata": {
    "collapsed": false
   },
   "outputs": [],
   "source": [
    "# SUPER BONUS!!\n",
    "# Repeat previous but use separate predictor for the four different positions\n",
    "# (goalkeeper,defender,midfielder,forward). Does it do better?\n",
    "# Try comparing correlation coefficients against one regression for all players.\n",
    "#\n",
    "# Note: To extract a string value from a dataframe element use df.iloc[0].element,\n",
    "# e.g., if \"player\" is a one-row dataframe, then player.iloc[0].position returns\n",
    "# the player's position as a string"
   ]
  }
 ],
 "metadata": {
  "kernelspec": {
   "display_name": "IPython (Python 2)",
   "language": "python",
   "name": "python2"
  },
  "language_info": {
   "codemirror_mode": {
    "name": "ipython",
    "version": 2
   },
   "file_extension": ".py",
   "mimetype": "text/x-python",
   "name": "python",
   "nbconvert_exporter": "python",
   "pygments_lexer": "ipython2",
   "version": "2.7.10"
  }
 },
 "nbformat": 4,
 "nbformat_minor": 0
}
