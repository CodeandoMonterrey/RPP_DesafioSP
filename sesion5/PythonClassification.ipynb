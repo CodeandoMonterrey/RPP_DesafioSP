{
 "cells": [
  {
   "cell_type": "markdown",
   "metadata": {},
   "source": [
    "### Classification using scikit-learn (with pandas)"
   ]
  },
  {
   "cell_type": "code",
   "execution_count": 1,
   "metadata": {
    "collapsed": false
   },
   "outputs": [],
   "source": [
    "import csv\n",
    "import pandas as pd\n",
    "from sklearn.neighbors import KNeighborsClassifier\n",
    "from sklearn.tree import DecisionTreeClassifier\n",
    "from sklearn.ensemble import RandomForestClassifier\n",
    "from sklearn.naive_bayes import GaussianNB"
   ]
  },
  {
   "cell_type": "code",
   "execution_count": 2,
   "metadata": {
    "collapsed": true
   },
   "outputs": [],
   "source": [
    "# For compatibility across multiple platforms\n",
    "import os"
   ]
  },
  {
   "cell_type": "code",
   "execution_count": 3,
   "metadata": {
    "collapsed": false
   },
   "outputs": [
    {
     "name": "stdout",
     "output_type": "stream",
     "text": [
      "cold: 17\n",
      "cool: 92\n",
      "warm: 79\n",
      "hot: 25\n"
     ]
    }
   ],
   "source": [
    "# Read Cities.csv into dataframe, add column for temperature category\n",
    "# Note: For a dataframe D and integer i, D.ix[i] is the i-th row of D\n",
    "f = open('Cities.csv','rU')\n",
    "cities = pd.read_csv(f)\n",
    "cats = []\n",
    "for i in range(len(cities)):\n",
    "    if cities.ix[i]['temperature'] < 5:\n",
    "        cats.append('cold')\n",
    "    elif cities.ix[i]['temperature'] < 9:\n",
    "        cats.append('cool')\n",
    "    elif cities.ix[i]['temperature'] < 15:\n",
    "        cats.append('warm')\n",
    "    else: cats.append('hot')\n",
    "cities['category'] = cats\n",
    "print \"cold:\", len(cities[(cities.category == 'cold')])\n",
    "print \"cool:\", len(cities[(cities.category == 'cool')])\n",
    "print \"warm:\", len(cities[(cities.category == 'warm')])\n",
    "print \"hot:\", len(cities[(cities.category == 'hot')])"
   ]
  },
  {
   "cell_type": "markdown",
   "metadata": {},
   "source": [
    "# Hola Mundo\n",
    "Aquí muestro la tabla para ver los valores"
   ]
  },
  {
   "cell_type": "code",
   "execution_count": 5,
   "metadata": {
    "collapsed": false
   },
   "outputs": [
    {
     "data": {
      "text/html": [
       "<div>\n",
       "<table border=\"1\" class=\"dataframe\">\n",
       "  <thead>\n",
       "    <tr style=\"text-align: right;\">\n",
       "      <th></th>\n",
       "      <th>city</th>\n",
       "      <th>country</th>\n",
       "      <th>latitude</th>\n",
       "      <th>longitude</th>\n",
       "      <th>temperature</th>\n",
       "      <th>category</th>\n",
       "    </tr>\n",
       "  </thead>\n",
       "  <tbody>\n",
       "    <tr>\n",
       "      <th>0</th>\n",
       "      <td>Aalborg</td>\n",
       "      <td>Denmark</td>\n",
       "      <td>57.03</td>\n",
       "      <td>9.92</td>\n",
       "      <td>7.52</td>\n",
       "      <td>cool</td>\n",
       "    </tr>\n",
       "    <tr>\n",
       "      <th>1</th>\n",
       "      <td>Aberdeen</td>\n",
       "      <td>United Kingdom</td>\n",
       "      <td>57.17</td>\n",
       "      <td>-2.08</td>\n",
       "      <td>8.10</td>\n",
       "      <td>cool</td>\n",
       "    </tr>\n",
       "    <tr>\n",
       "      <th>2</th>\n",
       "      <td>Abisko</td>\n",
       "      <td>Sweden</td>\n",
       "      <td>63.35</td>\n",
       "      <td>18.83</td>\n",
       "      <td>0.20</td>\n",
       "      <td>cold</td>\n",
       "    </tr>\n",
       "    <tr>\n",
       "      <th>3</th>\n",
       "      <td>Adana</td>\n",
       "      <td>Turkey</td>\n",
       "      <td>36.99</td>\n",
       "      <td>35.32</td>\n",
       "      <td>18.67</td>\n",
       "      <td>hot</td>\n",
       "    </tr>\n",
       "    <tr>\n",
       "      <th>4</th>\n",
       "      <td>Albacete</td>\n",
       "      <td>Spain</td>\n",
       "      <td>39.00</td>\n",
       "      <td>-1.87</td>\n",
       "      <td>12.62</td>\n",
       "      <td>warm</td>\n",
       "    </tr>\n",
       "  </tbody>\n",
       "</table>\n",
       "</div>"
      ],
      "text/plain": [
       "       city         country  latitude  longitude  temperature category\n",
       "0   Aalborg         Denmark     57.03       9.92         7.52     cool\n",
       "1  Aberdeen  United Kingdom     57.17      -2.08         8.10     cool\n",
       "2    Abisko          Sweden     63.35      18.83         0.20     cold\n",
       "3     Adana          Turkey     36.99      35.32        18.67      hot\n",
       "4  Albacete           Spain     39.00      -1.87        12.62     warm"
      ]
     },
     "execution_count": 5,
     "metadata": {},
     "output_type": "execute_result"
    }
   ],
   "source": [
    "cities.head(5)"
   ]
  },
  {
   "cell_type": "code",
   "execution_count": 6,
   "metadata": {
    "collapsed": false
   },
   "outputs": [
    {
     "name": "stdout",
     "output_type": "stream",
     "text": [
      "Training set 181 items\n",
      "Test set 32 items\n"
     ]
    }
   ],
   "source": [
    "# Create training and test sets for cities data\n",
    "numitems = len(cities)\n",
    "percenttrain = 0.85\n",
    "numtrain = int(numitems*percenttrain)\n",
    "numtest = numitems - numtrain\n",
    "print 'Training set', numtrain, 'items'\n",
    "print'Test set', numtest, 'items'\n",
    "citiesTrain = cities[0:numtrain]\n",
    "citiesTest = cities[numtrain:numitems]"
   ]
  },
  {
   "cell_type": "code",
   "execution_count": 9,
   "metadata": {
    "collapsed": false
   },
   "outputs": [
    {
     "data": {
      "text/plain": [
       "181"
      ]
     },
     "execution_count": 9,
     "metadata": {},
     "output_type": "execute_result"
    }
   ],
   "source": [
    "numtrain"
   ]
  },
  {
   "cell_type": "code",
   "execution_count": 7,
   "metadata": {
    "collapsed": false
   },
   "outputs": [
    {
     "data": {
      "text/html": [
       "<div>\n",
       "<table border=\"1\" class=\"dataframe\">\n",
       "  <thead>\n",
       "    <tr style=\"text-align: right;\">\n",
       "      <th></th>\n",
       "      <th>city</th>\n",
       "      <th>country</th>\n",
       "      <th>latitude</th>\n",
       "      <th>longitude</th>\n",
       "      <th>temperature</th>\n",
       "      <th>category</th>\n",
       "    </tr>\n",
       "  </thead>\n",
       "  <tbody>\n",
       "    <tr>\n",
       "      <th>0</th>\n",
       "      <td>Aalborg</td>\n",
       "      <td>Denmark</td>\n",
       "      <td>57.03</td>\n",
       "      <td>9.92</td>\n",
       "      <td>7.52</td>\n",
       "      <td>cool</td>\n",
       "    </tr>\n",
       "    <tr>\n",
       "      <th>1</th>\n",
       "      <td>Aberdeen</td>\n",
       "      <td>United Kingdom</td>\n",
       "      <td>57.17</td>\n",
       "      <td>-2.08</td>\n",
       "      <td>8.10</td>\n",
       "      <td>cool</td>\n",
       "    </tr>\n",
       "    <tr>\n",
       "      <th>2</th>\n",
       "      <td>Abisko</td>\n",
       "      <td>Sweden</td>\n",
       "      <td>63.35</td>\n",
       "      <td>18.83</td>\n",
       "      <td>0.20</td>\n",
       "      <td>cold</td>\n",
       "    </tr>\n",
       "    <tr>\n",
       "      <th>3</th>\n",
       "      <td>Adana</td>\n",
       "      <td>Turkey</td>\n",
       "      <td>36.99</td>\n",
       "      <td>35.32</td>\n",
       "      <td>18.67</td>\n",
       "      <td>hot</td>\n",
       "    </tr>\n",
       "    <tr>\n",
       "      <th>4</th>\n",
       "      <td>Albacete</td>\n",
       "      <td>Spain</td>\n",
       "      <td>39.00</td>\n",
       "      <td>-1.87</td>\n",
       "      <td>12.62</td>\n",
       "      <td>warm</td>\n",
       "    </tr>\n",
       "  </tbody>\n",
       "</table>\n",
       "</div>"
      ],
      "text/plain": [
       "       city         country  latitude  longitude  temperature category\n",
       "0   Aalborg         Denmark     57.03       9.92         7.52     cool\n",
       "1  Aberdeen  United Kingdom     57.17      -2.08         8.10     cool\n",
       "2    Abisko          Sweden     63.35      18.83         0.20     cold\n",
       "3     Adana          Turkey     36.99      35.32        18.67      hot\n",
       "4  Albacete           Spain     39.00      -1.87        12.62     warm"
      ]
     },
     "execution_count": 7,
     "metadata": {},
     "output_type": "execute_result"
    }
   ],
   "source": [
    "citiesTrain.head(5)"
   ]
  },
  {
   "cell_type": "code",
   "execution_count": 8,
   "metadata": {
    "collapsed": false
   },
   "outputs": [
    {
     "data": {
      "text/html": [
       "<div>\n",
       "<table border=\"1\" class=\"dataframe\">\n",
       "  <thead>\n",
       "    <tr style=\"text-align: right;\">\n",
       "      <th></th>\n",
       "      <th>city</th>\n",
       "      <th>country</th>\n",
       "      <th>latitude</th>\n",
       "      <th>longitude</th>\n",
       "      <th>temperature</th>\n",
       "      <th>category</th>\n",
       "    </tr>\n",
       "  </thead>\n",
       "  <tbody>\n",
       "    <tr>\n",
       "      <th>181</th>\n",
       "      <td>Sivas</td>\n",
       "      <td>Turkey</td>\n",
       "      <td>39.75</td>\n",
       "      <td>37.03</td>\n",
       "      <td>8.05</td>\n",
       "      <td>cool</td>\n",
       "    </tr>\n",
       "    <tr>\n",
       "      <th>182</th>\n",
       "      <td>Skopje</td>\n",
       "      <td>Macedonia</td>\n",
       "      <td>42.00</td>\n",
       "      <td>21.43</td>\n",
       "      <td>9.36</td>\n",
       "      <td>warm</td>\n",
       "    </tr>\n",
       "    <tr>\n",
       "      <th>183</th>\n",
       "      <td>Split</td>\n",
       "      <td>Croatia</td>\n",
       "      <td>43.52</td>\n",
       "      <td>16.47</td>\n",
       "      <td>12.46</td>\n",
       "      <td>warm</td>\n",
       "    </tr>\n",
       "    <tr>\n",
       "      <th>184</th>\n",
       "      <td>Stara Zagora</td>\n",
       "      <td>Bulgaria</td>\n",
       "      <td>42.42</td>\n",
       "      <td>25.62</td>\n",
       "      <td>10.90</td>\n",
       "      <td>warm</td>\n",
       "    </tr>\n",
       "    <tr>\n",
       "      <th>185</th>\n",
       "      <td>Stavanger</td>\n",
       "      <td>Norway</td>\n",
       "      <td>58.97</td>\n",
       "      <td>5.68</td>\n",
       "      <td>5.53</td>\n",
       "      <td>cool</td>\n",
       "    </tr>\n",
       "  </tbody>\n",
       "</table>\n",
       "</div>"
      ],
      "text/plain": [
       "             city    country  latitude  longitude  temperature category\n",
       "181         Sivas     Turkey     39.75      37.03         8.05     cool\n",
       "182        Skopje  Macedonia     42.00      21.43         9.36     warm\n",
       "183         Split    Croatia     43.52      16.47        12.46     warm\n",
       "184  Stara Zagora   Bulgaria     42.42      25.62        10.90     warm\n",
       "185     Stavanger     Norway     58.97       5.68         5.53     cool"
      ]
     },
     "execution_count": 8,
     "metadata": {},
     "output_type": "execute_result"
    }
   ],
   "source": [
    "citiesTest.head(5)"
   ]
  },
  {
   "cell_type": "markdown",
   "metadata": {},
   "source": [
    "### K-nearest-neighbors classification"
   ]
  },
  {
   "cell_type": "code",
   "execution_count": 10,
   "metadata": {
    "collapsed": false
   },
   "outputs": [
    {
     "name": "stdout",
     "output_type": "stream",
     "text": [
      "Predicted: warm  Actual: cool\n",
      "Predicted: warm  Actual: warm\n",
      "Predicted: warm  Actual: warm\n",
      "Predicted: warm  Actual: warm\n",
      "Predicted: cool  Actual: cool\n",
      "Predicted: cool  Actual: cool\n",
      "Predicted: cool  Actual: cool\n",
      "Predicted: cool  Actual: warm\n",
      "Predicted: warm  Actual: warm\n",
      "Predicted: cool  Actual: cold\n",
      "Predicted: cold  Actual: cold\n",
      "Predicted: warm  Actual: warm\n",
      "Predicted: cool  Actual: cold\n",
      "Predicted: warm  Actual: warm\n",
      "Predicted: warm  Actual: warm\n",
      "Predicted: warm  Actual: warm\n",
      "Predicted: warm  Actual: warm\n",
      "Predicted: hot  Actual: hot\n",
      "Predicted: cold  Actual: cold\n",
      "Predicted: cool  Actual: cold\n",
      "Predicted: cool  Actual: cold\n",
      "Predicted: hot  Actual: hot\n",
      "Predicted: cool  Actual: cool\n",
      "Predicted: warm  Actual: warm\n",
      "Predicted: cool  Actual: cool\n",
      "Predicted: cool  Actual: cool\n",
      "Predicted: cool  Actual: cool\n",
      "Predicted: cool  Actual: warm\n",
      "Predicted: warm  Actual: warm\n",
      "Predicted: cool  Actual: cool\n",
      "Predicted: warm  Actual: warm\n",
      "Predicted: cool  Actual: cool\n",
      "Accuracy: 0.78125\n"
     ]
    }
   ],
   "source": [
    "# Predict temperature category from other features\n",
    "features = ['longitude', 'latitude']\n",
    "neighbors = 8\n",
    "classifier = KNeighborsClassifier(neighbors)\n",
    "classifier.fit(citiesTrain[features], citiesTrain['category'])\n",
    "predictions = classifier.predict(citiesTest[features])\n",
    "# Calculate accuracy\n",
    "numtrain = len(citiesTrain)\n",
    "numtest = len(citiesTest)\n",
    "correct = 0\n",
    "for i in range(numtest):\n",
    "    print 'Predicted:', predictions[i], ' Actual:', citiesTest.ix[numtrain+i]['category']\n",
    "    if predictions[i] == citiesTest.ix[numtrain+i]['category']: correct +=1\n",
    "print 'Accuracy:', float(correct)/float(numtest)\n",
    "# Comment out print, play with other values for neighbors, try 'temperature'\n",
    "# as feature"
   ]
  },
  {
   "cell_type": "code",
   "execution_count": 11,
   "metadata": {
    "collapsed": false
   },
   "outputs": [
    {
     "data": {
      "text/plain": [
       "24.96"
      ]
     },
     "execution_count": 11,
     "metadata": {},
     "output_type": "execute_result"
    }
   ],
   "source": [
    ".78*numtest"
   ]
  },
  {
   "cell_type": "code",
   "execution_count": 12,
   "metadata": {
    "collapsed": false
   },
   "outputs": [
    {
     "data": {
      "text/plain": [
       "7.04"
      ]
     },
     "execution_count": 12,
     "metadata": {},
     "output_type": "execute_result"
    }
   ],
   "source": [
    "numtest*.22"
   ]
  },
  {
   "cell_type": "markdown",
   "metadata": {
    "collapsed": true
   },
   "source": [
    "### <font color=\"green\">Your Turn: K-nearest-neighbors on World Cup Data</font>"
   ]
  },
  {
   "cell_type": "code",
   "execution_count": null,
   "metadata": {
    "collapsed": false
   },
   "outputs": [],
   "source": [
    "# Predict position from one or more of minutes, shots, passes, tackles, saves.\n",
    "# This cell does all the set-up, including reordering the data to avoid team bias.\n",
    "f = open('Players.csv','rU')\n",
    "players = pd.read_csv(f)\n",
    "players = players.sort_values(by='surname')\n",
    "players = players.reset_index(drop=True)\n",
    "numitems = len(players)\n",
    "percenttrain = 0.95\n",
    "numtrain = int(numitems*percenttrain)\n",
    "numtest = numitems - numtrain\n",
    "print 'Training set', numtrain, 'items'\n",
    "print'Test set', numtest, 'items'\n",
    "playersTrain = players[0:numtrain]\n",
    "playersTest = players[numtrain:numitems]"
   ]
  },
  {
   "cell_type": "code",
   "execution_count": null,
   "metadata": {
    "collapsed": false
   },
   "outputs": [],
   "source": [
    "# This cell does the classification.\n",
    "# Try different features and different numbers of neighbors.\n",
    "# What's the highest accuracy you can get?\n",
    "features = ['minutes', 'shots', 'passes', 'tackles', 'saves']\n",
    "neighbors = 10\n",
    "classifier = KNeighborsClassifier(neighbors)\n",
    "classifier.fit(playersTrain[features], playersTrain['position'])\n",
    "predictions = classifier.predict(playersTest[features])\n",
    "# Calculate accuracy\n",
    "numtrain = len(playersTrain)\n",
    "numtest = len(playersTest)\n",
    "correct = 0\n",
    "for i in range(numtest):\n",
    "#    print 'Predicted:', predictions[i], ' Actual:', playersTest.ix[numtrain+i]['position']\n",
    "    if predictions[i] == playersTest.ix[numtrain+i]['position']: correct +=1\n",
    "print 'Accuracy:', float(correct)/float(numtest)"
   ]
  },
  {
   "cell_type": "markdown",
   "metadata": {},
   "source": [
    "## Decision tree classification"
   ]
  },
  {
   "cell_type": "code",
   "execution_count": null,
   "metadata": {
    "collapsed": false
   },
   "outputs": [],
   "source": [
    "# Predict temperature category from other features\n",
    "features = ['longitude', 'latitude']\n",
    "featurevals = citiesTrain[features]\n",
    "labels = citiesTrain['category']\n",
    "dt = DecisionTreeClassifier(min_samples_split=10) # parameter is optional\n",
    "dt.fit(featurevals,labels)\n",
    "predictions = dt.predict(citiesTest[features])\n",
    "# Calculate accuracy\n",
    "numtrain = len(citiesTrain)\n",
    "numtest = len(citiesTest)\n",
    "correct = 0\n",
    "for i in range(numtest):\n",
    "#    print 'Predicted:', predictions[i], ' Actual:', citiesTest.ix[numtrain+i]['category']\n",
    "    if predictions[i] == citiesTest.ix[numtrain+i]['category']: correct +=1\n",
    "print 'Accuracy:', float(correct)/float(numtest)\n",
    "# Comment out print, play with other values for min_samples_split, try 'temperature'\n",
    "# as feature "
   ]
  },
  {
   "cell_type": "markdown",
   "metadata": {},
   "source": [
    "### \"Forest\" of decision trees"
   ]
  },
  {
   "cell_type": "code",
   "execution_count": null,
   "metadata": {
    "collapsed": false
   },
   "outputs": [],
   "source": [
    "# Predict temperature category from other features\n",
    "features = ['longitude', 'latitude']\n",
    "featurevals = citiesTrain[features]\n",
    "labels = citiesTrain['category']\n",
    "rf = RandomForestClassifier(n_estimators=10) # number of different decision trees\n",
    "rf.fit(featurevals,labels)\n",
    "predictions = rf.predict(citiesTest[features])\n",
    "# Calculate accuracy\n",
    "numtrain = len(citiesTrain)\n",
    "numtest = len(citiesTest)\n",
    "correct = 0\n",
    "for i in range(numtest):\n",
    "#    print 'Predicted:', predictions[i], ' Actual:', citiesTest.ix[numtrain+i]['category']\n",
    "    if predictions[i] == citiesTest.ix[numtrain+i]['category']: correct +=1\n",
    "print 'Accuracy:', float(correct)/float(numtest)\n",
    "# Comment out print, play with other values for n_estimators"
   ]
  },
  {
   "cell_type": "markdown",
   "metadata": {
    "collapsed": true
   },
   "source": [
    "### <font color=\"green\">Your Turn: Decision tree and forest of trees on World Cup Data</font>"
   ]
  },
  {
   "cell_type": "code",
   "execution_count": null,
   "metadata": {
    "collapsed": false
   },
   "outputs": [],
   "source": [
    "# SINGLE TREE\n",
    "# Predict position from one or more of minutes, shots, passes, tackles, saves.\n",
    "# Try different features and different values for min_samples_split.\n",
    "# What's the highest accuracy you can get?\n",
    "features = ['minutes', 'shots', 'passes', 'tackles', 'saves']\n",
    "featurevals = playersTrain[features]\n",
    "labels = playersTrain['position']\n",
    "dt = DecisionTreeClassifier(min_samples_split=10) # parameter is optional\n",
    "dt.fit(featurevals,labels)\n",
    "predictions = dt.predict(playersTest[features])\n",
    "# Calculate accuracy\n",
    "numtrain = len(playersTrain)\n",
    "numtest = len(playersTest)\n",
    "correct = 0\n",
    "for i in range(numtest):\n",
    "#    print 'Predicted:', predictions[i], ' Actual:', playersTest.ix[numtrain+i]['position']\n",
    "    if predictions[i] == playersTest.ix[numtrain+i]['position']: correct +=1\n",
    "print 'Accuracy:', float(correct)/float(numtest)"
   ]
  },
  {
   "cell_type": "code",
   "execution_count": null,
   "metadata": {
    "collapsed": false
   },
   "outputs": [],
   "source": [
    "# FOREST OF TREES\n",
    "# Predict position from one or more of minutes, shots, passes, tackles, saves.\n",
    "# Try different values for n_estimators.\n",
    "# What's the highest accuracy you can get?\n",
    "features = ['minutes', 'shots', 'passes', 'tackles', 'saves']\n",
    "featurevals = playersTrain[features]\n",
    "labels = playersTrain['position']\n",
    "rf = RandomForestClassifier(n_estimators=10) # number of different decision trees\n",
    "rf.fit(featurevals,labels)\n",
    "predictions = rf.predict(playersTest[features])\n",
    "# Calculate accuracy\n",
    "numtrain = len(playersTrain)\n",
    "numtest = len(playersTest)\n",
    "correct = 0\n",
    "for i in range(numtest):\n",
    "#    print 'Predicted:', predictions[i], ' Actual:', playersTest.ix[numtrain+i]['position']\n",
    "    if predictions[i] == playersTest.ix[numtrain+i]['position']: correct +=1\n",
    "print 'Accuracy:', float(correct)/float(numtest)"
   ]
  },
  {
   "cell_type": "markdown",
   "metadata": {},
   "source": [
    "### Naive Bayes classification"
   ]
  },
  {
   "cell_type": "code",
   "execution_count": null,
   "metadata": {
    "collapsed": false
   },
   "outputs": [],
   "source": [
    "# Predict temperature category from other features\n",
    "features = ['longitude', 'latitude']\n",
    "featurevals = citiesTrain[features]\n",
    "labels = citiesTrain['category']\n",
    "nb = GaussianNB()\n",
    "nb.fit(featurevals,labels)\n",
    "predictions = nb.predict(citiesTest[features])\n",
    "# Calculate accuracy\n",
    "numtrain = len(citiesTrain)\n",
    "numtest = len(citiesTest)\n",
    "correct = 0\n",
    "for i in range(numtest):\n",
    "#    print 'Predicted:', predictions[i], ' Actual:', citiesTest.ix[numtrain+i]['category']\n",
    "    if predictions[i] == citiesTest.ix[numtrain+i]['category']: correct +=1\n",
    "print 'Accuracy:', float(correct)/float(numtest)\n",
    "# Comment out print, try removing 'longitude'"
   ]
  },
  {
   "cell_type": "markdown",
   "metadata": {
    "collapsed": true
   },
   "source": [
    "### <font color=\"green\">Your Turn: Naive Bayes on World Cup Data</font>"
   ]
  },
  {
   "cell_type": "code",
   "execution_count": null,
   "metadata": {
    "collapsed": false
   },
   "outputs": [],
   "source": [
    "# Predict position from one or more of minutes, shots, passes, tackles, saves.\n",
    "# Try different features. What's the highest accuracy you can get?\n",
    "features = ['minutes', 'shots', 'passes', 'tackles', 'saves']\n",
    "featurevals = playersTrain[features]\n",
    "labels = playersTrain['position']\n",
    "nb = GaussianNB()\n",
    "nb.fit(featurevals,labels)\n",
    "predictions = nb.predict(playersTest[features])\n",
    "# Calculate accuracy\n",
    "numtrain = len(playersTrain)\n",
    "numtest = len(playersTest)\n",
    "correct = 0\n",
    "for i in range(numtest):\n",
    "#    print 'Predicted:', predictions[i], ' Actual:', playersTest.ix[numtrain+i]['position']\n",
    "    if predictions[i] == playersTest.ix[numtrain+i]['position']: correct +=1\n",
    "print 'Accuracy:', float(correct)/float(numtest)"
   ]
  }
 ],
 "metadata": {
  "kernelspec": {
   "display_name": "IPython (Python 2)",
   "language": "python",
   "name": "python2"
  },
  "language_info": {
   "codemirror_mode": {
    "name": "ipython",
    "version": 2
   },
   "file_extension": ".py",
   "mimetype": "text/x-python",
   "name": "python",
   "nbconvert_exporter": "python",
   "pygments_lexer": "ipython2",
   "version": "2.7.10"
  }
 },
 "nbformat": 4,
 "nbformat_minor": 0
}
