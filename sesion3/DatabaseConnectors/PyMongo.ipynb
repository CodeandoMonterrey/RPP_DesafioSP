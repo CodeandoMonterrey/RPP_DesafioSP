{
 "cells": [
  {
   "cell_type": "code",
   "execution_count": 1,
   "metadata": {
    "collapsed": true
   },
   "outputs": [],
   "source": [
    "from pymongo import MongoClient\n",
    "client = MongoClient()\n",
    "db = client.db.queue"
   ]
  },
  {
   "cell_type": "code",
   "execution_count": 4,
   "metadata": {
    "collapsed": false
   },
   "outputs": [
    {
     "data": {
      "text/plain": [
       "2620"
      ]
     },
     "execution_count": 4,
     "metadata": {},
     "output_type": "execute_result"
    }
   ],
   "source": [
    "len(list(db.find()))"
   ]
  },
  {
   "cell_type": "code",
   "execution_count": 5,
   "metadata": {
    "collapsed": false
   },
   "outputs": [
    {
     "data": {
      "text/plain": [
       "2680"
      ]
     },
     "execution_count": 5,
     "metadata": {},
     "output_type": "execute_result"
    }
   ],
   "source": [
    "len(list(db.find()))"
   ]
  },
  {
   "cell_type": "code",
   "execution_count": 6,
   "metadata": {
    "collapsed": true
   },
   "outputs": [],
   "source": [
    "elements = list(db.find())"
   ]
  },
  {
   "cell_type": "code",
   "execution_count": 7,
   "metadata": {
    "collapsed": false
   },
   "outputs": [
    {
     "data": {
      "text/plain": [
       "{'_id': ObjectId('58c236d622880048ec513b15'),\n",
       " 'clave': '12100572',\n",
       " 'delegacion': None,\n",
       " 'descripcion': 'AA19GYR47E1017',\n",
       " 'fecha': '',\n",
       " 'monto': '0.00',\n",
       " 'numcompra': None,\n",
       " 'procedimiento': None,\n",
       " 'proveedor': None}"
      ]
     },
     "execution_count": 7,
     "metadata": {},
     "output_type": "execute_result"
    }
   ],
   "source": [
    "elements[0]"
   ]
  },
  {
   "cell_type": "code",
   "execution_count": 11,
   "metadata": {
    "collapsed": true
   },
   "outputs": [],
   "source": [
    "import requests as r\n",
    "from bs4 import BeautifulSoup"
   ]
  },
  {
   "cell_type": "code",
   "execution_count": 12,
   "metadata": {
    "collapsed": true
   },
   "outputs": [],
   "source": [
    "def transaction(transaction_number):\n",
    "    transaction_page = \"http://compras.imss.gob.mx/?P=imsscomprofich&f=\"+ str(transaction_number)\n",
    "    content = r.get(transaction_page)\n",
    "    soup = BeautifulSoup(content.content)\n",
    "    local_data = {}\n",
    "    for span in soup.findAll(\"span\", {\"class\":\"txtdesccaja\"}):\n",
    "        split_span = span.text.replace(\"\\n\",\"\").strip().split(\":\")\n",
    "        name = split_span[0]\n",
    "        content = \" \".join(split_span[1:])\n",
    "        local_data[name]=content\n",
    "    return(local_data)"
   ]
  },
  {
   "cell_type": "code",
   "execution_count": 13,
   "metadata": {
    "collapsed": false
   },
   "outputs": [
    {
     "name": "stderr",
     "output_type": "stream",
     "text": [
      "/usr/local/lib/python3.4/site-packages/bs4/__init__.py:166: UserWarning: No parser was explicitly specified, so I'm using the best available HTML parser for this system (\"lxml\"). This usually isn't a problem, but if you run this code on another system, or in a different virtual environment, it may use a different parser and behave differently.\n",
      "\n",
      "To get rid of this warning, change this:\n",
      "\n",
      " BeautifulSoup([your markup])\n",
      "\n",
      "to this:\n",
      "\n",
      " BeautifulSoup([your markup], \"lxml\")\n",
      "\n",
      "  markup_type=markup_type))\n"
     ]
    },
    {
     "data": {
      "text/plain": [
       "{'# Contrato': ' U170034',\n",
       " 'Ambito de licitación': ' Nacional',\n",
       " 'Cantidad': ' 30255',\n",
       " 'DISTRIBUIDORA INTER. DE MEDS. Y EQ. MEDICO, SA CV': '',\n",
       " 'Delegación del IMSS': ' Oficinas Centrales',\n",
       " 'Descripción': ' SEVOFLURANO, LIQUIDO, CADA ENVASE CONTIENE  SEVOFLURANO 250 ML. ENVASE CON 250  MILILITROS DE LIQUIDO.',\n",
       " 'Estado de la República': ' Nivel Central',\n",
       " 'Estatus del contrato': ' VIGENTE',\n",
       " 'Fecha de fin de contrato': ' 31/12/2017',\n",
       " 'Fecha de inicio de contrato': ' 01/03/2017',\n",
       " 'No. Procedimiento': ' AA19GYR47E1017',\n",
       " 'Precio': ' 940.11',\n",
       " 'Precio total': ' $28,443,028.05',\n",
       " 'Procedimiento': ' AA19GYR47E10-17',\n",
       " 'Procedimiento de compra': 'Licitación pública',\n",
       " 'Producto': ' SEVOFLURANO, LIQUIDO, CADA ENVASE CONTIENE  SEVOFLURANO 250 ML. ENVASE CON 250  MILILITROS DE LIQUIDO.',\n",
       " 'Proveedor': ' DISTRIBUIDORA INTER. DE MEDS. Y EQ. MEDICO, SA CV (DIM010319S79)',\n",
       " 'RFC': ' DIM010319S79 [Ver ficha del proveedor]',\n",
       " 'Subprocedimiento de compra': ' N/A',\n",
       " 'Tipo de adquisición': ' Licitación pública',\n",
       " 'Unidad compradora': ' Ofnas Centrales -Reforma- Coordinacion De Abastecimiento'}"
      ]
     },
     "execution_count": 13,
     "metadata": {},
     "output_type": "execute_result"
    }
   ],
   "source": [
    "transaction(\"12100572\")"
   ]
  },
  {
   "cell_type": "code",
   "execution_count": null,
   "metadata": {
    "collapsed": true
   },
   "outputs": [],
   "source": []
  }
 ],
 "metadata": {
  "kernelspec": {
   "display_name": "Python 3",
   "language": "python",
   "name": "python3"
  },
  "language_info": {
   "codemirror_mode": {
    "name": "ipython",
    "version": 3
   },
   "file_extension": ".py",
   "mimetype": "text/x-python",
   "name": "python",
   "nbconvert_exporter": "python",
   "pygments_lexer": "ipython3",
   "version": "3.4.1"
  }
 },
 "nbformat": 4,
 "nbformat_minor": 0
}
