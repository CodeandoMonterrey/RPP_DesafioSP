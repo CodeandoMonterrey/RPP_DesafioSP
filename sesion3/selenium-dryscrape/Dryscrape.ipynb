{
 "cells": [
  {
   "cell_type": "code",
   "execution_count": 1,
   "metadata": {
    "collapsed": true
   },
   "outputs": [],
   "source": [
    "import dryscrape"
   ]
  },
  {
   "cell_type": "code",
   "execution_count": 2,
   "metadata": {
    "collapsed": false
   },
   "outputs": [],
   "source": [
    "#http://www.cns.gob.mx/extraviadosWeb/portals/extraviados.portal\n",
    "sess = dryscrape.Session(base_url = \"http://www.cns.gob.mx/extraviadosWeb/portals/\")"
   ]
  },
  {
   "cell_type": "code",
   "execution_count": 3,
   "metadata": {
    "collapsed": false
   },
   "outputs": [],
   "source": [
    "sess.visit(\"extraviados.portal\")"
   ]
  },
  {
   "cell_type": "code",
   "execution_count": 19,
   "metadata": {
    "collapsed": false
   },
   "outputs": [
    {
     "ename": "AttributeError",
     "evalue": "'str' object has no attribute 'text'",
     "output_type": "error",
     "traceback": [
      "\u001b[0;31m---------------------------------------------------------------------------\u001b[0m",
      "\u001b[0;31mAttributeError\u001b[0m                            Traceback (most recent call last)",
      "\u001b[0;32m<ipython-input-19-80bc9f3c2306>\u001b[0m in \u001b[0;36m<module>\u001b[0;34m()\u001b[0m\n\u001b[0;32m----> 1\u001b[0;31m \u001b[0msess\u001b[0m\u001b[0;34m.\u001b[0m\u001b[0mbody\u001b[0m\u001b[0;34m(\u001b[0m\u001b[0;34m)\u001b[0m\u001b[0;34m.\u001b[0m\u001b[0mtext\u001b[0m\u001b[0;34m\u001b[0m\u001b[0m\n\u001b[0m",
      "\u001b[0;31mAttributeError\u001b[0m: 'str' object has no attribute 'text'"
     ]
    }
   ],
   "source": [
    "sess.body().text"
   ]
  },
  {
   "cell_type": "code",
   "execution_count": 5,
   "metadata": {
    "collapsed": true
   },
   "outputs": [],
   "source": [
    "sess.render(\"output_dryscrape_1.png\")"
   ]
  },
  {
   "cell_type": "code",
   "execution_count": 7,
   "metadata": {
    "collapsed": true
   },
   "outputs": [],
   "source": [
    "search_term = \"gutierrez\""
   ]
  },
  {
   "cell_type": "code",
   "execution_count": 8,
   "metadata": {
    "collapsed": false
   },
   "outputs": [],
   "source": [
    "q = sess.at_xpath('//*[@name=\"Extra_FlowController_1{actionForm.paterno}\"]')\n",
    "q.set(search_term)\n",
    "sess.render(\"output_dryscrape_gutierrez.png\")\n",
    "q.form().submit()\n",
    "sess.render(\"output_dryscrape_2.png\")"
   ]
  },
  {
   "cell_type": "code",
   "execution_count": 9,
   "metadata": {
    "collapsed": true
   },
   "outputs": [],
   "source": [
    "from bs4 import BeautifulSoup"
   ]
  },
  {
   "cell_type": "code",
   "execution_count": 10,
   "metadata": {
    "collapsed": false
   },
   "outputs": [
    {
     "name": "stderr",
     "output_type": "stream",
     "text": [
      "/usr/local/lib/python3.4/site-packages/bs4/__init__.py:166: UserWarning: No parser was explicitly specified, so I'm using the best available HTML parser for this system (\"lxml\"). This usually isn't a problem, but if you run this code on another system, or in a different virtual environment, it may use a different parser and behave differently.\n",
      "\n",
      "To get rid of this warning, change this:\n",
      "\n",
      " BeautifulSoup([your markup])\n",
      "\n",
      "to this:\n",
      "\n",
      " BeautifulSoup([your markup], \"lxml\")\n",
      "\n",
      "  markup_type=markup_type))\n"
     ]
    }
   ],
   "source": [
    "soup =  BeautifulSoup(sess.body())"
   ]
  },
  {
   "cell_type": "code",
   "execution_count": 16,
   "metadata": {
    "collapsed": false
   },
   "outputs": [
    {
     "data": {
      "text/plain": [
       "3"
      ]
     },
     "execution_count": 16,
     "metadata": {},
     "output_type": "execute_result"
    }
   ],
   "source": [
    "len(soup.findAll(\"table\")[2].findAll(\"tr\"))"
   ]
  },
  {
   "cell_type": "code",
   "execution_count": 22,
   "metadata": {
    "collapsed": false
   },
   "outputs": [
    {
     "data": {
      "text/plain": [
       "True"
      ]
     },
     "execution_count": 22,
     "metadata": {},
     "output_type": "execute_result"
    }
   ],
   "source": [
    "\"gutierrez\" in soup.findAll(\"table\")[5].text.lower()"
   ]
  },
  {
   "cell_type": "code",
   "execution_count": 35,
   "metadata": {
    "collapsed": false
   },
   "outputs": [
    {
     "data": {
      "text/plain": [
       "<table width=\"760\">\n",
       "<tbody><tr width=\"770\">\n",
       "<td align=\"left\" height=\"155\" valign=\"top\" width=\"235\">\n",
       "<table border=\"1\" bordercolor=\"#006699\" cellpadding=\"0\" cellspacing=\"0\" height=\"155\" width=\"257\">\n",
       "<tbody><tr>\n",
       "<td height=\"155\" width=\"245\">\n",
       "<table cellpadding=\"0\" cellspacing=\"0\" height=\"155\" width=\"245\">\n",
       "<tbody><tr>\n",
       "<td rowspan=\"5\" width=\"10\">\n",
       "<a href=\"http://www.cns.gob.mx:80/extraviadosWeb/portals/extraviados.portal?_nfpb=true&amp;_st=&amp;_windowLabel=Extra_FlowController_1&amp;Extra_FlowController_1_actionOverride=%2FConsulta%2FExtra_Flow%2FBuscaDetallePersonaB&amp;Extra_FlowController_1pag=despliegaB&amp;_nfls=false&amp;_nfls=false&amp;Extra_FlowController_1id=15589\"><img alt=\"Foto\" border=\"0\" src=\"/extraviadosWeb/Consulta/Extra_Flow/./../../Consulta/resources/images/silueta1.jpg\"/></a>\n",
       "</td>\n",
       "<td align=\"left\" class=\"texto\" colspan=\"2\" valign=\"top\" width=\"235\">\n",
       "<a class=\"texto\" href=\"http://www.cns.gob.mx:80/extraviadosWeb/portals/extraviados.portal?_nfpb=true&amp;_st=&amp;_windowLabel=Extra_FlowController_1&amp;Extra_FlowController_1_actionOverride=%2FConsulta%2FExtra_Flow%2FBuscaDetallePersonaB&amp;Extra_FlowController_1pag=despliegaB&amp;_nfls=false&amp;_nfls=false&amp;Extra_FlowController_1id=15589\">GUTIERREZ  MORENO MARIA JULIA</a>\n",
       "</td>\n",
       "</tr>\n",
       "<tr>\n",
       "<td align=\"left\" class=\"texto\" colspan=\"2\" valign=\"top\">17   años </td>\n",
       "</tr>\n",
       "<tr>\n",
       "<td align=\"left\" class=\"textoNegrita\" colspan=\"2\" valign=\"top\">Se extravio:    13/02/2017</td>\n",
       "</tr>\n",
       "<tr>\n",
       "<td align=\"left\" class=\"texto\" colspan=\"2\" valign=\"top\">Lugar:  CALLE LAS FLORES ESQUINA CON ... </td>\n",
       "</tr>\n",
       "<tr>\n",
       "<td align=\"left\" class=\"texto\" valign=\"middle\" width=\"50%\">\n",
       "<a href=\"../Consulta/Extra_Flow/ImprimeVolantePersonaB.do?id=15589\" onclick=\"javascript:window.open('../Consulta/Extra_Flow/ImprimeVolantePersonaB.do?id=15589', 'Impresion', 'width=800,height=800, scrollbars=yes, toolbar=1');return false\" target=\"_blank\">\n",
       "<img align=\"left\" alt=\"imprimir\" border=\"0\" height=\"29\" src=\"../Consulta/resources/images/imprimir.jpg\" width=\"29\"/>\n",
       "</a>\n",
       "</td>\n",
       "<td align=\"right\" class=\"texto\" valign=\"middle\" width=\"50%\">\n",
       "<a href=\"/wpsipe/introduccion_pistas.jsp?clave=EXTFK170015589\" onclick=\"javascript:window.open('/wpsipe/introduccion_pistas.jsp?clave=EXTFK170015589','Pistas','top=0,left=0,toolbar=0,directories=0,location=0,status=0,menubar=0,resizable=yes, width=1000,height=650, scrollbars=yes,');return false\" target=\"_blank\">\n",
       "<img align=\"right\" alt=\"Pistas\" border=\"0\" height=\"24\" src=\"/extraviadosWeb/Consulta/resources/images/pistas.jpg\" width=\"79\"/>\n",
       "</a>\n",
       "</td>\n",
       "</tr>\n",
       "</tbody></table>\n",
       "</td>\n",
       "</tr>\n",
       "</tbody></table>\n",
       "</td>\n",
       "<td align=\"left\" height=\"155\" valign=\"top\" width=\"235\">\n",
       "<table border=\"1\" bordercolor=\"#006699\" cellpadding=\"0\" cellspacing=\"0\" height=\"155\" width=\"257\">\n",
       "<tbody><tr>\n",
       "<td height=\"155\" width=\"245\">\n",
       "<table cellpadding=\"0\" cellspacing=\"0\" height=\"155\" width=\"245\">\n",
       "<tbody><tr>\n",
       "<td rowspan=\"5\" width=\"10\">\n",
       "<a href=\"http://www.cns.gob.mx:80/extraviadosWeb/portals/extraviados.portal?_nfpb=true&amp;_st=&amp;_windowLabel=Extra_FlowController_1&amp;Extra_FlowController_1_actionOverride=%2FConsulta%2FExtra_Flow%2FBuscaDetallePersonaB&amp;Extra_FlowController_1pag=despliegaB&amp;_nfls=false&amp;_nfls=false&amp;Extra_FlowController_1id=15601\"><img alt=\"Foto\" border=\"0\" src=\"/extraviadosWeb/showImage?campophoto=PE_BIMG1&amp;photoid=15601\"/></a>\n",
       "</td>\n",
       "<td align=\"left\" class=\"texto\" colspan=\"2\" valign=\"top\" width=\"235\">\n",
       "<a class=\"texto\" href=\"http://www.cns.gob.mx:80/extraviadosWeb/portals/extraviados.portal?_nfpb=true&amp;_st=&amp;_windowLabel=Extra_FlowController_1&amp;Extra_FlowController_1_actionOverride=%2FConsulta%2FExtra_Flow%2FBuscaDetallePersonaB&amp;Extra_FlowController_1pag=despliegaB&amp;_nfls=false&amp;_nfls=false&amp;Extra_FlowController_1id=15601\">GUTIERREZ  REYES DULCE MARIA</a>\n",
       "</td>\n",
       "</tr>\n",
       "<tr>\n",
       "<td align=\"left\" class=\"texto\" colspan=\"2\" valign=\"top\">26   años </td>\n",
       "</tr>\n",
       "<tr>\n",
       "<td align=\"left\" class=\"textoNegrita\" colspan=\"2\" valign=\"top\">Se extravio:    15/12/2016</td>\n",
       "</tr>\n",
       "<tr>\n",
       "<td align=\"left\" class=\"texto\" colspan=\"2\" valign=\"top\">Lugar:  SE DESCONOCE... </td>\n",
       "</tr>\n",
       "<tr>\n",
       "<td align=\"left\" class=\"texto\" valign=\"middle\" width=\"50%\">\n",
       "<a href=\"../Consulta/Extra_Flow/ImprimeVolantePersonaB.do?id=15601\" onclick=\"javascript:window.open('../Consulta/Extra_Flow/ImprimeVolantePersonaB.do?id=15601', 'Impresion', 'width=800,height=800, scrollbars=yes, toolbar=1');return false\" target=\"_blank\">\n",
       "<img align=\"left\" alt=\"imprimir\" border=\"0\" height=\"29\" src=\"../Consulta/resources/images/imprimir.jpg\" width=\"29\"/>\n",
       "</a>\n",
       "</td>\n",
       "<td align=\"right\" class=\"texto\" valign=\"middle\" width=\"50%\">\n",
       "<a href=\"/wpsipe/introduccion_pistas.jsp?clave=EXTWO170015601\" onclick=\"javascript:window.open('/wpsipe/introduccion_pistas.jsp?clave=EXTWO170015601','Pistas','top=0,left=0,toolbar=0,directories=0,location=0,status=0,menubar=0,resizable=yes, width=1000,height=650, scrollbars=yes,');return false\" target=\"_blank\">\n",
       "<img align=\"right\" alt=\"Pistas\" border=\"0\" height=\"24\" src=\"/extraviadosWeb/Consulta/resources/images/pistas.jpg\" width=\"79\"/>\n",
       "</a>\n",
       "</td>\n",
       "</tr>\n",
       "</tbody></table>\n",
       "</td>\n",
       "</tr>\n",
       "</tbody></table>\n",
       "</td>\n",
       "<td align=\"left\" height=\"155\" valign=\"top\" width=\"235\">\n",
       "<table border=\"1\" bordercolor=\"#006699\" cellpadding=\"0\" cellspacing=\"0\" height=\"155\" width=\"257\">\n",
       "<tbody><tr>\n",
       "<td height=\"155\" width=\"245\">\n",
       "<table cellpadding=\"0\" cellspacing=\"0\" height=\"155\" width=\"245\">\n",
       "<tbody><tr>\n",
       "<td rowspan=\"5\" width=\"10\">\n",
       "<a href=\"http://www.cns.gob.mx:80/extraviadosWeb/portals/extraviados.portal?_nfpb=true&amp;_st=&amp;_windowLabel=Extra_FlowController_1&amp;Extra_FlowController_1_actionOverride=%2FConsulta%2FExtra_Flow%2FBuscaDetallePersonaB&amp;Extra_FlowController_1pag=despliegaB&amp;_nfls=false&amp;_nfls=false&amp;Extra_FlowController_1id=14788\"><img alt=\"Foto\" border=\"0\" src=\"/extraviadosWeb/showImage?campophoto=PE_BIMG1&amp;photoid=14788\"/></a>\n",
       "</td>\n",
       "<td align=\"left\" class=\"texto\" colspan=\"2\" valign=\"top\" width=\"235\">\n",
       "<a class=\"texto\" href=\"http://www.cns.gob.mx:80/extraviadosWeb/portals/extraviados.portal?_nfpb=true&amp;_st=&amp;_windowLabel=Extra_FlowController_1&amp;Extra_FlowController_1_actionOverride=%2FConsulta%2FExtra_Flow%2FBuscaDetallePersonaB&amp;Extra_FlowController_1pag=despliegaB&amp;_nfls=false&amp;_nfls=false&amp;Extra_FlowController_1id=14788\">GUTIERREZ  FUENTES MELINA LINETTE</a>\n",
       "</td>\n",
       "</tr>\n",
       "<tr>\n",
       "<td align=\"left\" class=\"texto\" colspan=\"2\" valign=\"top\">17   años </td>\n",
       "</tr>\n",
       "<tr>\n",
       "<td align=\"left\" class=\"textoNegrita\" colspan=\"2\" valign=\"top\">Se extravio:    04/10/2015</td>\n",
       "</tr>\n",
       "<tr>\n",
       "<td align=\"left\" class=\"texto\" colspan=\"2\" valign=\"top\">Lugar:  EN LA CASA DE LA MENOR ... </td>\n",
       "</tr>\n",
       "<tr>\n",
       "<td align=\"left\" class=\"texto\" valign=\"middle\" width=\"50%\">\n",
       "<a href=\"../Consulta/Extra_Flow/ImprimeVolantePersonaB.do?id=14788\" onclick=\"javascript:window.open('../Consulta/Extra_Flow/ImprimeVolantePersonaB.do?id=14788', 'Impresion', 'width=800,height=800, scrollbars=yes, toolbar=1');return false\" target=\"_blank\">\n",
       "<img align=\"left\" alt=\"imprimir\" border=\"0\" height=\"29\" src=\"../Consulta/resources/images/imprimir.jpg\" width=\"29\"/>\n",
       "</a>\n",
       "</td>\n",
       "<td align=\"right\" class=\"texto\" valign=\"middle\" width=\"50%\">\n",
       "<a href=\"/wpsipe/introduccion_pistas.jsp?clave=EXTJJ150014788\" onclick=\"javascript:window.open('/wpsipe/introduccion_pistas.jsp?clave=EXTJJ150014788','Pistas','top=0,left=0,toolbar=0,directories=0,location=0,status=0,menubar=0,resizable=yes, width=1000,height=650, scrollbars=yes,');return false\" target=\"_blank\">\n",
       "<img align=\"right\" alt=\"Pistas\" border=\"0\" height=\"24\" src=\"/extraviadosWeb/Consulta/resources/images/pistas.jpg\" width=\"79\"/>\n",
       "</a>\n",
       "</td>\n",
       "</tr>\n",
       "</tbody></table>\n",
       "</td>\n",
       "</tr>\n",
       "</tbody></table>\n",
       "</td>\n",
       "</tr>\n",
       "<tr width=\"770\">\n",
       "<td align=\"left\" height=\"155\" valign=\"top\" width=\"235\">\n",
       "<table border=\"1\" bordercolor=\"#006699\" cellpadding=\"0\" cellspacing=\"0\" height=\"155\" width=\"257\">\n",
       "<tbody><tr>\n",
       "<td height=\"155\" width=\"245\">\n",
       "<table cellpadding=\"0\" cellspacing=\"0\" height=\"155\" width=\"245\">\n",
       "<tbody><tr>\n",
       "<td rowspan=\"5\" width=\"10\">\n",
       "<a href=\"http://www.cns.gob.mx:80/extraviadosWeb/portals/extraviados.portal?_nfpb=true&amp;_st=&amp;_windowLabel=Extra_FlowController_1&amp;Extra_FlowController_1_actionOverride=%2FConsulta%2FExtra_Flow%2FBuscaDetallePersonaB&amp;Extra_FlowController_1pag=despliegaB&amp;_nfls=false&amp;_nfls=false&amp;Extra_FlowController_1id=14727\"><img alt=\"Foto\" border=\"0\" src=\"/extraviadosWeb/showImage?campophoto=PE_BIMG1&amp;photoid=14727\"/></a>\n",
       "</td>\n",
       "<td align=\"left\" class=\"texto\" colspan=\"2\" valign=\"top\" width=\"235\">\n",
       "<a class=\"texto\" href=\"http://www.cns.gob.mx:80/extraviadosWeb/portals/extraviados.portal?_nfpb=true&amp;_st=&amp;_windowLabel=Extra_FlowController_1&amp;Extra_FlowController_1_actionOverride=%2FConsulta%2FExtra_Flow%2FBuscaDetallePersonaB&amp;Extra_FlowController_1pag=despliegaB&amp;_nfls=false&amp;_nfls=false&amp;Extra_FlowController_1id=14727\">GUTIERREZ  NORIEGA ANDREA YARETH</a>\n",
       "</td>\n",
       "</tr>\n",
       "<tr>\n",
       "<td align=\"left\" class=\"texto\" colspan=\"2\" valign=\"top\">23   años </td>\n",
       "</tr>\n",
       "<tr>\n",
       "<td align=\"left\" class=\"textoNegrita\" colspan=\"2\" valign=\"top\">Se extravio:    30/07/2015</td>\n",
       "</tr>\n",
       "<tr>\n",
       "<td align=\"left\" class=\"texto\" colspan=\"2\" valign=\"top\">Lugar:  VERACRUZ... </td>\n",
       "</tr>\n",
       "<tr>\n",
       "<td align=\"left\" class=\"texto\" valign=\"middle\" width=\"50%\">\n",
       "<a href=\"../Consulta/Extra_Flow/ImprimeVolantePersonaB.do?id=14727\" onclick=\"javascript:window.open('../Consulta/Extra_Flow/ImprimeVolantePersonaB.do?id=14727', 'Impresion', 'width=800,height=800, scrollbars=yes, toolbar=1');return false\" target=\"_blank\">\n",
       "<img align=\"left\" alt=\"imprimir\" border=\"0\" height=\"29\" src=\"../Consulta/resources/images/imprimir.jpg\" width=\"29\"/>\n",
       "</a>\n",
       "</td>\n",
       "<td align=\"right\" class=\"texto\" valign=\"middle\" width=\"50%\">\n",
       "<a href=\"/wpsipe/introduccion_pistas.jsp?clave=EXTNR150014727\" onclick=\"javascript:window.open('/wpsipe/introduccion_pistas.jsp?clave=EXTNR150014727','Pistas','top=0,left=0,toolbar=0,directories=0,location=0,status=0,menubar=0,resizable=yes, width=1000,height=650, scrollbars=yes,');return false\" target=\"_blank\">\n",
       "<img align=\"right\" alt=\"Pistas\" border=\"0\" height=\"24\" src=\"/extraviadosWeb/Consulta/resources/images/pistas.jpg\" width=\"79\"/>\n",
       "</a>\n",
       "</td>\n",
       "</tr>\n",
       "</tbody></table>\n",
       "</td>\n",
       "</tr>\n",
       "</tbody></table>\n",
       "</td>\n",
       "<td align=\"left\" height=\"155\" valign=\"top\" width=\"235\">\n",
       "<table border=\"1\" bordercolor=\"#006699\" cellpadding=\"0\" cellspacing=\"0\" height=\"155\" width=\"257\">\n",
       "<tbody><tr>\n",
       "<td height=\"155\" width=\"245\">\n",
       "<table cellpadding=\"0\" cellspacing=\"0\" height=\"155\" width=\"245\">\n",
       "<tbody><tr>\n",
       "<td rowspan=\"5\" width=\"10\">\n",
       "<a href=\"http://www.cns.gob.mx:80/extraviadosWeb/portals/extraviados.portal?_nfpb=true&amp;_st=&amp;_windowLabel=Extra_FlowController_1&amp;Extra_FlowController_1_actionOverride=%2FConsulta%2FExtra_Flow%2FBuscaDetallePersonaB&amp;Extra_FlowController_1pag=despliegaB&amp;_nfls=false&amp;_nfls=false&amp;Extra_FlowController_1id=15162\"><img alt=\"Foto\" border=\"0\" src=\"/extraviadosWeb/showImage?campophoto=PE_BIMG1&amp;photoid=15162\"/></a>\n",
       "</td>\n",
       "<td align=\"left\" class=\"texto\" colspan=\"2\" valign=\"top\" width=\"235\">\n",
       "<a class=\"texto\" href=\"http://www.cns.gob.mx:80/extraviadosWeb/portals/extraviados.portal?_nfpb=true&amp;_st=&amp;_windowLabel=Extra_FlowController_1&amp;Extra_FlowController_1_actionOverride=%2FConsulta%2FExtra_Flow%2FBuscaDetallePersonaB&amp;Extra_FlowController_1pag=despliegaB&amp;_nfls=false&amp;_nfls=false&amp;Extra_FlowController_1id=15162\">GUTIERREZ  NORIEGA YARET ANDREA</a>\n",
       "</td>\n",
       "</tr>\n",
       "<tr>\n",
       "<td align=\"left\" class=\"texto\" colspan=\"2\" valign=\"top\">20   años </td>\n",
       "</tr>\n",
       "<tr>\n",
       "<td align=\"left\" class=\"textoNegrita\" colspan=\"2\" valign=\"top\">Se extravio:    29/07/2015</td>\n",
       "</tr>\n",
       "<tr>\n",
       "<td align=\"left\" class=\"texto\" colspan=\"2\" valign=\"top\">Lugar:  DISTRITO FEDERAL... </td>\n",
       "</tr>\n",
       "<tr>\n",
       "<td align=\"left\" class=\"texto\" valign=\"middle\" width=\"50%\">\n",
       "<a href=\"../Consulta/Extra_Flow/ImprimeVolantePersonaB.do?id=15162\" onclick=\"javascript:window.open('../Consulta/Extra_Flow/ImprimeVolantePersonaB.do?id=15162', 'Impresion', 'width=800,height=800, scrollbars=yes, toolbar=1');return false\" target=\"_blank\">\n",
       "<img align=\"left\" alt=\"imprimir\" border=\"0\" height=\"29\" src=\"../Consulta/resources/images/imprimir.jpg\" width=\"29\"/>\n",
       "</a>\n",
       "</td>\n",
       "<td align=\"right\" class=\"texto\" valign=\"middle\" width=\"50%\">\n",
       "<a href=\"/wpsipe/introduccion_pistas.jsp?clave=EXTGK160015162\" onclick=\"javascript:window.open('/wpsipe/introduccion_pistas.jsp?clave=EXTGK160015162','Pistas','top=0,left=0,toolbar=0,directories=0,location=0,status=0,menubar=0,resizable=yes, width=1000,height=650, scrollbars=yes,');return false\" target=\"_blank\">\n",
       "<img align=\"right\" alt=\"Pistas\" border=\"0\" height=\"24\" src=\"/extraviadosWeb/Consulta/resources/images/pistas.jpg\" width=\"79\"/>\n",
       "</a>\n",
       "</td>\n",
       "</tr>\n",
       "</tbody></table>\n",
       "</td>\n",
       "</tr>\n",
       "</tbody></table>\n",
       "</td>\n",
       "<td align=\"left\" height=\"155\" valign=\"top\" width=\"235\">\n",
       "<table border=\"1\" bordercolor=\"#006699\" cellpadding=\"0\" cellspacing=\"0\" height=\"155\" width=\"257\">\n",
       "<tbody><tr>\n",
       "<td height=\"155\" width=\"245\">\n",
       "<table cellpadding=\"0\" cellspacing=\"0\" height=\"155\" width=\"245\">\n",
       "<tbody><tr>\n",
       "<td rowspan=\"5\" width=\"10\">\n",
       "<a href=\"http://www.cns.gob.mx:80/extraviadosWeb/portals/extraviados.portal?_nfpb=true&amp;_st=&amp;_windowLabel=Extra_FlowController_1&amp;Extra_FlowController_1_actionOverride=%2FConsulta%2FExtra_Flow%2FBuscaDetallePersonaB&amp;Extra_FlowController_1pag=despliegaB&amp;_nfls=false&amp;_nfls=false&amp;Extra_FlowController_1id=13913\"><img alt=\"Foto\" border=\"0\" src=\"/extraviadosWeb/showImage?campophoto=PE_BIMG1&amp;photoid=13913\"/></a>\n",
       "</td>\n",
       "<td align=\"left\" class=\"texto\" colspan=\"2\" valign=\"top\" width=\"235\">\n",
       "<a class=\"texto\" href=\"http://www.cns.gob.mx:80/extraviadosWeb/portals/extraviados.portal?_nfpb=true&amp;_st=&amp;_windowLabel=Extra_FlowController_1&amp;Extra_FlowController_1_actionOverride=%2FConsulta%2FExtra_Flow%2FBuscaDetallePersonaB&amp;Extra_FlowController_1pag=despliegaB&amp;_nfls=false&amp;_nfls=false&amp;Extra_FlowController_1id=13913\">GUTIERREZ  GARCIA ZYANYA ODALIS</a>\n",
       "</td>\n",
       "</tr>\n",
       "<tr>\n",
       "<td align=\"left\" class=\"texto\" colspan=\"2\" valign=\"top\">2   años </td>\n",
       "</tr>\n",
       "<tr>\n",
       "<td align=\"left\" class=\"textoNegrita\" colspan=\"2\" valign=\"top\">Se extravio:    19/05/2014</td>\n",
       "</tr>\n",
       "<tr>\n",
       "<td align=\"left\" class=\"texto\" colspan=\"2\" valign=\"top\">Lugar:  AEROPUERTO DEL BAJIO BJX ... </td>\n",
       "</tr>\n",
       "<tr>\n",
       "<td align=\"left\" class=\"texto\" valign=\"middle\" width=\"50%\">\n",
       "<a href=\"../Consulta/Extra_Flow/ImprimeVolantePersonaB.do?id=13913\" onclick=\"javascript:window.open('../Consulta/Extra_Flow/ImprimeVolantePersonaB.do?id=13913', 'Impresion', 'width=800,height=800, scrollbars=yes, toolbar=1');return false\" target=\"_blank\">\n",
       "<img align=\"left\" alt=\"imprimir\" border=\"0\" height=\"29\" src=\"../Consulta/resources/images/imprimir.jpg\" width=\"29\"/>\n",
       "</a>\n",
       "</td>\n",
       "<td align=\"right\" class=\"texto\" valign=\"middle\" width=\"50%\">\n",
       "<a href=\"/wpsipe/introduccion_pistas.jsp?clave=EXTCA140013913\" onclick=\"javascript:window.open('/wpsipe/introduccion_pistas.jsp?clave=EXTCA140013913','Pistas','top=0,left=0,toolbar=0,directories=0,location=0,status=0,menubar=0,resizable=yes, width=1000,height=650, scrollbars=yes,');return false\" target=\"_blank\">\n",
       "<img align=\"right\" alt=\"Pistas\" border=\"0\" height=\"24\" src=\"/extraviadosWeb/Consulta/resources/images/pistas.jpg\" width=\"79\"/>\n",
       "</a>\n",
       "</td>\n",
       "</tr>\n",
       "</tbody></table>\n",
       "</td>\n",
       "</tr>\n",
       "</tbody></table>\n",
       "</td>\n",
       "</tr>\n",
       "<tr width=\"770\">\n",
       "<td align=\"left\" height=\"155\" valign=\"top\" width=\"235\">\n",
       "<table border=\"1\" bordercolor=\"#006699\" cellpadding=\"0\" cellspacing=\"0\" height=\"155\" width=\"257\">\n",
       "<tbody><tr>\n",
       "<td height=\"155\" width=\"245\">\n",
       "<table cellpadding=\"0\" cellspacing=\"0\" height=\"155\" width=\"245\">\n",
       "<tbody><tr>\n",
       "<td rowspan=\"5\" width=\"10\">\n",
       "<a href=\"http://www.cns.gob.mx:80/extraviadosWeb/portals/extraviados.portal?_nfpb=true&amp;_st=&amp;_windowLabel=Extra_FlowController_1&amp;Extra_FlowController_1_actionOverride=%2FConsulta%2FExtra_Flow%2FBuscaDetallePersonaB&amp;Extra_FlowController_1pag=despliegaB&amp;_nfls=false&amp;_nfls=false&amp;Extra_FlowController_1id=13737\"><img alt=\"Foto\" border=\"0\" src=\"/extraviadosWeb/Consulta/Extra_Flow/./../../Consulta/resources/images/silueta1.jpg\"/></a>\n",
       "</td>\n",
       "<td align=\"left\" class=\"texto\" colspan=\"2\" valign=\"top\" width=\"235\">\n",
       "<a class=\"texto\" href=\"http://www.cns.gob.mx:80/extraviadosWeb/portals/extraviados.portal?_nfpb=true&amp;_st=&amp;_windowLabel=Extra_FlowController_1&amp;Extra_FlowController_1_actionOverride=%2FConsulta%2FExtra_Flow%2FBuscaDetallePersonaB&amp;Extra_FlowController_1pag=despliegaB&amp;_nfls=false&amp;_nfls=false&amp;Extra_FlowController_1id=13737\">GUTIERREZ  CAMACHO BRISA NEREYDA</a>\n",
       "</td>\n",
       "</tr>\n",
       "<tr>\n",
       "<td align=\"left\" class=\"texto\" colspan=\"2\" valign=\"top\">14   años </td>\n",
       "</tr>\n",
       "<tr>\n",
       "<td align=\"left\" class=\"textoNegrita\" colspan=\"2\" valign=\"top\">Se extravio:    10/12/2013</td>\n",
       "</tr>\n",
       "<tr>\n",
       "<td align=\"left\" class=\"texto\" colspan=\"2\" valign=\"top\">Lugar:  CIUDAD JUAREZ CHIHUAHUA... </td>\n",
       "</tr>\n",
       "<tr>\n",
       "<td align=\"left\" class=\"texto\" valign=\"middle\" width=\"50%\">\n",
       "<a href=\"../Consulta/Extra_Flow/ImprimeVolantePersonaB.do?id=13737\" onclick=\"javascript:window.open('../Consulta/Extra_Flow/ImprimeVolantePersonaB.do?id=13737', 'Impresion', 'width=800,height=800, scrollbars=yes, toolbar=1');return false\" target=\"_blank\">\n",
       "<img align=\"left\" alt=\"imprimir\" border=\"0\" height=\"29\" src=\"../Consulta/resources/images/imprimir.jpg\" width=\"29\"/>\n",
       "</a>\n",
       "</td>\n",
       "<td align=\"right\" class=\"texto\" valign=\"middle\" width=\"50%\">\n",
       "<a href=\"/wpsipe/introduccion_pistas.jsp?clave=EXTMN130013737\" onclick=\"javascript:window.open('/wpsipe/introduccion_pistas.jsp?clave=EXTMN130013737','Pistas','top=0,left=0,toolbar=0,directories=0,location=0,status=0,menubar=0,resizable=yes, width=1000,height=650, scrollbars=yes,');return false\" target=\"_blank\">\n",
       "<img align=\"right\" alt=\"Pistas\" border=\"0\" height=\"24\" src=\"/extraviadosWeb/Consulta/resources/images/pistas.jpg\" width=\"79\"/>\n",
       "</a>\n",
       "</td>\n",
       "</tr>\n",
       "</tbody></table>\n",
       "</td>\n",
       "</tr>\n",
       "</tbody></table>\n",
       "</td>\n",
       "<td align=\"left\" height=\"155\" valign=\"top\" width=\"235\">\n",
       "<table border=\"1\" bordercolor=\"#006699\" cellpadding=\"0\" cellspacing=\"0\" height=\"155\" width=\"257\">\n",
       "<tbody><tr>\n",
       "<td height=\"155\" width=\"245\">\n",
       "<table cellpadding=\"0\" cellspacing=\"0\" height=\"155\" width=\"245\">\n",
       "<tbody><tr>\n",
       "<td rowspan=\"5\" width=\"10\">\n",
       "<a href=\"http://www.cns.gob.mx:80/extraviadosWeb/portals/extraviados.portal?_nfpb=true&amp;_st=&amp;_windowLabel=Extra_FlowController_1&amp;Extra_FlowController_1_actionOverride=%2FConsulta%2FExtra_Flow%2FBuscaDetallePersonaB&amp;Extra_FlowController_1pag=despliegaB&amp;_nfls=false&amp;_nfls=false&amp;Extra_FlowController_1id=13734\"><img alt=\"Foto\" border=\"0\" src=\"/extraviadosWeb/showImage?campophoto=PE_BIMG1&amp;photoid=13734\"/></a>\n",
       "</td>\n",
       "<td align=\"left\" class=\"texto\" colspan=\"2\" valign=\"top\" width=\"235\">\n",
       "<a class=\"texto\" href=\"http://www.cns.gob.mx:80/extraviadosWeb/portals/extraviados.portal?_nfpb=true&amp;_st=&amp;_windowLabel=Extra_FlowController_1&amp;Extra_FlowController_1_actionOverride=%2FConsulta%2FExtra_Flow%2FBuscaDetallePersonaB&amp;Extra_FlowController_1pag=despliegaB&amp;_nfls=false&amp;_nfls=false&amp;Extra_FlowController_1id=13734\">GUTIERREZ   ESCARCIGA  PERLA ANALI</a>\n",
       "</td>\n",
       "</tr>\n",
       "<tr>\n",
       "<td align=\"left\" class=\"texto\" colspan=\"2\" valign=\"top\">16   años </td>\n",
       "</tr>\n",
       "<tr>\n",
       "<td align=\"left\" class=\"textoNegrita\" colspan=\"2\" valign=\"top\">Se extravio:    06/12/2013</td>\n",
       "</tr>\n",
       "<tr>\n",
       "<td align=\"left\" class=\"texto\" colspan=\"2\" valign=\"top\">Lugar:  JUAREZ CHIHUAHUA... </td>\n",
       "</tr>\n",
       "<tr>\n",
       "<td align=\"left\" class=\"texto\" valign=\"middle\" width=\"50%\">\n",
       "<a href=\"../Consulta/Extra_Flow/ImprimeVolantePersonaB.do?id=13734\" onclick=\"javascript:window.open('../Consulta/Extra_Flow/ImprimeVolantePersonaB.do?id=13734', 'Impresion', 'width=800,height=800, scrollbars=yes, toolbar=1');return false\" target=\"_blank\">\n",
       "<img align=\"left\" alt=\"imprimir\" border=\"0\" height=\"29\" src=\"../Consulta/resources/images/imprimir.jpg\" width=\"29\"/>\n",
       "</a>\n",
       "</td>\n",
       "<td align=\"right\" class=\"texto\" valign=\"middle\" width=\"50%\">\n",
       "<a href=\"/wpsipe/introduccion_pistas.jsp?clave=EXTHO130013734\" onclick=\"javascript:window.open('/wpsipe/introduccion_pistas.jsp?clave=EXTHO130013734','Pistas','top=0,left=0,toolbar=0,directories=0,location=0,status=0,menubar=0,resizable=yes, width=1000,height=650, scrollbars=yes,');return false\" target=\"_blank\">\n",
       "<img align=\"right\" alt=\"Pistas\" border=\"0\" height=\"24\" src=\"/extraviadosWeb/Consulta/resources/images/pistas.jpg\" width=\"79\"/>\n",
       "</a>\n",
       "</td>\n",
       "</tr>\n",
       "</tbody></table>\n",
       "</td>\n",
       "</tr>\n",
       "</tbody></table>\n",
       "</td>\n",
       "<td align=\"left\" height=\"155\" valign=\"top\" width=\"235\">\n",
       "<table border=\"1\" bordercolor=\"#006699\" cellpadding=\"0\" cellspacing=\"0\" height=\"155\" width=\"257\">\n",
       "<tbody><tr>\n",
       "<td height=\"155\" width=\"245\">\n",
       "<table cellpadding=\"0\" cellspacing=\"0\" height=\"155\" width=\"245\">\n",
       "<tbody><tr>\n",
       "<td rowspan=\"5\" width=\"10\">\n",
       "<a href=\"http://www.cns.gob.mx:80/extraviadosWeb/portals/extraviados.portal?_nfpb=true&amp;_st=&amp;_windowLabel=Extra_FlowController_1&amp;Extra_FlowController_1_actionOverride=%2FConsulta%2FExtra_Flow%2FBuscaDetallePersonaB&amp;Extra_FlowController_1pag=despliegaB&amp;_nfls=false&amp;_nfls=false&amp;Extra_FlowController_1id=13638\"><img alt=\"Foto\" border=\"0\" src=\"/extraviadosWeb/showImage?campophoto=PE_BIMG1&amp;photoid=13638\"/></a>\n",
       "</td>\n",
       "<td align=\"left\" class=\"texto\" colspan=\"2\" valign=\"top\" width=\"235\">\n",
       "<a class=\"texto\" href=\"http://www.cns.gob.mx:80/extraviadosWeb/portals/extraviados.portal?_nfpb=true&amp;_st=&amp;_windowLabel=Extra_FlowController_1&amp;Extra_FlowController_1_actionOverride=%2FConsulta%2FExtra_Flow%2FBuscaDetallePersonaB&amp;Extra_FlowController_1pag=despliegaB&amp;_nfls=false&amp;_nfls=false&amp;Extra_FlowController_1id=13638\">GUTIERREZ   TORRES  BLANCA PAOLA</a>\n",
       "</td>\n",
       "</tr>\n",
       "<tr>\n",
       "<td align=\"left\" class=\"texto\" colspan=\"2\" valign=\"top\">46   años </td>\n",
       "</tr>\n",
       "<tr>\n",
       "<td align=\"left\" class=\"textoNegrita\" colspan=\"2\" valign=\"top\">Se extravio:    02/08/2013</td>\n",
       "</tr>\n",
       "<tr>\n",
       "<td align=\"left\" class=\"texto\" colspan=\"2\" valign=\"top\">Lugar:  ATOYAC  VERACRUZ... </td>\n",
       "</tr>\n",
       "<tr>\n",
       "<td align=\"left\" class=\"texto\" valign=\"middle\" width=\"50%\">\n",
       "<a href=\"../Consulta/Extra_Flow/ImprimeVolantePersonaB.do?id=13638\" onclick=\"javascript:window.open('../Consulta/Extra_Flow/ImprimeVolantePersonaB.do?id=13638', 'Impresion', 'width=800,height=800, scrollbars=yes, toolbar=1');return false\" target=\"_blank\">\n",
       "<img align=\"left\" alt=\"imprimir\" border=\"0\" height=\"29\" src=\"../Consulta/resources/images/imprimir.jpg\" width=\"29\"/>\n",
       "</a>\n",
       "</td>\n",
       "<td align=\"right\" class=\"texto\" valign=\"middle\" width=\"50%\">\n",
       "<a href=\"/wpsipe/introduccion_pistas.jsp?clave=EXTWU130013638\" onclick=\"javascript:window.open('/wpsipe/introduccion_pistas.jsp?clave=EXTWU130013638','Pistas','top=0,left=0,toolbar=0,directories=0,location=0,status=0,menubar=0,resizable=yes, width=1000,height=650, scrollbars=yes,');return false\" target=\"_blank\">\n",
       "<img align=\"right\" alt=\"Pistas\" border=\"0\" height=\"24\" src=\"/extraviadosWeb/Consulta/resources/images/pistas.jpg\" width=\"79\"/>\n",
       "</a>\n",
       "</td>\n",
       "</tr>\n",
       "</tbody></table>\n",
       "</td>\n",
       "</tr>\n",
       "</tbody></table>\n",
       "</td>\n",
       "</tr>\n",
       "</tbody></table>"
      ]
     },
     "execution_count": 35,
     "metadata": {},
     "output_type": "execute_result"
    }
   ],
   "source": [
    "soup.findAll(\"table\")[9]"
   ]
  },
  {
   "cell_type": "code",
   "execution_count": 53,
   "metadata": {
    "collapsed": false
   },
   "outputs": [
    {
     "name": "stdout",
     "output_type": "stream",
     "text": [
      "['GUTIERREZ \\xa0MORENO\\xa0MARIA JULIA', '', '', '', '17 \\xa0 años ', '', '', 'Se extravio:  \\xa0 13/02/2017', '', '', 'Lugar:\\xa0 CALLE LAS FLORES ESQUINA CON ...']\n",
      "['GUTIERREZ \\xa0MORENO\\xa0MARIA JULIA', '', '', '', '17 \\xa0 años ', '', '', 'Se extravio:  \\xa0 13/02/2017', '', '', 'Lugar:\\xa0 CALLE LAS FLORES ESQUINA CON ...']\n",
      "['GUTIERREZ \\xa0REYES\\xa0DULCE MARIA', '', '', '', '26 \\xa0 años ', '', '', 'Se extravio:  \\xa0 15/12/2016', '', '', 'Lugar:\\xa0 SE DESCONOCE...']\n",
      "['GUTIERREZ \\xa0REYES\\xa0DULCE MARIA', '', '', '', '26 \\xa0 años ', '', '', 'Se extravio:  \\xa0 15/12/2016', '', '', 'Lugar:\\xa0 SE DESCONOCE...']\n",
      "['GUTIERREZ \\xa0FUENTES\\xa0MELINA LINETTE', '', '', '', '17 \\xa0 años ', '', '', 'Se extravio:  \\xa0 04/10/2015', '', '', 'Lugar:\\xa0 EN LA CASA DE LA MENOR ...']\n",
      "['GUTIERREZ \\xa0FUENTES\\xa0MELINA LINETTE', '', '', '', '17 \\xa0 años ', '', '', 'Se extravio:  \\xa0 04/10/2015', '', '', 'Lugar:\\xa0 EN LA CASA DE LA MENOR ...']\n",
      "['GUTIERREZ \\xa0NORIEGA\\xa0ANDREA YARETH', '', '', '', '23 \\xa0 años ', '', '', 'Se extravio:  \\xa0 30/07/2015', '', '', 'Lugar:\\xa0 VERACRUZ...']\n",
      "['GUTIERREZ \\xa0NORIEGA\\xa0ANDREA YARETH', '', '', '', '23 \\xa0 años ', '', '', 'Se extravio:  \\xa0 30/07/2015', '', '', 'Lugar:\\xa0 VERACRUZ...']\n",
      "['GUTIERREZ \\xa0NORIEGA\\xa0YARET ANDREA', '', '', '', '20 \\xa0 años ', '', '', 'Se extravio:  \\xa0 29/07/2015', '', '', 'Lugar:\\xa0 DISTRITO FEDERAL...']\n",
      "['GUTIERREZ \\xa0NORIEGA\\xa0YARET ANDREA', '', '', '', '20 \\xa0 años ', '', '', 'Se extravio:  \\xa0 29/07/2015', '', '', 'Lugar:\\xa0 DISTRITO FEDERAL...']\n",
      "['GUTIERREZ \\xa0GARCIA\\xa0ZYANYA ODALIS', '', '', '', '2 \\xa0 años ', '', '', 'Se extravio:  \\xa0 19/05/2014', '', '', 'Lugar:\\xa0 AEROPUERTO DEL BAJIO BJX ...']\n",
      "['GUTIERREZ \\xa0GARCIA\\xa0ZYANYA ODALIS', '', '', '', '2 \\xa0 años ', '', '', 'Se extravio:  \\xa0 19/05/2014', '', '', 'Lugar:\\xa0 AEROPUERTO DEL BAJIO BJX ...']\n",
      "['GUTIERREZ \\xa0CAMACHO\\xa0BRISA NEREYDA', '', '', '', '14 \\xa0 años ', '', '', 'Se extravio:  \\xa0 10/12/2013', '', '', 'Lugar:\\xa0 CIUDAD JUAREZ CHIHUAHUA...']\n",
      "['GUTIERREZ \\xa0CAMACHO\\xa0BRISA NEREYDA', '', '', '', '14 \\xa0 años ', '', '', 'Se extravio:  \\xa0 10/12/2013', '', '', 'Lugar:\\xa0 CIUDAD JUAREZ CHIHUAHUA...']\n",
      "['GUTIERREZ  \\xa0ESCARCIGA \\xa0PERLA ANALI', '', '', '', '16 \\xa0 años ', '', '', 'Se extravio:  \\xa0 06/12/2013', '', '', 'Lugar:\\xa0 JUAREZ CHIHUAHUA...']\n",
      "['GUTIERREZ  \\xa0ESCARCIGA \\xa0PERLA ANALI', '', '', '', '16 \\xa0 años ', '', '', 'Se extravio:  \\xa0 06/12/2013', '', '', 'Lugar:\\xa0 JUAREZ CHIHUAHUA...']\n",
      "['GUTIERREZ  \\xa0TORRES \\xa0BLANCA PAOLA', '', '', '', '46 \\xa0 años ', '', '', 'Se extravio:  \\xa0 02/08/2013', '', '', 'Lugar:\\xa0 ATOYAC  VERACRUZ...']\n",
      "['GUTIERREZ  \\xa0TORRES \\xa0BLANCA PAOLA', '', '', '', '46 \\xa0 años ', '', '', 'Se extravio:  \\xa0 02/08/2013', '', '', 'Lugar:\\xa0 ATOYAC  VERACRUZ...']\n"
     ]
    }
   ],
   "source": [
    "for field in  soup.findAll(\"table\")[9].findAll(\"td\"):\n",
    "    data = field.text.strip().split(\"\\n\")\n",
    "    if data[0] != \"\" and len(data)==11:\n",
    "        print(data)"
   ]
  },
  {
   "cell_type": "code",
   "execution_count": 54,
   "metadata": {
    "collapsed": true
   },
   "outputs": [],
   "source": [
    "sess.render(\"output_dryscrape_4.png\")"
   ]
  },
  {
   "cell_type": "code",
   "execution_count": 55,
   "metadata": {
    "collapsed": false
   },
   "outputs": [
    {
     "data": {
      "text/plain": [
       "<a href=\"http://www.cns.gob.mx:80/extraviadosWeb/portals/extraviados.portal?_nfpb=true&amp;_st=&amp;_windowLabel=Extra_FlowController_1&amp;Extra_FlowController_1_actionOverride=%2FConsulta%2FExtra_Flow%2Fsiguientes\"><img alt=\"siguiente\" border=\"0\" src=\"/extraviadosWeb/Consulta/resources/images/siguiente.jpg\"/></a>"
      ]
     },
     "execution_count": 55,
     "metadata": {},
     "output_type": "execute_result"
    }
   ],
   "source": [
    "soup.find(\"a\",{\"href\":\"http://www.cns.gob.mx:80/extraviadosWeb/portals/extraviados.portal?_nfpb=true&_st=&_windowLabel=Extra_FlowController_1&Extra_FlowController_1_actionOverride=%2FConsulta%2FExtra_Flow%2Fsiguientes\"})"
   ]
  },
  {
   "cell_type": "code",
   "execution_count": 60,
   "metadata": {
    "collapsed": false
   },
   "outputs": [],
   "source": [
    "button = sess.at_xpath('//a')"
   ]
  },
  {
   "cell_type": "code",
   "execution_count": 61,
   "metadata": {
    "collapsed": true
   },
   "outputs": [],
   "source": [
    "button.click()"
   ]
  },
  {
   "cell_type": "code",
   "execution_count": 62,
   "metadata": {
    "collapsed": true
   },
   "outputs": [],
   "source": [
    "sess.render(\"output_dryscrape_5.png\")"
   ]
  },
  {
   "cell_type": "code",
   "execution_count": 63,
   "metadata": {
    "collapsed": true
   },
   "outputs": [],
   "source": [
    "q = sess.at_xpath('//*[@name=\"Extra_FlowController_1{actionForm.paterno}\"]')\n",
    "q.set(search_term)\n",
    "sess.render(\"output_dryscrape_gutierrez.png\")\n",
    "q.form().submit()\n",
    "sess.render(\"output_dryscrape_2.png\")"
   ]
  },
  {
   "cell_type": "code",
   "execution_count": 64,
   "metadata": {
    "collapsed": true
   },
   "outputs": [],
   "source": [
    "button = sess.at_xpath('//*[@alt=\"siguiente\"]')\n"
   ]
  },
  {
   "cell_type": "code",
   "execution_count": 65,
   "metadata": {
    "collapsed": true
   },
   "outputs": [],
   "source": [
    "button.click()"
   ]
  },
  {
   "cell_type": "code",
   "execution_count": 66,
   "metadata": {
    "collapsed": true
   },
   "outputs": [],
   "source": [
    "sess.render(\"output_dryscrape_click.png\")"
   ]
  },
  {
   "cell_type": "code",
   "execution_count": null,
   "metadata": {
    "collapsed": true
   },
   "outputs": [],
   "source": []
  }
 ],
 "metadata": {
  "kernelspec": {
   "display_name": "Python 3",
   "language": "python",
   "name": "python3"
  },
  "language_info": {
   "codemirror_mode": {
    "name": "ipython",
    "version": 3
   },
   "file_extension": ".py",
   "mimetype": "text/x-python",
   "name": "python",
   "nbconvert_exporter": "python",
   "pygments_lexer": "ipython3",
   "version": "3.4.1"
  }
 },
 "nbformat": 4,
 "nbformat_minor": 0
}
